{
 "cells": [
  {
   "cell_type": "code",
   "execution_count": 1,
   "metadata": {
    "collapsed": true
   },
   "outputs": [],
   "source": [
    "import sys\n",
    "sys.path.insert(0, r'../../libraries/quetzal')\n",
    "sys.path.insert(0, r'../../libraries/syspy')\n",
    "\n",
    "from quetzal.io import  gtfs_importer\n",
    "from quetzal.model import stepmodel, model\n",
    "\n",
    "import geopandas as gpd"
   ]
  },
  {
   "cell_type": "code",
   "execution_count": 2,
   "metadata": {
    "collapsed": true
   },
   "outputs": [],
   "source": [
    "training_folder = '../../'\n",
    "input_folder = training_folder + r'gis/inputs/'"
   ]
  },
  {
   "cell_type": "code",
   "execution_count": 6,
   "metadata": {},
   "outputs": [
    {
     "name": "stderr",
     "output_type": "stream",
     "text": [
      "read_hdf: : 100%|██████████████████████████████████████████████████████████████████████| 22/22 [00:00<00:00, 53.78it/s]\n"
     ]
    }
   ],
   "source": [
    "sm = stepmodel.read_hdf(training_folder + 'model/preparation/base.hdf')"
   ]
  },
  {
   "cell_type": "code",
   "execution_count": 5,
   "metadata": {},
   "outputs": [
    {
     "name": "stderr",
     "output_type": "stream",
     "text": [
      "read_hdf: : 100%|██████████████████████████████████████████████████████████████████████| 15/15 [00:02<00:00,  7.68it/s]\n"
     ]
    }
   ],
   "source": [
    "sm = stepmodel.read_hdf(training_folder + 'model/model1_assigned_with_road_speed.hdf')"
   ]
  },
  {
   "cell_type": "code",
   "execution_count": 7,
   "metadata": {},
   "outputs": [
    {
     "name": "stdout",
     "output_type": "stream",
     "text": [
      "failed: integrity_test_circular_lines\n",
      "passed: integrity_test_collision\n"
     ]
    },
    {
     "name": "stderr",
     "output_type": "stream",
     "text": [
      "14731it [00:01, 10289.42it/s]\n"
     ]
    },
    {
     "name": "stdout",
     "output_type": "stream",
     "text": [
      "failed: integrity_test_dead_ends\n",
      "failed: integrity_test_isolated_roads\n",
      "passed: integrity_test_nodeset_consistency\n",
      "failed: integrity_test_road_network\n",
      "passed: integrity_test_sequences\n"
     ]
    }
   ],
   "source": [
    "sm.integrity_test_all(errors='ignore')"
   ]
  },
  {
   "cell_type": "code",
   "execution_count": 8,
   "metadata": {
    "collapsed": true
   },
   "outputs": [],
   "source": [
    "import networkx as nx"
   ]
  },
  {
   "cell_type": "code",
   "execution_count": 9,
   "metadata": {
    "collapsed": true
   },
   "outputs": [],
   "source": [
    "g = nx.Graph()"
   ]
  },
  {
   "cell_type": "code",
   "execution_count": 11,
   "metadata": {},
   "outputs": [],
   "source": [
    "g.add_edges_from(sm.road_links[['a', 'b']].values.tolist())"
   ]
  },
  {
   "cell_type": "code",
   "execution_count": 12,
   "metadata": {
    "collapsed": true
   },
   "outputs": [],
   "source": [
    "l = list(nx.connected_component_subgraphs(g))"
   ]
  },
  {
   "cell_type": "code",
   "execution_count": 13,
   "metadata": {},
   "outputs": [
    {
     "data": {
      "text/plain": [
       "11"
      ]
     },
     "execution_count": 13,
     "metadata": {},
     "output_type": "execute_result"
    }
   ],
   "source": [
    "len(l)"
   ]
  },
  {
   "cell_type": "code",
   "execution_count": 18,
   "metadata": {},
   "outputs": [
    {
     "data": {
      "text/plain": [
       "[14708, 2, 4, 2, 2, 2, 2, 2, 2, 2, 3]"
      ]
     },
     "execution_count": 18,
     "metadata": {},
     "output_type": "execute_result"
    }
   ],
   "source": [
    "[len(l[i].nodes) for i in range(11)]"
   ]
  },
  {
   "cell_type": "markdown",
   "metadata": {},
   "source": [
    "# add road"
   ]
  },
  {
   "cell_type": "code",
   "execution_count": 8,
   "metadata": {
    "collapsed": true,
    "scrolled": true
   },
   "outputs": [],
   "source": [
    "road_links = gpd.read_file(input_folder+'road_links.geojson', driver='GeoJSON')\n",
    "road_nodes = gpd.read_file(input_folder+'road_nodes.geojson', driver='GeoJSON')\n",
    "road_nodes.set_index('osmid', inplace=True)\n",
    "\n",
    "sm.road_links = road_links\n",
    "sm.road_nodes = road_nodes"
   ]
  },
  {
   "cell_type": "code",
   "execution_count": 9,
   "metadata": {},
   "outputs": [
    {
     "name": "stderr",
     "output_type": "stream",
     "text": [
      "Reprojecting model from epsg 4326 to epsg 2154: 100%|██████████████████████████████████| 28/28 [00:01<00:00, 17.56it/s]\n"
     ]
    }
   ],
   "source": [
    "sm = sm.change_epsg(2154, 'meter')"
   ]
  },
  {
   "cell_type": "markdown",
   "metadata": {},
   "source": [
    "# road integrity"
   ]
  },
  {
   "cell_type": "code",
   "execution_count": 14,
   "metadata": {
    "scrolled": true
   },
   "outputs": [
    {
     "name": "stdout",
     "output_type": "stream",
     "text": [
      "can not add prefixes on table:  footpaths\n"
     ]
    }
   ],
   "source": [
    "sm.integrity_fix_collision()"
   ]
  },
  {
   "cell_type": "markdown",
   "metadata": {},
   "source": [
    "## road_fix"
   ]
  },
  {
   "cell_type": "code",
   "execution_count": 16,
   "metadata": {},
   "outputs": [
    {
     "name": "stderr",
     "output_type": "stream",
     "text": [
      "direct: 10147it [00:04, 2501.24it/s]\n",
      "reversed: 10147it [00:03, 2599.54it/s]\n",
      "9989it [00:03, 2595.75it/s]\n",
      "direct: 9989it [00:03, 2502.49it/s]\n",
      "reversed: 9989it [00:03, 2530.48it/s]\n",
      "9987it [00:03, 2499.50it/s]\n"
     ]
    }
   ],
   "source": [
    "sm.integrity_fix_road_network(cutoff=10, recursive_depth=5)"
   ]
  },
  {
   "cell_type": "markdown",
   "metadata": {},
   "source": [
    "## road_test"
   ]
  },
  {
   "cell_type": "code",
   "execution_count": 17,
   "metadata": {},
   "outputs": [
    {
     "name": "stderr",
     "output_type": "stream",
     "text": [
      "9987it [00:00, 11229.43it/s]\n"
     ]
    }
   ],
   "source": [
    "sm.integrity_test_dead_ends()"
   ]
  },
  {
   "cell_type": "code",
   "execution_count": 18,
   "metadata": {
    "collapsed": true
   },
   "outputs": [],
   "source": [
    "sm.integrity_fix_nodeset_consistency()"
   ]
  },
  {
   "cell_type": "code",
   "execution_count": 19,
   "metadata": {
    "collapsed": true
   },
   "outputs": [],
   "source": [
    "sm.integrity_test_isolated_roads()"
   ]
  },
  {
   "cell_type": "markdown",
   "metadata": {},
   "source": [
    "# Transport Integrity"
   ]
  },
  {
   "cell_type": "markdown",
   "metadata": {},
   "source": [
    "## transport_fix"
   ]
  },
  {
   "cell_type": "code",
   "execution_count": 20,
   "metadata": {
    "scrolled": true
   },
   "outputs": [
    {
     "name": "stdout",
     "output_type": "stream",
     "text": [
      "dropped broken sequences: ['8226999791364557', '7026391111663108', '126356011531123', '1026353381829393', '6026797241770434', '1026618981581054', '6026797241770433', '1026999531904138', '1026618641034640', '7126352601082481', '1026353381829392', '7826999790881055', '11526352000884475', '1026572650941049', '1026572651003316']\n"
     ]
    }
   ],
   "source": [
    "sm.integrity_fix_collision()\n",
    "sm.integrity_fix_circular_lines()\n",
    "sm.integrity_fix_sequences()"
   ]
  },
  {
   "cell_type": "markdown",
   "metadata": {},
   "source": [
    "## transport_test"
   ]
  },
  {
   "cell_type": "code",
   "execution_count": 21,
   "metadata": {
    "collapsed": true
   },
   "outputs": [],
   "source": [
    "sm.integrity_test_circular_lines()\n",
    "sm.integrity_test_collision()\n",
    "sm.integrity_test_nodeset_consistency()\n",
    "sm.integrity_test_sequences()"
   ]
  },
  {
   "cell_type": "code",
   "execution_count": 22,
   "metadata": {},
   "outputs": [
    {
     "name": "stdout",
     "output_type": "stream",
     "text": [
      "passed: integrity_test_circular_lines\n",
      "passed: integrity_test_collision\n"
     ]
    },
    {
     "name": "stderr",
     "output_type": "stream",
     "text": [
      "9987it [00:00, 10644.04it/s]\n"
     ]
    },
    {
     "name": "stdout",
     "output_type": "stream",
     "text": [
      "passed: integrity_test_dead_ends\n",
      "passed: integrity_test_isolated_roads\n",
      "passed: integrity_test_nodeset_consistency\n"
     ]
    },
    {
     "name": "stderr",
     "output_type": "stream",
     "text": [
      "9987it [00:03, 2559.24it/s]\n"
     ]
    },
    {
     "name": "stdout",
     "output_type": "stream",
     "text": [
      "passed: integrity_test_road_network\n",
      "passed: integrity_test_sequences\n"
     ]
    }
   ],
   "source": [
    "sm.integrity_test_all(errors='raise')"
   ]
  },
  {
   "cell_type": "markdown",
   "metadata": {},
   "source": [
    "# to_file"
   ]
  },
  {
   "cell_type": "code",
   "execution_count": 26,
   "metadata": {},
   "outputs": [
    {
     "name": "stderr",
     "output_type": "stream",
     "text": [
      "to_hdf(overwriting): 100%|█████████████████████████████████████████████████████████████| 33/33 [00:02<00:00, 14.63it/s]\n"
     ]
    },
    {
     "name": "stdout",
     "output_type": "stream",
     "text": [
      "could not save attribute: missing_road_nodes\n"
     ]
    }
   ],
   "source": [
    "sm.to_hdf(training_folder + 'model/preparation/road.hdf')   "
   ]
  },
  {
   "cell_type": "code",
   "execution_count": 25,
   "metadata": {
    "collapsed": true
   },
   "outputs": [],
   "source": [
    "sm.missing_nodes = list(sm.missing_nodes)"
   ]
  },
  {
   "cell_type": "code",
   "execution_count": null,
   "metadata": {
    "collapsed": true
   },
   "outputs": [],
   "source": [
    "s"
   ]
  }
 ],
 "metadata": {
  "kernelspec": {
   "display_name": "Python 3",
   "language": "python",
   "name": "python3"
  },
  "language_info": {
   "codemirror_mode": {
    "name": "ipython",
    "version": 3
   },
   "file_extension": ".py",
   "mimetype": "text/x-python",
   "name": "python",
   "nbconvert_exporter": "python",
   "pygments_lexer": "ipython3",
   "version": "3.6.1"
  }
 },
 "nbformat": 4,
 "nbformat_minor": 2
}
