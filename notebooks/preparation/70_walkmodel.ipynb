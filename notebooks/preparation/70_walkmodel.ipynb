{
 "cells": [
  {
   "cell_type": "code",
   "execution_count": 8,
   "metadata": {
    "collapsed": true
   },
   "outputs": [],
   "source": [
    "import sys\n",
    "sys.path.insert(0, r'../../libraries/quetzal')\n",
    "sys.path.insert(0, r'../../libraries/syspy')\n",
    "\n",
    "from quetzal.io import  gtfs_importer\n",
    "from quetzal.model import stepmodel\n",
    "% matplotlib inline"
   ]
  },
  {
   "cell_type": "code",
   "execution_count": 9,
   "metadata": {
    "collapsed": true
   },
   "outputs": [],
   "source": [
    "training_folder = '../../'"
   ]
  },
  {
   "cell_type": "code",
   "execution_count": 10,
   "metadata": {},
   "outputs": [
    {
     "name": "stderr",
     "output_type": "stream",
     "text": [
      "read_hdf: : 100%|██████████████████████████████████████████████████████████████████████| 22/22 [00:00<00:00, 24.61it/s]\n"
     ]
    }
   ],
   "source": [
    "sm = stepmodel.read_zip(training_folder + r'model/preparation/road_model.zip')\n",
    "#sm = stepmodel.read_hdf(training_folder + 'model/merged_after.hdf')"
   ]
  },
  {
   "cell_type": "markdown",
   "metadata": {},
   "source": [
    "# clustering"
   ]
  },
  {
   "cell_type": "code",
   "execution_count": 11,
   "metadata": {},
   "outputs": [
    {
     "name": "stderr",
     "output_type": "stream",
     "text": [
      "100%|███████████████████████████████████████████████████████████████████████████| 1000/1000 [00:00<00:00, 62583.80it/s]\n"
     ]
    }
   ],
   "source": [
    "sm.preparation_clusterize_nodes(1000)"
   ]
  },
  {
   "cell_type": "markdown",
   "metadata": {},
   "source": [
    "# walkmodel"
   ]
  },
  {
   "cell_type": "code",
   "execution_count": 12,
   "metadata": {
    "collapsed": true,
    "scrolled": true
   },
   "outputs": [],
   "source": [
    "sm.preparation_footpaths()"
   ]
  },
  {
   "cell_type": "code",
   "execution_count": 13,
   "metadata": {
    "collapsed": true
   },
   "outputs": [],
   "source": [
    "threshold = 200\n",
    "sm.preparation_ntlegs(\n",
    "    short_leg_speed=3,\n",
    "    long_leg_speed=10,\n",
    "    threshold=threshold,\n",
    "    zone_to_transit=True,\n",
    "    zone_to_road=True\n",
    ")"
   ]
  },
  {
   "cell_type": "code",
   "execution_count": 14,
   "metadata": {},
   "outputs": [
    {
     "name": "stderr",
     "output_type": "stream",
     "text": [
      "to_hdf(new file): 100%|████████████████████████████████████████████████████████████████| 31/31 [00:03<00:00,  9.01it/s]\n"
     ]
    }
   ],
   "source": [
    "sm.to_zip(training_folder + 'model/preparation/walk_model.zip')  "
   ]
  },
  {
   "cell_type": "code",
   "execution_count": 15,
   "metadata": {},
   "outputs": [
    {
     "name": "stderr",
     "output_type": "stream",
     "text": [
      "to_hdf(overwriting): 100%|█████████████████████████████████████████████████████████████| 31/31 [00:16<00:00,  1.87it/s]\n"
     ]
    }
   ],
   "source": [
    "sm.to_json(\n",
    "    training_folder + 'model/latest', \n",
    "    omitted_attributes=('road_links', 'road_nodes', 'networkcaster_neighbors', 'networkcaster_road_access')  \n",
    ")  "
   ]
  },
  {
   "cell_type": "markdown",
   "metadata": {
    "collapsed": true
   },
   "source": [
    "# zone_to_transit monitoring"
   ]
  },
  {
   "cell_type": "code",
   "execution_count": 16,
   "metadata": {},
   "outputs": [
    {
     "data": {
      "image/png": "[encoded data removed]",
      "text/plain": [
       "<Figure size 432x288 with 1 Axes>"
      ]
     },
     "metadata": {},
     "output_type": "display_data"
    },
    {
     "data": {
      "image/png": "[encoded data removed]",
      "text/plain": [
       "<Figure size 432x288 with 1 Axes>"
      ]
     },
     "metadata": {},
     "output_type": "display_data"
    }
   ],
   "source": [
    "ax = sm.zone_to_transit.plot(kind='scatter', x='distance', y='time')\n",
    "ax.axvline(x=threshold)\n",
    "ax = sm.zone_to_transit.plot(kind='scatter', x='distance', y='speed')"
   ]
  },
  {
   "cell_type": "code",
   "execution_count": null,
   "metadata": {
    "collapsed": true
   },
   "outputs": [],
   "source": []
  }
 ],
 "metadata": {
  "kernelspec": {
   "display_name": "Python 3",
   "language": "python",
   "name": "python3"
  },
  "language_info": {
   "codemirror_mode": {
    "name": "ipython",
    "version": 3
   },
   "file_extension": ".py",
   "mimetype": "text/x-python",
   "name": "python",
   "nbconvert_exporter": "python",
   "pygments_lexer": "ipython3",
   "version": "3.6.1"
  }
 },
 "nbformat": 4,
 "nbformat_minor": 2
}
