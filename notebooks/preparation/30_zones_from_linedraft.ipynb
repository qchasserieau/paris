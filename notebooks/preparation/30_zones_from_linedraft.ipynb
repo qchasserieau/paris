{
 "cells": [
  {
   "cell_type": "code",
   "execution_count": 1,
   "metadata": {
    "collapsed": true
   },
   "outputs": [],
   "source": [
    "import sys\n",
    "sys.path.insert(0, r'../../libraries/quetzal')\n",
    "sys.path.insert(0, r'../../libraries/syspy')\n",
    "\n",
    "import os \n",
    "from syspy.clients.linedraft_client import linedraft_client\n",
    "from quetzal.io import  gtfs_importer\n",
    "from quetzal.model import stepmodel\n",
    "\n",
    "import geopandas as gpd"
   ]
  },
  {
   "cell_type": "code",
   "execution_count": 2,
   "metadata": {
    "collapsed": true
   },
   "outputs": [],
   "source": [
    "training_folder = '../../'\n",
    "gis_folder = training_folder + r'gis/'"
   ]
  },
  {
   "cell_type": "code",
   "execution_count": 3,
   "metadata": {
    "collapsed": true
   },
   "outputs": [],
   "source": [
    "client = linedraft_client.LinedraftClient(api_root='http://swsdev.systra.info/demo/transim/api/')"
   ]
  },
  {
   "cell_type": "code",
   "execution_count": 4,
   "metadata": {
    "collapsed": true
   },
   "outputs": [],
   "source": [
    "links, nodes, zones = client.links_nodes_zones(project_name='idf', scenario_name='idf')"
   ]
  },
  {
   "cell_type": "code",
   "execution_count": 5,
   "metadata": {},
   "outputs": [],
   "source": [
    "export_path = gis_folder + 'inputs/zones.geojson'\n",
    "\n",
    "try:\n",
    "    os.remove(export_path)\n",
    "except FileNotFoundError : \n",
    "    pass\n",
    "\n",
    "gpd.GeoDataFrame(\n",
    "    zones[['pop','emp', 'geometry']]\n",
    ").to_file(export_path, driver=\"GeoJSON\")"
   ]
  },
  {
   "cell_type": "code",
   "execution_count": null,
   "metadata": {
    "collapsed": true
   },
   "outputs": [],
   "source": []
  }
 ],
 "metadata": {
  "kernelspec": {
   "display_name": "Python 3",
   "language": "python",
   "name": "python3"
  },
  "language_info": {
   "codemirror_mode": {
    "name": "ipython",
    "version": 3
   },
   "file_extension": ".py",
   "mimetype": "text/x-python",
   "name": "python",
   "nbconvert_exporter": "python",
   "pygments_lexer": "ipython3",
   "version": "3.6.1"
  }
 },
 "nbformat": 4,
 "nbformat_minor": 2
}
