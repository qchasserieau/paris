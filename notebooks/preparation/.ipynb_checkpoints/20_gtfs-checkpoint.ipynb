{
 "cells": [
  {
   "cell_type": "code",
   "execution_count": 3,
   "metadata": {
    "collapsed": true
   },
   "outputs": [],
   "source": [
    "import os\n",
    "\n",
    "import sys\n",
    "sys.path.insert(0, r'../../libraries/quetzal')\n",
    "sys.path.insert(0, r'../../libraries/syspy')\n",
    "\n",
    "from quetzal.io import  gtfs_importer\n",
    "from imp import reload\n",
    "reload(gtfs_importer)\n",
    "from quetzal.model import stepmodel\n",
    "\n",
    "import geopandas as gpd"
   ]
  },
  {
   "cell_type": "code",
   "execution_count": 6,
   "metadata": {
    "collapsed": true
   },
   "outputs": [],
   "source": [
    "training_folder = '../../'\n",
    "input_folder = training_folder + r'gis/inputs/'\n",
    "gtfs_folder = training_folder + r'data/RATP_GTFS_FULL/'"
   ]
  },
  {
   "cell_type": "code",
   "execution_count": 8,
   "metadata": {
    "collapsed": true
   },
   "outputs": [],
   "source": [
    "importer = gtfs_importer.BaseGtfsImporter(gtfs_folder)\n",
    "importer.read()"
   ]
  },
  {
   "cell_type": "code",
   "execution_count": 9,
   "metadata": {},
   "outputs": [
    {
     "name": "stdout",
     "output_type": "stream",
     "text": [
      "stop_times ['trip_id', 'stop_id'] converted to string\n",
      "trips ['route_id', 'trip_id'] converted to string\n",
      "routes ['route_id'] converted to string\n",
      "stops ['stop_id'] converted to string\n"
     ]
    }
   ],
   "source": [
    "importer.cast_columns_to_string(columns=['trip_id', 'route_id', 'stop_id'])"
   ]
  },
  {
   "cell_type": "markdown",
   "metadata": {},
   "source": [
    "# add colors"
   ]
  },
  {
   "cell_type": "code",
   "execution_count": 10,
   "metadata": {
    "collapsed": true
   },
   "outputs": [],
   "source": [
    "rainbow_shades = [\"#D22328\", \"#559BB4\", \"#91A564\", \"#DC9100\", \"#8C4B7D\", \"#A08C69\",\n",
    "    \"#647D6E\", \"#5A7382\", \"#64411E\", \"#A00037\", \"#643C5A\"]\n",
    "importer.routes['route_color'] = list(rainbow_shades * 10000)[:len(importer.routes)]"
   ]
  },
  {
   "cell_type": "markdown",
   "metadata": {},
   "source": [
    "# build links and nodes"
   ]
  },
  {
   "cell_type": "code",
   "execution_count": 11,
   "metadata": {
    "collapsed": true
   },
   "outputs": [],
   "source": [
    "importer.build()"
   ]
  },
  {
   "cell_type": "markdown",
   "metadata": {},
   "source": [
    "# export "
   ]
  },
  {
   "cell_type": "code",
   "execution_count": 12,
   "metadata": {
    "collapsed": true
   },
   "outputs": [],
   "source": [
    "def to_file(df, file):\n",
    "    try:\n",
    "        os.remove(file)\n",
    "    except FileNotFoundError:\n",
    "        pass\n",
    "\n",
    "    gpd.GeoDataFrame(df).to_file(file, driver=\"GeoJSON\")"
   ]
  },
  {
   "cell_type": "code",
   "execution_count": 15,
   "metadata": {
    "collapsed": true
   },
   "outputs": [],
   "source": [
    "links = importer.links\n",
    "nodes = importer.stops[['geometry', 'stop_id']]"
   ]
  },
  {
   "cell_type": "code",
   "execution_count": 13,
   "metadata": {
    "collapsed": true
   },
   "outputs": [],
   "source": [
    "to_file(\n",
    "    importer.links,\n",
    "    input_folder  + 'links.geojson'\n",
    ")\n",
    "to_file(\n",
    "    nodes,\n",
    "    input_folder  + 'nodes.geojson'\n",
    ")"
   ]
  },
  {
   "cell_type": "markdown",
   "metadata": {},
   "source": [
    "# laius string / int - float / string"
   ]
  },
  {
   "cell_type": "code",
   "execution_count": 14,
   "metadata": {},
   "outputs": [
    {
     "name": "stdout",
     "output_type": "stream",
     "text": [
      "Model epsg not defined: setting epsg to default one: 4326\n",
      "Model coordinates_unit not defined: setting coordinates_unit to default one: degree\n"
     ]
    }
   ],
   "source": [
    "sm = stepmodel.StepModel()"
   ]
  },
  {
   "cell_type": "code",
   "execution_count": 16,
   "metadata": {},
   "outputs": [
    {
     "name": "stderr",
     "output_type": "stream",
     "text": [
      "to_hdf(overwriting): 100%|█████████████████████████████████████████████████████████████| 22/22 [00:19<00:00,  1.11s/it]\n"
     ]
    }
   ],
   "source": [
    "sm.links, sm.nodes = links, nodes\n",
    "sm.to_json(training_folder + r'model/gtfs')"
   ]
  },
  {
   "cell_type": "code",
   "execution_count": null,
   "metadata": {
    "collapsed": true
   },
   "outputs": [],
   "source": []
  }
 ],
 "metadata": {
  "anaconda-cloud": {},
  "kernelspec": {
   "display_name": "Python 3",
   "language": "python",
   "name": "python3"
  },
  "language_info": {
   "codemirror_mode": {
    "name": "ipython",
    "version": 3
   },
   "file_extension": ".py",
   "mimetype": "text/x-python",
   "name": "python",
   "nbconvert_exporter": "python",
   "pygments_lexer": "ipython3",
   "version": "3.6.1"
  }
 },
 "nbformat": 4,
 "nbformat_minor": 2
}
