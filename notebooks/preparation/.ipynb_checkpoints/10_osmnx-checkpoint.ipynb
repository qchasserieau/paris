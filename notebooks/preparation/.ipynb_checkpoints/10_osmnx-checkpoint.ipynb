{
 "cells": [
  {
   "cell_type": "markdown",
   "metadata": {},
   "source": [
    "# OSMNX"
   ]
  },
  {
   "cell_type": "code",
   "execution_count": 23,
   "metadata": {
    "collapsed": true
   },
   "outputs": [],
   "source": [
    "import geopandas as gpd\n",
    "from shapely import geometry\n",
    "import osmnx as ox\n",
    "import geopandas as gpd\n",
    "import os\n",
    "\n",
    "import sys\n",
    "sys.path.insert(0, r'../../libraries/quetzal')\n",
    "sys.path.insert(0, r'../../libraries/syspy')\n",
    "from syspy.spatial.graph.graphbuilder import GraphBuilder, OsmnxCleaner\n",
    "from syspy.spatial.graph import graphbuilder\n",
    "\n",
    "training_folder = '../../'\n",
    "input_folder = training_folder + r'gis/inputs/'"
   ]
  },
  {
   "cell_type": "markdown",
   "metadata": {},
   "source": [
    "# OSMNX API"
   ]
  },
  {
   "cell_type": "code",
   "execution_count": 17,
   "metadata": {
    "collapsed": true
   },
   "outputs": [],
   "source": [
    "drive = ox.graph_from_place('paris', network_type='drive')"
   ]
  },
  {
   "cell_type": "markdown",
   "metadata": {},
   "source": [
    "# export graph to shapefile"
   ]
  },
  {
   "cell_type": "code",
   "execution_count": 18,
   "metadata": {
    "collapsed": true
   },
   "outputs": [],
   "source": [
    "ox.save_graph_shapefile(drive, filename='roads', folder=input_folder)"
   ]
  },
  {
   "cell_type": "markdown",
   "metadata": {},
   "source": [
    "# read shapefile"
   ]
  },
  {
   "cell_type": "code",
   "execution_count": 19,
   "metadata": {
    "collapsed": true
   },
   "outputs": [],
   "source": [
    "road_links = gpd.read_file(input_folder+'roads/edges/edges.shp')\n",
    "road_links['length'] = road_links['length'].astype(float)\n",
    "road_nodes = gpd.read_file(input_folder+'roads/nodes/nodes.shp').set_index('osmid')"
   ]
  },
  {
   "cell_type": "code",
   "execution_count": 20,
   "metadata": {},
   "outputs": [
    {
     "data": {
      "text/html": [
       "<div>\n",
       "<style>\n",
       "    .dataframe thead tr:only-child th {\n",
       "        text-align: right;\n",
       "    }\n",
       "\n",
       "    .dataframe thead th {\n",
       "        text-align: left;\n",
       "    }\n",
       "\n",
       "    .dataframe tbody tr th {\n",
       "        vertical-align: top;\n",
       "    }\n",
       "</style>\n",
       "<table border=\"1\" class=\"dataframe\">\n",
       "  <thead>\n",
       "    <tr style=\"text-align: right;\">\n",
       "      <th></th>\n",
       "      <th>access</th>\n",
       "      <th>area</th>\n",
       "      <th>bridge</th>\n",
       "      <th>from</th>\n",
       "      <th>highway</th>\n",
       "      <th>key</th>\n",
       "      <th>lanes</th>\n",
       "      <th>length</th>\n",
       "      <th>maxspeed</th>\n",
       "      <th>name</th>\n",
       "      <th>oneway</th>\n",
       "      <th>osmid</th>\n",
       "      <th>ref</th>\n",
       "      <th>service</th>\n",
       "      <th>to</th>\n",
       "      <th>tunnel</th>\n",
       "      <th>width</th>\n",
       "      <th>geometry</th>\n",
       "    </tr>\n",
       "  </thead>\n",
       "  <tbody>\n",
       "    <tr>\n",
       "      <th>0</th>\n",
       "      <td>None</td>\n",
       "      <td>None</td>\n",
       "      <td>None</td>\n",
       "      <td>268675130</td>\n",
       "      <td>residential</td>\n",
       "      <td>0</td>\n",
       "      <td>None</td>\n",
       "      <td>8.706154</td>\n",
       "      <td>30</td>\n",
       "      <td>Rue Henri Duvernois</td>\n",
       "      <td>False</td>\n",
       "      <td>315818975</td>\n",
       "      <td>None</td>\n",
       "      <td>None</td>\n",
       "      <td>125730</td>\n",
       "      <td>None</td>\n",
       "      <td>None</td>\n",
       "      <td>LINESTRING (2.4107318 48.8635232, 2.4108343 48...</td>\n",
       "    </tr>\n",
       "  </tbody>\n",
       "</table>\n",
       "</div>"
      ],
      "text/plain": [
       "  access  area bridge       from      highway key lanes    length maxspeed  \\\n",
       "0   None  None   None  268675130  residential   0  None  8.706154       30   \n",
       "\n",
       "                  name oneway      osmid   ref service      to tunnel width  \\\n",
       "0  Rue Henri Duvernois  False  315818975  None    None  125730   None  None   \n",
       "\n",
       "                                            geometry  \n",
       "0  LINESTRING (2.4107318 48.8635232, 2.4108343 48...  "
      ]
     },
     "execution_count": 20,
     "metadata": {},
     "output_type": "execute_result"
    }
   ],
   "source": [
    "road_links.head(1)"
   ]
  },
  {
   "cell_type": "code",
   "execution_count": 6,
   "metadata": {},
   "outputs": [
    {
     "data": {
      "text/html": [
       "<div>\n",
       "<style>\n",
       "    .dataframe thead tr:only-child th {\n",
       "        text-align: right;\n",
       "    }\n",
       "\n",
       "    .dataframe thead th {\n",
       "        text-align: left;\n",
       "    }\n",
       "\n",
       "    .dataframe tbody tr th {\n",
       "        vertical-align: top;\n",
       "    }\n",
       "</style>\n",
       "<table border=\"1\" class=\"dataframe\">\n",
       "  <thead>\n",
       "    <tr style=\"text-align: right;\">\n",
       "      <th></th>\n",
       "      <th>highway</th>\n",
       "      <th>ref</th>\n",
       "      <th>geometry</th>\n",
       "    </tr>\n",
       "    <tr>\n",
       "      <th>osmid</th>\n",
       "      <th></th>\n",
       "      <th></th>\n",
       "      <th></th>\n",
       "    </tr>\n",
       "  </thead>\n",
       "  <tbody>\n",
       "    <tr>\n",
       "      <th>125730</th>\n",
       "      <td>None</td>\n",
       "      <td>None</td>\n",
       "      <td>POINT (2.4107318 48.8635232)</td>\n",
       "    </tr>\n",
       "  </tbody>\n",
       "</table>\n",
       "</div>"
      ],
      "text/plain": [
       "       highway   ref                      geometry\n",
       "osmid                                             \n",
       "125730    None  None  POINT (2.4107318 48.8635232)"
      ]
     },
     "execution_count": 6,
     "metadata": {},
     "output_type": "execute_result"
    }
   ],
   "source": [
    "road_nodes.head(1)"
   ]
  },
  {
   "cell_type": "markdown",
   "metadata": {},
   "source": [
    "# cleaning"
   ]
  },
  {
   "cell_type": "code",
   "execution_count": 32,
   "metadata": {
    "collapsed": true
   },
   "outputs": [],
   "source": [
    "oc = OsmnxCleaner(\n",
    "    road_links, \n",
    "    road_nodes, \n",
    "    a='from', \n",
    "    b='to'\n",
    ")"
   ]
  },
  {
   "cell_type": "code",
   "execution_count": 33,
   "metadata": {},
   "outputs": [
    {
     "name": "stdout",
     "output_type": "stream",
     "text": [
      "Help on function add_reversed_links in module syspy.spatial.graph.graphbuilder:\n",
      "\n",
      "add_reversed_links(links, direction_column='oneway', reverse_value=False, reset_link_index=True)\n",
      "\n"
     ]
    }
   ],
   "source": [
    "help(graphbuilder.add_reversed_links)"
   ]
  },
  {
   "cell_type": "code",
   "execution_count": 34,
   "metadata": {},
   "outputs": [
    {
     "data": {
      "text/plain": [
       "'False'"
      ]
     },
     "execution_count": 34,
     "metadata": {},
     "output_type": "execute_result"
    }
   ],
   "source": [
    "oc.links['oneway'].iloc[0]"
   ]
  },
  {
   "cell_type": "code",
   "execution_count": 35,
   "metadata": {
    "scrolled": false
   },
   "outputs": [
    {
     "name": "stderr",
     "output_type": "stream",
     "text": [
      "100%|█████████████████████████████████████████████████████████████████████████| 19869/19869 [00:01<00:00, 15916.19it/s]\n",
      "100%|█████████████████████████████████████████████████████████████████████████| 19869/19869 [00:01<00:00, 16651.80it/s]\n",
      "100%|███████████████████████████████████████████████████████████████████████████| 3224/3224 [00:00<00:00, 46591.82it/s]\n"
     ]
    }
   ],
   "source": [
    "oc.add_reversed_links(\n",
    "    direction_column='oneway', \n",
    "    reverse_value='False' # the boolean has been stored as a string    \n",
    ")\n",
    "oc.clean_geometries()\n",
    "oc.fix_nodeset_consistency()"
   ]
  },
  {
   "cell_type": "markdown",
   "metadata": {},
   "source": [
    "# export "
   ]
  },
  {
   "cell_type": "code",
   "execution_count": 36,
   "metadata": {
    "collapsed": true
   },
   "outputs": [],
   "source": [
    "links = oc.links[['a', 'b', 'length', 'geometry']].reset_index()\n",
    "nodes = oc.nodes[['geometry']].reset_index()"
   ]
  },
  {
   "cell_type": "code",
   "execution_count": 37,
   "metadata": {},
   "outputs": [
    {
     "data": {
      "text/html": [
       "<div>\n",
       "<style>\n",
       "    .dataframe thead tr:only-child th {\n",
       "        text-align: right;\n",
       "    }\n",
       "\n",
       "    .dataframe thead th {\n",
       "        text-align: left;\n",
       "    }\n",
       "\n",
       "    .dataframe tbody tr th {\n",
       "        vertical-align: top;\n",
       "    }\n",
       "</style>\n",
       "<table border=\"1\" class=\"dataframe\">\n",
       "  <thead>\n",
       "    <tr style=\"text-align: right;\">\n",
       "      <th></th>\n",
       "      <th>uid</th>\n",
       "      <th>a</th>\n",
       "      <th>b</th>\n",
       "      <th>length</th>\n",
       "      <th>geometry</th>\n",
       "    </tr>\n",
       "  </thead>\n",
       "  <tbody>\n",
       "    <tr>\n",
       "      <th>0</th>\n",
       "      <td>1</td>\n",
       "      <td>268675130</td>\n",
       "      <td>125730</td>\n",
       "      <td>8.706154</td>\n",
       "      <td>LINESTRING (2.4108343 48.8634834, 2.4107318 48...</td>\n",
       "    </tr>\n",
       "  </tbody>\n",
       "</table>\n",
       "</div>"
      ],
      "text/plain": [
       "   uid          a       b    length  \\\n",
       "0    1  268675130  125730  8.706154   \n",
       "\n",
       "                                            geometry  \n",
       "0  LINESTRING (2.4108343 48.8634834, 2.4107318 48...  "
      ]
     },
     "execution_count": 37,
     "metadata": {},
     "output_type": "execute_result"
    }
   ],
   "source": [
    "links.head(1)"
   ]
  },
  {
   "cell_type": "code",
   "execution_count": 38,
   "metadata": {},
   "outputs": [
    {
     "data": {
      "text/html": [
       "<div>\n",
       "<style>\n",
       "    .dataframe thead tr:only-child th {\n",
       "        text-align: right;\n",
       "    }\n",
       "\n",
       "    .dataframe thead th {\n",
       "        text-align: left;\n",
       "    }\n",
       "\n",
       "    .dataframe tbody tr th {\n",
       "        vertical-align: top;\n",
       "    }\n",
       "</style>\n",
       "<table border=\"1\" class=\"dataframe\">\n",
       "  <thead>\n",
       "    <tr style=\"text-align: right;\">\n",
       "      <th></th>\n",
       "      <th>osmid</th>\n",
       "      <th>geometry</th>\n",
       "    </tr>\n",
       "  </thead>\n",
       "  <tbody>\n",
       "    <tr>\n",
       "      <th>0</th>\n",
       "      <td>15435271</td>\n",
       "      <td>POINT (2.3831228 48.8295644)</td>\n",
       "    </tr>\n",
       "  </tbody>\n",
       "</table>\n",
       "</div>"
      ],
      "text/plain": [
       "      osmid                      geometry\n",
       "0  15435271  POINT (2.3831228 48.8295644)"
      ]
     },
     "execution_count": 38,
     "metadata": {},
     "output_type": "execute_result"
    }
   ],
   "source": [
    "nodes.head(1)"
   ]
  },
  {
   "cell_type": "code",
   "execution_count": 39,
   "metadata": {
    "collapsed": true
   },
   "outputs": [],
   "source": [
    "def to_file(df, file):\n",
    "    try:\n",
    "        os.remove(file)\n",
    "    except FileNotFoundError:\n",
    "        pass\n",
    "\n",
    "    gpd.GeoDataFrame(df).to_file(file, driver=\"GeoJSON\")"
   ]
  },
  {
   "cell_type": "code",
   "execution_count": 40,
   "metadata": {
    "collapsed": true
   },
   "outputs": [],
   "source": [
    "to_file(\n",
    "    oc.links[['a', 'b', 'length', 'geometry']].reset_index(),\n",
    "    input_folder + 'road_links.geojson'\n",
    ")\n",
    "to_file(\n",
    "    oc.nodes[['geometry']].reset_index(),\n",
    "    input_folder + 'road_nodes.geojson'\n",
    ")"
   ]
  },
  {
   "cell_type": "code",
   "execution_count": 41,
   "metadata": {},
   "outputs": [
    {
     "data": {
      "text/plain": [
       "19869"
      ]
     },
     "execution_count": 41,
     "metadata": {},
     "output_type": "execute_result"
    }
   ],
   "source": [
    "len(links)"
   ]
  },
  {
   "cell_type": "code",
   "execution_count": 42,
   "metadata": {},
   "outputs": [
    {
     "data": {
      "text/plain": [
       "16059"
      ]
     },
     "execution_count": 42,
     "metadata": {},
     "output_type": "execute_result"
    }
   ],
   "source": [
    "len(road_links)"
   ]
  },
  {
   "cell_type": "code",
   "execution_count": null,
   "metadata": {
    "collapsed": true
   },
   "outputs": [],
   "source": []
  }
 ],
 "metadata": {
  "kernelspec": {
   "display_name": "Python 3",
   "language": "python",
   "name": "python3"
  },
  "language_info": {
   "codemirror_mode": {
    "name": "ipython",
    "version": 3
   },
   "file_extension": ".py",
   "mimetype": "text/x-python",
   "name": "python",
   "nbconvert_exporter": "python",
   "pygments_lexer": "ipython3",
   "version": "3.6.1"
  }
 },
 "nbformat": 4,
 "nbformat_minor": 2
}
