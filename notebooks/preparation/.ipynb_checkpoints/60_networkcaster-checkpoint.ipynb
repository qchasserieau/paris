{
 "cells": [
  {
   "cell_type": "code",
   "execution_count": 108,
   "metadata": {},
   "outputs": [],
   "source": [
    "import pandas as pd\n",
    "import sys\n",
    "sys.path.insert(0, r'../../libraries/quetzal')\n",
    "sys.path.insert(0, r'../../libraries/syspy')\n",
    "\n",
    "from quetzal.io import  gtfs_importer\n",
    "from quetzal.model import stepmodel, model"
   ]
  },
  {
   "cell_type": "code",
   "execution_count": 109,
   "metadata": {
    "collapsed": true
   },
   "outputs": [],
   "source": [
    "training_folder = '../../'\n",
    "input_folder = training_folder + r'gis/inputs/'"
   ]
  },
  {
   "cell_type": "code",
   "execution_count": 110,
   "metadata": {},
   "outputs": [
    {
     "name": "stderr",
     "output_type": "stream",
     "text": [
      "read_hdf: : 100%|██████████████████████████████████████████████████████████████████████| 18/18 [00:01<00:00, 17.91it/s]\n"
     ]
    }
   ],
   "source": [
    "sm = stepmodel.read_hdf(training_folder + 'model/integrity_model.hdf')\n",
    "# enlever le warning pour le read_json"
   ]
  },
  {
   "cell_type": "markdown",
   "metadata": {},
   "source": [
    "# Networkcaster\n",
    "à faire sur un réseau propre, avant l'agrégation"
   ]
  },
  {
   "cell_type": "code",
   "execution_count": 111,
   "metadata": {},
   "outputs": [
    {
     "name": "stderr",
     "output_type": "stream",
     "text": [
      "9994it [00:00, 11893.88it/s]\n",
      "9994it [00:03, 2711.49it/s]\n"
     ]
    }
   ],
   "source": [
    "sm.integrity_test_all(errors='raise', verbose=False)"
   ]
  },
  {
   "cell_type": "markdown",
   "metadata": {},
   "source": [
    "## rail"
   ]
  },
  {
   "cell_type": "code",
   "execution_count": 112,
   "metadata": {},
   "outputs": [
    {
     "name": "stderr",
     "output_type": "stream",
     "text": [
      "nearest_link: 100%|██████████████████████████████████████████████████████████| 58470/58470 [00:00<00:00, 115694.98it/s]\n"
     ]
    }
   ],
   "source": [
    "rail = sm.copy()\n",
    "rail.links = rail.links.loc[rail.links['route_type'].isin([0, 1, 2])]\n",
    "rail.preparation_cast_network(dumb_cast=True)"
   ]
  },
  {
   "cell_type": "markdown",
   "metadata": {},
   "source": [
    "## road"
   ]
  },
  {
   "cell_type": "code",
   "execution_count": 113,
   "metadata": {
    "collapsed": true
   },
   "outputs": [],
   "source": [
    "road = sm.copy()\n",
    "road.links = road.links.loc[road.links['route_type'].isin([3])]"
   ]
  },
  {
   "cell_type": "code",
   "execution_count": 114,
   "metadata": {},
   "outputs": [
    {
     "data": {
      "text/plain": [
       "(9994, 19643)"
      ]
     },
     "execution_count": 114,
     "metadata": {},
     "output_type": "execute_result"
    }
   ],
   "source": [
    "len(sm.road_nodes), len(sm.road_links)"
   ]
  },
  {
   "cell_type": "code",
   "execution_count": 115,
   "metadata": {
    "scrolled": true
   },
   "outputs": [
    {
     "name": "stderr",
     "output_type": "stream",
     "text": [
      "nearest_link: 100%|██████████████████████████████████████████████████████████| 58470/58470 [00:00<00:00, 115474.40it/s]\n",
      "1026691961768064100%|████████████████████████████████████████████████████████████████| 341/341 [01:52<00:00,  2.80it/s]\n",
      "road_paths : 4529it [00:04, 1112.00it/s]                                                                               \n"
     ]
    }
   ],
   "source": [
    "road.preparation_cast_network(\n",
    "    nearest_method='nodes',\n",
    "    n_neighbors_centroid=10, \n",
    "    n_neighbors=5, \n",
    "    penalty_factor=2\n",
    ")"
   ]
  },
  {
   "cell_type": "markdown",
   "metadata": {},
   "source": [
    "## both road and rail"
   ]
  },
  {
   "cell_type": "code",
   "execution_count": 116,
   "metadata": {
    "collapsed": true
   },
   "outputs": [],
   "source": [
    "both = road.copy()\n",
    "both.links = pd.concat([road.links, rail.links]) "
   ]
  },
  {
   "cell_type": "code",
   "execution_count": 117,
   "metadata": {
    "collapsed": true,
    "scrolled": true
   },
   "outputs": [],
   "source": [
    "both.analysis_lines(line_columns='all')"
   ]
  },
  {
   "cell_type": "code",
   "execution_count": 118,
   "metadata": {},
   "outputs": [
    {
     "data": {
      "text/html": [
       "<div>\n",
       "<style>\n",
       "    .dataframe thead tr:only-child th {\n",
       "        text-align: right;\n",
       "    }\n",
       "\n",
       "    .dataframe thead th {\n",
       "        text-align: left;\n",
       "    }\n",
       "\n",
       "    .dataframe tbody tr th {\n",
       "        vertical-align: top;\n",
       "    }\n",
       "</style>\n",
       "<table border=\"1\" class=\"dataframe\">\n",
       "  <thead>\n",
       "    <tr style=\"text-align: right;\">\n",
       "      <th></th>\n",
       "      <th>pop</th>\n",
       "      <th>emp</th>\n",
       "      <th>geometry</th>\n",
       "    </tr>\n",
       "    <tr>\n",
       "      <th>index</th>\n",
       "      <th></th>\n",
       "      <th></th>\n",
       "      <th></th>\n",
       "    </tr>\n",
       "  </thead>\n",
       "  <tbody>\n",
       "    <tr>\n",
       "      <th>zone_0</th>\n",
       "      <td>264.319936</td>\n",
       "      <td>8362.052747</td>\n",
       "      <td>POLYGON ((651982.3890009471 6861785.417042158,...</td>\n",
       "    </tr>\n",
       "    <tr>\n",
       "      <th>zone_1</th>\n",
       "      <td>17338.725721</td>\n",
       "      <td>55150.981545</td>\n",
       "      <td>POLYGON ((652229.2868308695 6862250.370224742,...</td>\n",
       "    </tr>\n",
       "    <tr>\n",
       "      <th>zone_2</th>\n",
       "      <td>4659.363525</td>\n",
       "      <td>31273.053465</td>\n",
       "      <td>POLYGON ((651775.6212200015 6863363.189703469,...</td>\n",
       "    </tr>\n",
       "    <tr>\n",
       "      <th>zone_3</th>\n",
       "      <td>15915.361185</td>\n",
       "      <td>31399.041132</td>\n",
       "      <td>POLYGON ((652555.7580880345 6863491.62628466, ...</td>\n",
       "    </tr>\n",
       "    <tr>\n",
       "      <th>zone_4</th>\n",
       "      <td>34969.974971</td>\n",
       "      <td>29889.237285</td>\n",
       "      <td>POLYGON ((653670.1022053068 6862246.249540386,...</td>\n",
       "    </tr>\n",
       "  </tbody>\n",
       "</table>\n",
       "</div>"
      ],
      "text/plain": [
       "                 pop           emp  \\\n",
       "index                                \n",
       "zone_0    264.319936   8362.052747   \n",
       "zone_1  17338.725721  55150.981545   \n",
       "zone_2   4659.363525  31273.053465   \n",
       "zone_3  15915.361185  31399.041132   \n",
       "zone_4  34969.974971  29889.237285   \n",
       "\n",
       "                                                 geometry  \n",
       "index                                                      \n",
       "zone_0  POLYGON ((651982.3890009471 6861785.417042158,...  \n",
       "zone_1  POLYGON ((652229.2868308695 6862250.370224742,...  \n",
       "zone_2  POLYGON ((651775.6212200015 6863363.189703469,...  \n",
       "zone_3  POLYGON ((652555.7580880345 6863491.62628466, ...  \n",
       "zone_4  POLYGON ((653670.1022053068 6862246.249540386,...  "
      ]
     },
     "execution_count": 118,
     "metadata": {},
     "output_type": "execute_result"
    }
   ],
   "source": [
    "sm.zones.head()"
   ]
  },
  {
   "cell_type": "markdown",
   "metadata": {},
   "source": [
    "# to_json"
   ]
  },
  {
   "cell_type": "code",
   "execution_count": 119,
   "metadata": {},
   "outputs": [
    {
     "name": "stderr",
     "output_type": "stream",
     "text": [
      "to_hdf(overwriting): 100%|█████████████████████████████████████████████████████████████| 29/29 [00:45<00:00,  1.57s/it]\n"
     ]
    },
    {
     "name": "stdout",
     "output_type": "stream",
     "text": [
      "could not save attribute: missing_nodes\n",
      "could not save attribute: missing_road_nodes\n",
      "could not save attribute: networkcaster\n"
     ]
    }
   ],
   "source": [
    "both.to_json(training_folder + 'model/road_model' )   "
   ]
  },
  {
   "cell_type": "code",
   "execution_count": 120,
   "metadata": {},
   "outputs": [
    {
     "name": "stderr",
     "output_type": "stream",
     "text": [
      "to_hdf(overwriting): 100%|█████████████████████████████████████████████████████████████| 29/29 [00:03<00:00,  7.94it/s]\n"
     ]
    },
    {
     "name": "stdout",
     "output_type": "stream",
     "text": [
      "could not save attribute: missing_nodes\n",
      "could not save attribute: missing_road_nodes\n",
      "could not save attribute: networkcaster\n"
     ]
    }
   ],
   "source": [
    "both.to_hdf(training_folder + 'model/road_model.hdf' )  "
   ]
  },
  {
   "cell_type": "markdown",
   "metadata": {
    "collapsed": true
   },
   "source": [
    "# networkcaster_monitoring"
   ]
  },
  {
   "cell_type": "code",
   "execution_count": 121,
   "metadata": {},
   "outputs": [
    {
     "name": "stdout",
     "output_type": "stream",
     "text": [
      "Deprecated: replaced by analysis_lines\n"
     ]
    },
    {
     "ename": "TypeError",
     "evalue": "analysis_lines() got an unexpected keyword argument 'sum_columns'",
     "output_type": "error",
     "traceback": [
      "\u001b[1;31m---------------------------------------------------------------------------\u001b[0m",
      "\u001b[1;31mTypeError\u001b[0m                                 Traceback (most recent call last)",
      "\u001b[1;32m<ipython-input-121-062b2802092f>\u001b[0m in \u001b[0;36m<module>\u001b[1;34m()\u001b[0m\n\u001b[0;32m      6\u001b[0m )\n\u001b[0;32m      7\u001b[0m \u001b[1;33m\u001b[0m\u001b[0m\n\u001b[1;32m----> 8\u001b[1;33m \u001b[0mroad\u001b[0m\u001b[1;33m.\u001b[0m\u001b[0mbuild_lines\u001b[0m\u001b[1;33m(\u001b[0m\u001b[0msum_columns\u001b[0m\u001b[1;33m=\u001b[0m\u001b[1;33m[\u001b[0m\u001b[1;34m'link_straight_length'\u001b[0m\u001b[1;33m]\u001b[0m\u001b[1;33m)\u001b[0m\u001b[1;33m\u001b[0m\u001b[0m\n\u001b[0m\u001b[0;32m      9\u001b[0m \u001b[0mlines\u001b[0m \u001b[1;33m=\u001b[0m \u001b[0mroad\u001b[0m\u001b[1;33m.\u001b[0m\u001b[0mlines\u001b[0m\u001b[1;33m\u001b[0m\u001b[0m\n\u001b[0;32m     10\u001b[0m \u001b[0mlines\u001b[0m\u001b[1;33m[\u001b[0m\u001b[1;34m'length'\u001b[0m\u001b[1;33m]\u001b[0m \u001b[1;33m=\u001b[0m \u001b[0mlines\u001b[0m\u001b[1;33m[\u001b[0m\u001b[1;34m'geometry'\u001b[0m\u001b[1;33m]\u001b[0m\u001b[1;33m.\u001b[0m\u001b[0mapply\u001b[0m\u001b[1;33m(\u001b[0m\u001b[1;32mlambda\u001b[0m \u001b[0mg\u001b[0m\u001b[1;33m:\u001b[0m \u001b[0mg\u001b[0m\u001b[1;33m.\u001b[0m\u001b[0mlength\u001b[0m\u001b[1;33m)\u001b[0m\u001b[1;33m\u001b[0m\u001b[0m\n",
      "\u001b[1;32mG:\\PLT\\ZZ_DCME\\3_GESTION\\7_LE LAB DIGITAL\\200_PEOPLE\\5_FORMATION DES COLLABORATEURS\\Supports_de_formations\\formation_quetzal\\libraries\\quetzal\\quetzal\\model\\stepmodel.py\u001b[0m in \u001b[0;36mdecorated\u001b[1;34m(self, *args, **kwargs)\u001b[0m\n\u001b[0;32m     14\u001b[0m         )\n\u001b[0;32m     15\u001b[0m         \u001b[0mprint\u001b[0m\u001b[1;33m(\u001b[0m\u001b[0mmessage\u001b[0m\u001b[1;33m)\u001b[0m\u001b[1;33m\u001b[0m\u001b[0m\n\u001b[1;32m---> 16\u001b[1;33m         \u001b[1;32mreturn\u001b[0m \u001b[0mmethod\u001b[0m\u001b[1;33m(\u001b[0m\u001b[0mself\u001b[0m\u001b[1;33m,\u001b[0m \u001b[1;33m*\u001b[0m\u001b[0margs\u001b[0m\u001b[1;33m,\u001b[0m \u001b[1;33m**\u001b[0m\u001b[0mkwargs\u001b[0m\u001b[1;33m)\u001b[0m\u001b[1;33m\u001b[0m\u001b[0m\n\u001b[0m\u001b[0;32m     17\u001b[0m \u001b[1;33m\u001b[0m\u001b[0m\n\u001b[0;32m     18\u001b[0m     \u001b[0mdecorated\u001b[0m\u001b[1;33m.\u001b[0m\u001b[0m__doc__\u001b[0m \u001b[1;33m=\u001b[0m \u001b[1;34m'deprecated! '\u001b[0m \u001b[1;33m+\u001b[0m \u001b[0mstr\u001b[0m\u001b[1;33m(\u001b[0m\u001b[0mdecorated\u001b[0m\u001b[1;33m.\u001b[0m\u001b[0m__doc__\u001b[0m\u001b[1;33m)\u001b[0m\u001b[1;33m\u001b[0m\u001b[0m\n",
      "\u001b[1;31mTypeError\u001b[0m: analysis_lines() got an unexpected keyword argument 'sum_columns'"
     ]
    }
   ],
   "source": [
    "from shapely.geometry import LineString\n",
    "\n",
    "links = road.links\n",
    "links['link_straight_length'] = links['geometry'].apply(\n",
    "    lambda g: LineString([list(g.coords[0]), list(g.coords[-1])]).length\n",
    ")\n",
    "\n",
    "road.build_lines(sum_columns=['link_straight_length'])\n",
    "lines = road.lines\n",
    "lines['length'] = lines['geometry'].apply(lambda g: g.length)\n",
    "lines['straight_length'] = lines['geometry'].apply(\n",
    "    lambda g: LineString([list(g.coords[0]), list(g.coords[-1])]).length\n",
    ")\n",
    "\n",
    "lines = lines.set_index('trip_id')\n",
    "lines['link_straight_length'] = links.groupby('trip_id')['link_straight_length'].sum()\n",
    "lines['link_length'] = links.groupby('trip_id')['link_length'].sum()\n",
    "\n",
    "lines['length_ratio'] = lines['length']/lines['link_straight_length']\n",
    "\n",
    "# summary\n",
    "(lines[['link_straight_length', 'straight_length', 'length']].sum() / 1000).astype(int)"
   ]
  },
  {
   "cell_type": "code",
   "execution_count": null,
   "metadata": {
    "collapsed": true
   },
   "outputs": [],
   "source": [
    "% matplotlib inline\n",
    "ax = lines['length_ratio'].hist(bins=100)"
   ]
  }
 ],
 "metadata": {
  "kernelspec": {
   "display_name": "Python 3",
   "language": "python",
   "name": "python3"
  }
 },
 "nbformat": 4,
 "nbformat_minor": 2
}
