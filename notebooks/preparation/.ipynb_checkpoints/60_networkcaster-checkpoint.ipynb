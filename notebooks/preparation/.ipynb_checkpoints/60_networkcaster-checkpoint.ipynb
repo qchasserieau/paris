{
 "cells": [
  {
   "cell_type": "code",
   "execution_count": 9,
   "metadata": {
    "collapsed": true
   },
   "outputs": [],
   "source": [
    "import pandas as pd\n",
    "import sys\n",
    "sys.path.insert(0, r'../../libraries/quetzal')\n",
    "sys.path.insert(0, r'../../libraries/syspy')\n",
    "\n",
    "from quetzal.io import  gtfs_importer\n",
    "from quetzal.model import stepmodel, model"
   ]
  },
  {
   "cell_type": "code",
   "execution_count": 10,
   "metadata": {
    "collapsed": true
   },
   "outputs": [],
   "source": [
    "training_folder = '../../'\n",
    "input_folder = training_folder + r'gis/inputs/'"
   ]
  },
  {
   "cell_type": "code",
   "execution_count": 11,
   "metadata": {},
   "outputs": [
    {
     "name": "stderr",
     "output_type": "stream",
     "text": [
      "read_hdf: : 100%|██████████████████████████████████████████████████████████████████████| 22/22 [00:00<00:00, 42.72it/s]\n"
     ]
    }
   ],
   "source": [
    "sm = stepmodel.read_zip(training_folder + 'model/preparation/road.zip')\n",
    "# enlever le warning pour le read_json"
   ]
  },
  {
   "cell_type": "markdown",
   "metadata": {},
   "source": [
    "# Networkcaster\n",
    "à faire sur un réseau propre, avant l'agrégation"
   ]
  },
  {
   "cell_type": "code",
   "execution_count": 12,
   "metadata": {},
   "outputs": [
    {
     "name": "stderr",
     "output_type": "stream",
     "text": [
      "9987it [00:00, 10159.58it/s]\n",
      "9987it [00:03, 2525.83it/s]\n"
     ]
    }
   ],
   "source": [
    "sm.integrity_test_all(errors='raise', verbose=False)"
   ]
  },
  {
   "cell_type": "markdown",
   "metadata": {},
   "source": [
    "## rail"
   ]
  },
  {
   "cell_type": "code",
   "execution_count": 13,
   "metadata": {},
   "outputs": [
    {
     "name": "stderr",
     "output_type": "stream",
     "text": [
      "nearest_link: 100%|██████████████████████████████████████████████████████████| 58470/58470 [00:00<00:00, 104789.72it/s]\n"
     ]
    }
   ],
   "source": [
    "rail = sm.copy()\n",
    "rail.links = rail.links.loc[rail.links['route_type'].isin([0, 1, 2])]\n",
    "rail.preparation_cast_network(dumb_cast=True)"
   ]
  },
  {
   "cell_type": "markdown",
   "metadata": {},
   "source": [
    "## road"
   ]
  },
  {
   "cell_type": "code",
   "execution_count": 14,
   "metadata": {
    "collapsed": true
   },
   "outputs": [],
   "source": [
    "road = sm.copy()\n",
    "road.links = road.links.loc[road.links['route_type'].isin([3])]"
   ]
  },
  {
   "cell_type": "code",
   "execution_count": 15,
   "metadata": {},
   "outputs": [
    {
     "data": {
      "text/plain": [
       "(9987, 19619)"
      ]
     },
     "execution_count": 15,
     "metadata": {},
     "output_type": "execute_result"
    }
   ],
   "source": [
    "len(sm.road_nodes), len(sm.road_links)"
   ]
  },
  {
   "cell_type": "code",
   "execution_count": 16,
   "metadata": {
    "scrolled": true
   },
   "outputs": [
    {
     "name": "stderr",
     "output_type": "stream",
     "text": [
      "nearest_link: 100%|██████████████████████████████████████████████████████████| 29235/29235 [00:00<00:00, 111574.09it/s]\n",
      "7126164340936649100%|████████████████████████████████████████████████████████████████| 341/341 [00:37<00:00,  9.00it/s]\n",
      "road_paths : 4529it [00:04, 1020.52it/s]                                                                               \n"
     ]
    }
   ],
   "source": [
    "road.preparation_cast_network(\n",
    "    nearest_method='nodes',\n",
    "    n_neighbors_centroid=5, \n",
    "    n_neighbors=5, \n",
    "    penalty_factor=2,\n",
    "    replace_nodes=False\n",
    ")"
   ]
  },
  {
   "cell_type": "markdown",
   "metadata": {},
   "source": [
    "## both road and rail"
   ]
  },
  {
   "cell_type": "code",
   "execution_count": 17,
   "metadata": {
    "collapsed": true
   },
   "outputs": [],
   "source": [
    "both = road.copy()\n",
    "both.links = pd.concat([road.links, rail.links]) "
   ]
  },
  {
   "cell_type": "code",
   "execution_count": 18,
   "metadata": {
    "collapsed": true,
    "scrolled": true
   },
   "outputs": [],
   "source": [
    "both.analysis_lines(line_columns='all')"
   ]
  },
  {
   "cell_type": "code",
   "execution_count": 19,
   "metadata": {},
   "outputs": [
    {
     "data": {
      "text/html": [
       "<div>\n",
       "<style>\n",
       "    .dataframe thead tr:only-child th {\n",
       "        text-align: right;\n",
       "    }\n",
       "\n",
       "    .dataframe thead th {\n",
       "        text-align: left;\n",
       "    }\n",
       "\n",
       "    .dataframe tbody tr th {\n",
       "        vertical-align: top;\n",
       "    }\n",
       "</style>\n",
       "<table border=\"1\" class=\"dataframe\">\n",
       "  <thead>\n",
       "    <tr style=\"text-align: right;\">\n",
       "      <th></th>\n",
       "      <th>pop</th>\n",
       "      <th>emp</th>\n",
       "      <th>geometry</th>\n",
       "    </tr>\n",
       "  </thead>\n",
       "  <tbody>\n",
       "    <tr>\n",
       "      <th>zone_0</th>\n",
       "      <td>264.319936</td>\n",
       "      <td>8362.052747</td>\n",
       "      <td>POLYGON ((651982.3890009471 6861785.417042158,...</td>\n",
       "    </tr>\n",
       "    <tr>\n",
       "      <th>zone_1</th>\n",
       "      <td>17338.725721</td>\n",
       "      <td>55150.981545</td>\n",
       "      <td>POLYGON ((652229.2868308695 6862250.370224742,...</td>\n",
       "    </tr>\n",
       "    <tr>\n",
       "      <th>zone_2</th>\n",
       "      <td>4659.363525</td>\n",
       "      <td>31273.053465</td>\n",
       "      <td>POLYGON ((651775.6212200015 6863363.189703469,...</td>\n",
       "    </tr>\n",
       "    <tr>\n",
       "      <th>zone_3</th>\n",
       "      <td>15915.361185</td>\n",
       "      <td>31399.041132</td>\n",
       "      <td>POLYGON ((652555.7580880345 6863491.62628466, ...</td>\n",
       "    </tr>\n",
       "    <tr>\n",
       "      <th>zone_4</th>\n",
       "      <td>34969.974971</td>\n",
       "      <td>29889.237285</td>\n",
       "      <td>POLYGON ((653670.1022053068 6862246.249540386,...</td>\n",
       "    </tr>\n",
       "  </tbody>\n",
       "</table>\n",
       "</div>"
      ],
      "text/plain": [
       "                 pop           emp  \\\n",
       "zone_0    264.319936   8362.052747   \n",
       "zone_1  17338.725721  55150.981545   \n",
       "zone_2   4659.363525  31273.053465   \n",
       "zone_3  15915.361185  31399.041132   \n",
       "zone_4  34969.974971  29889.237285   \n",
       "\n",
       "                                                 geometry  \n",
       "zone_0  POLYGON ((651982.3890009471 6861785.417042158,...  \n",
       "zone_1  POLYGON ((652229.2868308695 6862250.370224742,...  \n",
       "zone_2  POLYGON ((651775.6212200015 6863363.189703469,...  \n",
       "zone_3  POLYGON ((652555.7580880345 6863491.62628466, ...  \n",
       "zone_4  POLYGON ((653670.1022053068 6862246.249540386,...  "
      ]
     },
     "execution_count": 19,
     "metadata": {},
     "output_type": "execute_result"
    }
   ],
   "source": [
    "sm.zones.head()"
   ]
  },
  {
   "cell_type": "markdown",
   "metadata": {},
   "source": [
    "# to_json"
   ]
  },
  {
   "cell_type": "code",
   "execution_count": 20,
   "metadata": {},
   "outputs": [
    {
     "name": "stderr",
     "output_type": "stream",
     "text": [
      "to_hdf(new file): 100%|████████████████████████████████████████████████████████████████| 34/34 [00:03<00:00,  9.91it/s]\n"
     ]
    },
    {
     "name": "stdout",
     "output_type": "stream",
     "text": [
      "could not save attribute: missing_nodes\n",
      "could not save attribute: missing_road_nodes\n",
      "could not save attribute: networkcaster\n"
     ]
    }
   ],
   "source": [
    "both.to_zip(training_folder + 'model/preparation/road_model.zip' )  "
   ]
  },
  {
   "cell_type": "markdown",
   "metadata": {
    "collapsed": true
   },
   "source": [
    "# networkcaster_monitoring"
   ]
  },
  {
   "cell_type": "code",
   "execution_count": 21,
   "metadata": {},
   "outputs": [
    {
     "name": "stderr",
     "output_type": "stream",
     "text": [
      "to_hdf(overwriting): 100%|█████████████████████████████████████████████████████████████| 34/34 [00:25<00:00,  1.33it/s]\n"
     ]
    },
    {
     "name": "stdout",
     "output_type": "stream",
     "text": [
      "could not save attribute: missing_nodes\n",
      "could not save attribute: missing_road_nodes\n",
      "could not save attribute: networkcaster\n"
     ]
    }
   ],
   "source": [
    "both.to_json(\n",
    "    training_folder + 'model/latest', \n",
    "    omitted_attributes=('road_links', 'road_nodes') \n",
    ")  "
   ]
  },
  {
   "cell_type": "code",
   "execution_count": 22,
   "metadata": {},
   "outputs": [
    {
     "name": "stdout",
     "output_type": "stream",
     "text": [
      "Deprecated: replaced by analysis_lines\n"
     ]
    },
    {
     "data": {
      "text/plain": [
       "link_straight_length    1386\n",
       "straight_length         1093\n",
       "length                  1613\n",
       "dtype: int32"
      ]
     },
     "execution_count": 22,
     "metadata": {},
     "output_type": "execute_result"
    }
   ],
   "source": [
    "from shapely.geometry import LineString\n",
    "\n",
    "links = road.links\n",
    "links['link_straight_length'] = links['geometry'].apply(\n",
    "    lambda g: LineString([list(g.coords[0]), list(g.coords[-1])]).length\n",
    ")\n",
    "\n",
    "road.build_lines(sum_columns=['link_straight_length'])\n",
    "lines = road.lines\n",
    "lines['length'] = lines['geometry'].apply(lambda g: g.length)\n",
    "lines['straight_length'] = lines['geometry'].apply(\n",
    "    lambda g: LineString([list(g.coords[0]), list(g.coords[-1])]).length\n",
    ")\n",
    "\n",
    "lines['length_ratio'] = lines['length']/lines['link_straight_length']\n",
    "\n",
    "# summary\n",
    "(lines[['link_straight_length', 'straight_length', 'length']].sum() / 1000).astype(int)"
   ]
  },
  {
   "cell_type": "code",
   "execution_count": 23,
   "metadata": {},
   "outputs": [
    {
     "data": {
      "image/png": "[encoded data removed]",
      "text/plain": [
       "<Figure size 432x288 with 1 Axes>"
      ]
     },
     "metadata": {},
     "output_type": "display_data"
    }
   ],
   "source": [
    "% matplotlib inline\n",
    "ax = lines['length_ratio'].hist(bins=100)"
   ]
  }
 ],
 "metadata": {
  "kernelspec": {
   "display_name": "Python 3",
   "language": "python",
   "name": "python3"
  },
  "language_info": {
   "codemirror_mode": {
    "name": "ipython",
    "version": 3
   },
   "file_extension": ".py",
   "mimetype": "text/x-python",
   "name": "python",
   "nbconvert_exporter": "python",
   "pygments_lexer": "ipython3",
   "version": "3.6.1"
  }
 },
 "nbformat": 4,
 "nbformat_minor": 2
}
