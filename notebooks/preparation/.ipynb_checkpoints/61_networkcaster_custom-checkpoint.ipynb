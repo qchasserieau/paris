{
 "cells": [
  {
   "cell_type": "code",
   "execution_count": 1,
   "metadata": {
    "collapsed": true
   },
   "outputs": [],
   "source": [
    "import pandas as pd\n",
    "import sys\n",
    "sys.path.insert(0, r'../../libraries/quetzal')\n",
    "sys.path.insert(0, r'../../libraries/syspy')\n",
    "\n",
    "from quetzal.io import  gtfs_importer\n",
    "from quetzal.model import stepmodel, model"
   ]
  },
  {
   "cell_type": "code",
   "execution_count": 2,
   "metadata": {
    "collapsed": true
   },
   "outputs": [],
   "source": [
    "training_folder = '../../'\n",
    "input_folder = training_folder + r'gis/inputs/'"
   ]
  },
  {
   "cell_type": "code",
   "execution_count": 3,
   "metadata": {},
   "outputs": [
    {
     "name": "stderr",
     "output_type": "stream",
     "text": [
      "read_hdf: : 100%|██████████████████████████████████████████████████████████████████████| 22/22 [00:00<00:00, 39.82it/s]\n"
     ]
    }
   ],
   "source": [
    "sm = stepmodel.read_hdf(training_folder + 'model/preparation/road.hdf')"
   ]
  },
  {
   "cell_type": "code",
   "execution_count": 4,
   "metadata": {},
   "outputs": [
    {
     "name": "stderr",
     "output_type": "stream",
     "text": [
      "read_hdf: : 100%|██████████████████████████████████████████████████████████████████████| 22/22 [00:00<00:00, 95.36it/s]\n"
     ]
    }
   ],
   "source": [
    "road = stepmodel.read_hdf(training_folder + 'model/preparation/sandbox_road.hdf')\n",
    "sm.links = road.links\n",
    "sm.nodes = road.nodes"
   ]
  },
  {
   "cell_type": "markdown",
   "metadata": {},
   "source": [
    "# Networkcaster\n",
    "à faire sur un réseau propre, avant l'agrégation"
   ]
  },
  {
   "cell_type": "code",
   "execution_count": 5,
   "metadata": {},
   "outputs": [
    {
     "name": "stderr",
     "output_type": "stream",
     "text": [
      "9987it [00:00, 11448.80it/s]\n",
      "9987it [00:03, 2516.53it/s]\n"
     ]
    }
   ],
   "source": [
    "sm.integrity_test_all(errors='raise', verbose=False)"
   ]
  },
  {
   "cell_type": "code",
   "execution_count": 6,
   "metadata": {
    "scrolled": true
   },
   "outputs": [
    {
     "name": "stderr",
     "output_type": "stream",
     "text": [
      "nearest_link: 100%|██████████████████████████████████████████████████████████████| 120/120 [00:00<00:00, 119524.22it/s]\n",
      "27_bis100%|██████████████████████████████████████████████████████████████████████████████| 4/4 [00:01<00:00,  2.12it/s]\n",
      "road_paths : 21it [00:00, 209.39it/s]                                                                                  \n"
     ]
    }
   ],
   "source": [
    "sm.preparation_cast_network(\n",
    "    nearest_method='nodes',\n",
    "    n_neighbors_centroid=10, \n",
    "    n_neighbors=5\n",
    ")"
   ]
  },
  {
   "cell_type": "code",
   "execution_count": 7,
   "metadata": {},
   "outputs": [
    {
     "name": "stderr",
     "output_type": "stream",
     "text": [
      "to_hdf(overwriting): 100%|█████████████████████████████████████████████████████████████| 34/34 [00:02<00:00, 16.31it/s]\n"
     ]
    },
    {
     "name": "stdout",
     "output_type": "stream",
     "text": [
      "could not save attribute: missing_nodes\n",
      "could not save attribute: missing_road_nodes\n",
      "could not save attribute: networkcaster\n"
     ]
    }
   ],
   "source": [
    "sm.to_hdf(\n",
    "    training_folder + 'model/preparation/sandbox_road_networkcasted.hdf'\n",
    ") "
   ]
  },
  {
   "cell_type": "code",
   "execution_count": 9,
   "metadata": {},
   "outputs": [
    {
     "name": "stdout",
     "output_type": "stream",
     "text": [
      "Deprecated: replaced by analysis_lines\n"
     ]
    }
   ],
   "source": [
    "sm.build_lines()"
   ]
  },
  {
   "cell_type": "markdown",
   "metadata": {},
   "source": [
    "# to_json"
   ]
  },
  {
   "cell_type": "code",
   "execution_count": 10,
   "metadata": {},
   "outputs": [
    {
     "name": "stderr",
     "output_type": "stream",
     "text": [
      "to_hdf(overwriting): 100%|█████████████████████████████████████████████████████████████| 34/34 [00:00<00:00, 82.29it/s]\n"
     ]
    },
    {
     "name": "stdout",
     "output_type": "stream",
     "text": [
      "could not save attribute: missing_nodes\n",
      "could not save attribute: missing_road_nodes\n",
      "could not save attribute: networkcaster\n"
     ]
    }
   ],
   "source": [
    "sm.to_json(\n",
    "    training_folder + 'model/last', \n",
    "    omitted_attributes=('road_links', 'road_nodes') \n",
    ")   "
   ]
  },
  {
   "cell_type": "code",
   "execution_count": null,
   "metadata": {
    "collapsed": true
   },
   "outputs": [],
   "source": []
  }
 ],
 "metadata": {
  "kernelspec": {
   "display_name": "Python 3",
   "language": "python",
   "name": "python3"
  },
  "language_info": {
   "codemirror_mode": {
    "name": "ipython",
    "version": 3
   },
   "file_extension": ".py",
   "mimetype": "text/x-python",
   "name": "python",
   "nbconvert_exporter": "python",
   "pygments_lexer": "ipython3",
   "version": "3.6.1"
  }
 },
 "nbformat": 4,
 "nbformat_minor": 2
}
