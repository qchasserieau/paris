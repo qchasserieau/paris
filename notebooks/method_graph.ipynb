{
 "cells": [
  {
   "cell_type": "code",
   "execution_count": 7,
   "metadata": {
    "collapsed": true
   },
   "outputs": [],
   "source": [
    "import pandas as pd\n",
    "import networkx as nx\n",
    "\n",
    "import sys\n",
    "sys.path.insert(0, r'../libraries/syspy')\n",
    "sys.path.insert(0, r'../libraries/quetzal')\n",
    "from imp import reload"
   ]
  },
  {
   "cell_type": "code",
   "execution_count": 8,
   "metadata": {
    "scrolled": true
   },
   "outputs": [
    {
     "name": "stdout",
     "output_type": "stream",
     "text": [
      "Model epsg not defined: setting epsg to default one: 4326\n",
      "Model coordinates_unit not defined: setting coordinates_unit to default one: degree\n"
     ]
    }
   ],
   "source": [
    "from quetzal.model import stepmodel, transportmodel, preparationmodel, docmodel, integritymodel\n",
    "reload(docmodel)\n",
    "\n",
    "\n",
    "reload(stepmodel)\n",
    "reload(transportmodel)\n",
    "reload(preparationmodel)\n",
    "reload(integritymodel)\n",
    "sm = stepmodel.StepModel()"
   ]
  },
  {
   "cell_type": "code",
   "execution_count": 9,
   "metadata": {
    "scrolled": true
   },
   "outputs": [
    {
     "name": "stdout",
     "output_type": "stream",
     "text": [
      "assert_lines_integrity\n",
      "get_lines_integrity\n",
      "integrity_fix_circular_lines\n",
      "integrity_fix_collision\n",
      "integrity_fix_road_network\n",
      "integrity_fix_sequences\n",
      "integrity_test_circular_lines\n",
      "integrity_test_collision\n",
      "integrity_test_dead_ends\n",
      "integrity_test_isolated_roads\n",
      "integrity_test_nodeset_consistency\n",
      "integrity_test_road_network\n",
      "integrity_test_sequences\n"
     ]
    }
   ],
   "source": [
    "dot = sm.dot([ 'integrity'])"
   ]
  },
  {
   "cell_type": "code",
   "execution_count": 10,
   "metadata": {},
   "outputs": [],
   "source": [
    "from urllib.parse import urlencode, quote_plus, quote"
   ]
  },
  {
   "cell_type": "code",
   "execution_count": 11,
   "metadata": {
    "scrolled": true
   },
   "outputs": [],
   "source": [
    "quoted = quote(dot)"
   ]
  },
  {
   "cell_type": "code",
   "execution_count": 12,
   "metadata": {
    "scrolled": true
   },
   "outputs": [
    {
     "name": "stdout",
     "output_type": "stream",
     "text": [
      "https://dreampuf.github.io/GraphvizOnline/#strict%20digraph%20%20%7B%0A%20%20%20%20%20%20%20%20ratio%20%3D%20fill%3B%20%0A%20%20%20%20%20%20%20%20node%20%5Bstyle%3Dfilled%2C%20fontname%20%3D%20%22calibri%22%2C%20fontsize%3D24%2C%20color%3D%22%23AACDDA%22%5D%3B%0A%20%20%20%20%20%20%20%20edge%5B%20fontname%20%3D%20%22calibri%22%2C%20fontsize%3D24%5D%3B%0A%20%20%20%20%20%20%20%20ranksep%20%3D%20%220.5%22%3B%0A%20%20%20%20%20%20%20%20rankdir%3D%22HR%22%3B%0A%20%20%20%20%20%20%20%20%0Alinks%20%5Bcolor%3D%22%23C8D2B3%22%5D%3B%0Aintegrity_fix_circular_lines%20%5Bcolor%3D%22%23E89196%22%2C%20shape%3Drectangle%5D%3B%0Aintegrity_fix_collision%20%5Bcolor%3D%22%23E89196%22%2C%20shape%3Drectangle%5D%3B%0Anodes%20%5Bcolor%3D%22%23C8D2B3%22%5D%3B%0Azones%20%5Bcolor%3D%22%23C8D2B3%22%5D%3B%0Aroad_links%20%5Bcolor%3D%22%23C8D2B3%22%5D%3B%0Aintegrity_fix_road_network%20%5Bcolor%3D%22%23E89196%22%2C%20shape%3Drectangle%5D%3B%0Aroad_nodes%20%5Bcolor%3D%22%23C8D2B3%22%5D%3B%0Aintegrity_fix_sequences%20%5Bcolor%3D%22%23E89196%22%2C%20shape%3Drectangle%5D%3B%0Aintegrity_test_circular_lines%20%5Bcolor%3D%22%23E89196%22%2C%20shape%3Drectangle%5D%3B%0Aintegrity_test_collision%20%5Bcolor%3D%22%23E89196%22%2C%20shape%3Drectangle%5D%3B%0Aintegrity_test_dead_ends%20%5Bcolor%3D%22%23E89196%22%2C%20shape%3Drectangle%5D%3B%0Aintegrity_test_isolated_roads%20%5Bcolor%3D%22%23E89196%22%2C%20shape%3Drectangle%5D%3B%0Aintegrity_test_nodeset_consistency%20%5Bcolor%3D%22%23E89196%22%2C%20shape%3Drectangle%5D%3B%0Aintegrity_test_sequences%20%5Bcolor%3D%22%23E89196%22%2C%20shape%3Drectangle%5D%3B%0Abroken_sequences%20%5Bcolor%3D%22%23AACDDA%22%5D%3B%0Alinks%20-%3E%20integrity_fix_circular_lines%3B%0Alinks%20-%3E%20integrity_fix_collision%3B%0Alinks%20-%3E%20integrity_fix_sequences%3B%0Alinks%20-%3E%20integrity_test_circular_lines%3B%0Alinks%20-%3E%20integrity_test_collision%3B%0Alinks%20-%3E%20integrity_test_nodeset_consistency%3B%0Alinks%20-%3E%20integrity_test_sequences%3B%0Aintegrity_fix_circular_lines%20-%3E%20links%3B%0Aintegrity_fix_collision%20-%3E%20links%3B%0Aintegrity_fix_collision%20-%3E%20nodes%3B%0Aintegrity_fix_collision%20-%3E%20zones%3B%0Anodes%20-%3E%20integrity_fix_collision%3B%0Anodes%20-%3E%20integrity_test_collision%3B%0Anodes%20-%3E%20integrity_test_nodeset_consistency%3B%0Azones%20-%3E%20integrity_fix_collision%3B%0Azones%20-%3E%20integrity_test_collision%3B%0Aroad_links%20-%3E%20integrity_fix_road_network%3B%0Aroad_links%20-%3E%20integrity_test_dead_ends%3B%0Aroad_links%20-%3E%20integrity_test_isolated_roads%3B%0Aintegrity_fix_road_network%20-%3E%20road_links%3B%0Aintegrity_fix_road_network%20-%3E%20road_nodes%3B%0Aroad_nodes%20-%3E%20integrity_fix_road_network%3B%0Aintegrity_fix_sequences%20-%3E%20links%3B%0Aintegrity_test_sequences%20-%3E%20broken_sequences%3B%0A%7D%0A\n"
     ]
    }
   ],
   "source": [
    "print(f\"\"\"https://dreampuf.github.io/GraphvizOnline/#{quoted}\"\"\")"
   ]
  },
  {
   "cell_type": "code",
   "execution_count": 13,
   "metadata": {},
   "outputs": [
    {
     "data": {
      "text/plain": [
       "'*builds:'"
      ]
     },
     "execution_count": 13,
     "metadata": {},
     "output_type": "execute_result"
    }
   ],
   "source": [
    "'* builds: '.replace(' ', '').replace(' ', '')"
   ]
  },
  {
   "cell_type": "code",
   "execution_count": null,
   "metadata": {
    "collapsed": true
   },
   "outputs": [],
   "source": []
  }
 ],
 "metadata": {
  "kernelspec": {
   "display_name": "Python 3",
   "language": "python",
   "name": "python3"
  },
  "language_info": {
   "codemirror_mode": {
    "name": "ipython",
    "version": 3
   },
   "file_extension": ".py",
   "mimetype": "text/x-python",
   "name": "python",
   "nbconvert_exporter": "python",
   "pygments_lexer": "ipython3",
   "version": "3.6.1"
  }
 },
 "nbformat": 4,
 "nbformat_minor": 2
}
