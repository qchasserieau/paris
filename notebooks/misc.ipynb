{
 "cells": [
  {
   "cell_type": "code",
   "execution_count": null,
   "metadata": {
    "collapsed": true
   },
   "outputs": [],
   "source": [
    "from tqdm import tqdm\n",
    "import pandas as pd\n",
    "\n",
    "import numpy as np\n",
    "def round_geometry(g, decimals=1):\n",
    "    try:\n",
    "        coords = g.coords\n",
    "    except NotImplementedError:\n",
    "        return g\n",
    "    \n",
    "    coords = [(np.round(c[0], decimals), np.round(c[1], decimals)) for c in coords]\n",
    "    return type(g)(coords)\n",
    "\n",
    "def compress_geometry(g, decimals=1):\n",
    "    return round_geometry(g.simplify(decimals))\n",
    "\n",
    "def compress_geometries(self):\n",
    "\n",
    "    projected_model = self.copy()\n",
    "    iterator = tqdm(\n",
    "        projected_model.__dict__.items(),\n",
    "        desc='geometries'\n",
    "    )\n",
    "\n",
    "    for key, attribute in iterator:\n",
    "        if isinstance(attribute, (gpd.GeoDataFrame, gpd.GeoSeries)):\n",
    "            attribute['geometry'] = attribute['geometry'].apply(compress_geometry)\n",
    "            projected_model.__setattr__(key, attribute)\n",
    "        elif isinstance(attribute, pd.DataFrame):\n",
    "            if 'geometry' in attribute.columns:\n",
    "                # print('Converting {}'.format(key))\n",
    "                attribute['geometry'] = attribute['geometry'].apply(compress_geometry)\n",
    "                projected_model.__setattr__(key, attribute)\n",
    "        elif isinstance(attribute, pd.Series):\n",
    "            try:\n",
    "                attribute['geometry'] = attribute['geometry'].apply(compress_geometry)\n",
    "                projected_model.__setattr__(key, attribute)\n",
    "            except:\n",
    "                pass\n",
    "\n",
    "    return projected_model"
   ]
  }
 ],
 "metadata": {
  "kernelspec": {
   "display_name": "Python 3",
   "language": "python",
   "name": "python3"
  },
  "language_info": {
   "codemirror_mode": {
    "name": "ipython",
    "version": 3
   },
   "file_extension": ".py",
   "mimetype": "text/x-python",
   "name": "python",
   "nbconvert_exporter": "python",
   "pygments_lexer": "ipython3",
   "version": "3.6.1"
  }
 },
 "nbformat": 4,
 "nbformat_minor": 2
}
