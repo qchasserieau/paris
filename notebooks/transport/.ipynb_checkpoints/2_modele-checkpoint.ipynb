{
 "cells": [
  {
   "cell_type": "code",
   "execution_count": 1,
   "metadata": {
    "collapsed": true
   },
   "outputs": [],
   "source": [
    "import sys\n",
    "sys.path.insert(0, r'../../../quetzal')\n",
    "\n",
    "from quetzal.io import  gtfs_importer\n",
    "from quetzal.model import stepmodel\n",
    "\n",
    "import numpy as np\n",
    "import pandas as pd\n",
    "from quetzal.io import display"
   ]
  },
  {
   "cell_type": "code",
   "execution_count": 2,
   "metadata": {
    "collapsed": true
   },
   "outputs": [],
   "source": [
    "training_folder = '../../'"
   ]
  },
  {
   "cell_type": "code",
   "execution_count": 3,
   "metadata": {},
   "outputs": [
    {
     "name": "stderr",
     "output_type": "stream",
     "text": [
      "read_hdf: : 100%|██████████████████████████████████████████████████████████████████████| 24/24 [00:01<00:00, 16.21it/s]\n"
     ]
    }
   ],
   "source": [
    "sm = stepmodel.read_zip(training_folder + 'model/transport/bestpathfinder.zip')"
   ]
  },
  {
   "cell_type": "markdown",
   "metadata": {},
   "source": [
    "# generation"
   ]
  },
  {
   "cell_type": "markdown",
   "metadata": {},
   "source": [
    "Modèle très simple : \n",
    "- Emissions = Population\n",
    "- Attractions = Emplois"
   ]
  },
  {
   "cell_type": "code",
   "execution_count": 4,
   "metadata": {},
   "outputs": [
    {
     "data": {
      "text/plain": [
       "2158238.2271273527"
      ]
     },
     "execution_count": 4,
     "metadata": {},
     "output_type": "execute_result"
    }
   ],
   "source": [
    "sm.zones['emission'], sm.zones['attraction'] = sm.zones['pop'].astype(int), sm.zones['emp'].astype(int)\n",
    "sm.zones['pop'].sum()"
   ]
  },
  {
   "cell_type": "markdown",
   "metadata": {},
   "source": [
    "# distribution"
   ]
  },
  {
   "cell_type": "markdown",
   "metadata": {},
   "source": [
    "- La distribution est doublement contrainte. Si la somme des volumes émis est différente de la somme des volumes attirés, les attractions sont mises à l'échelle des émissions\n",
    "\n",
    "- La fonction de détérence est une fonction puissance d'un coût. On peut spécifier l'exposant et le coût choisi \n",
    "- Si vous ne spécifiez aucune matrice de coût, la méthode distribution calcule la distance à vol d'oiseau entre les zones et l'utilise comme coût\n",
    "- La puissance par défaut est 2"
   ]
  },
  {
   "cell_type": "code",
   "execution_count": 5,
   "metadata": {
    "collapsed": true
   },
   "outputs": [],
   "source": [
    "# Ici on prend comme fonction de coût le temps TC. Notez le .unstack() \n",
    "imp_matrix =sm.pt_los[['origin','destination','gtime']].set_index(['origin','destination']).unstack() "
   ]
  },
  {
   "cell_type": "code",
   "execution_count": 6,
   "metadata": {},
   "outputs": [
    {
     "name": "stdout",
     "output_type": "stream",
     "text": [
      "Checking production, attraction balancing:\n",
      "Production:  2158183\n",
      "Attraction:  1642662\n",
      "Productions and attractions do not balance, attractions will be scaled to productions!\n"
     ]
    }
   ],
   "source": [
    "sm.step_distribution(impedance_matrix = imp_matrix)"
   ]
  },
  {
   "cell_type": "markdown",
   "metadata": {},
   "source": [
    "En sortie, l'étape de distribution produit la matrice des déplacements tous modes  :"
   ]
  },
  {
   "cell_type": "code",
   "execution_count": 7,
   "metadata": {},
   "outputs": [
    {
     "data": {
      "text/html": [
       "<div>\n",
       "<style>\n",
       "    .dataframe thead tr:only-child th {\n",
       "        text-align: right;\n",
       "    }\n",
       "\n",
       "    .dataframe thead th {\n",
       "        text-align: left;\n",
       "    }\n",
       "\n",
       "    .dataframe tbody tr th {\n",
       "        vertical-align: top;\n",
       "    }\n",
       "</style>\n",
       "<table border=\"1\" class=\"dataframe\">\n",
       "  <thead>\n",
       "    <tr style=\"text-align: right;\">\n",
       "      <th></th>\n",
       "      <th>origin</th>\n",
       "      <th>destination</th>\n",
       "      <th>volume</th>\n",
       "    </tr>\n",
       "  </thead>\n",
       "  <tbody>\n",
       "  </tbody>\n",
       "</table>\n",
       "</div>"
      ],
      "text/plain": [
       "Empty DataFrame\n",
       "Columns: [origin, destination, volume]\n",
       "Index: []"
      ]
     },
     "execution_count": 7,
     "metadata": {},
     "output_type": "execute_result"
    }
   ],
   "source": [
    "sm.volumes"
   ]
  },
  {
   "cell_type": "markdown",
   "metadata": {},
   "source": [
    "Plutôt décevant. L'erreur provient du fait qu'on a des coûts à 0 sur la diagonale. \n",
    "Changeons ça : "
   ]
  },
  {
   "cell_type": "code",
   "execution_count": 8,
   "metadata": {
    "collapsed": true
   },
   "outputs": [],
   "source": [
    "# On met 2 min (120 s sur la diagonale)\n",
    "imp_matrix = imp_matrix.replace(0,120)"
   ]
  },
  {
   "cell_type": "code",
   "execution_count": 9,
   "metadata": {},
   "outputs": [
    {
     "name": "stdout",
     "output_type": "stream",
     "text": [
      "Checking production, attraction balancing:\n",
      "Production:  2158183\n",
      "Attraction:  1642662\n",
      "Productions and attractions do not balance, attractions will be scaled to productions!\n"
     ]
    }
   ],
   "source": [
    "# On relance la distribution\n",
    "sm.step_distribution(impedance_matrix = imp_matrix, power=-2)"
   ]
  },
  {
   "cell_type": "code",
   "execution_count": 10,
   "metadata": {},
   "outputs": [
    {
     "data": {
      "text/html": [
       "<div>\n",
       "<style>\n",
       "    .dataframe thead tr:only-child th {\n",
       "        text-align: right;\n",
       "    }\n",
       "\n",
       "    .dataframe thead th {\n",
       "        text-align: left;\n",
       "    }\n",
       "\n",
       "    .dataframe tbody tr th {\n",
       "        vertical-align: top;\n",
       "    }\n",
       "</style>\n",
       "<table border=\"1\" class=\"dataframe\">\n",
       "  <thead>\n",
       "    <tr style=\"text-align: right;\">\n",
       "      <th></th>\n",
       "      <th>origin</th>\n",
       "      <th>destination</th>\n",
       "      <th>volume</th>\n",
       "    </tr>\n",
       "  </thead>\n",
       "  <tbody>\n",
       "    <tr>\n",
       "      <th>0</th>\n",
       "      <td>zone_0</td>\n",
       "      <td>zone_0</td>\n",
       "      <td>0.084114</td>\n",
       "    </tr>\n",
       "    <tr>\n",
       "      <th>1</th>\n",
       "      <td>zone_0</td>\n",
       "      <td>zone_1</td>\n",
       "      <td>2.508330</td>\n",
       "    </tr>\n",
       "    <tr>\n",
       "      <th>2</th>\n",
       "      <td>zone_0</td>\n",
       "      <td>zone_2</td>\n",
       "      <td>3.972174</td>\n",
       "    </tr>\n",
       "    <tr>\n",
       "      <th>3</th>\n",
       "      <td>zone_0</td>\n",
       "      <td>zone_3</td>\n",
       "      <td>5.049243</td>\n",
       "    </tr>\n",
       "    <tr>\n",
       "      <th>4</th>\n",
       "      <td>zone_0</td>\n",
       "      <td>zone_4</td>\n",
       "      <td>5.739860</td>\n",
       "    </tr>\n",
       "  </tbody>\n",
       "</table>\n",
       "</div>"
      ],
      "text/plain": [
       "   origin destination    volume\n",
       "0  zone_0      zone_0  0.084114\n",
       "1  zone_0      zone_1  2.508330\n",
       "2  zone_0      zone_2  3.972174\n",
       "3  zone_0      zone_3  5.049243\n",
       "4  zone_0      zone_4  5.739860"
      ]
     },
     "execution_count": 10,
     "metadata": {},
     "output_type": "execute_result"
    }
   ],
   "source": [
    "sm.volumes.head()"
   ]
  },
  {
   "cell_type": "code",
   "execution_count": 11,
   "metadata": {},
   "outputs": [
    {
     "data": {
      "text/plain": [
       "2158182.9999999986"
      ]
     },
     "execution_count": 11,
     "metadata": {},
     "output_type": "execute_result"
    }
   ],
   "source": [
    "sm.volumes['volume'].sum()"
   ]
  },
  {
   "cell_type": "markdown",
   "metadata": {},
   "source": [
    "# modal choice"
   ]
  },
  {
   "cell_type": "markdown",
   "metadata": {},
   "source": [
    "En amont du choix modal, on fusionne les niveaux de services PT et Car en une seule table de niveaux de service. Il faut en outre définir : \n",
    "\n",
    "- *duration_car* et *duration_pt*, qui sont les temps (éventuellement généralisés) utilisés dans le logit\n",
    "- les colonnes de distance pour le calcul des veh-km et pass-km"
   ]
  },
  {
   "cell_type": "code",
   "execution_count": 12,
   "metadata": {},
   "outputs": [
    {
     "name": "stdout",
     "output_type": "stream",
     "text": [
      "Deprecated: replaced by step_build_los\n"
     ]
    }
   ],
   "source": [
    "sm.step_build_los(build_car_skims=False)\n",
    "sm.los['duration_car'] = sm.los['time']\n",
    "sm.los['duration_pt'] = sm.los['gtime']\n",
    "\n",
    "sm.los['distance_car'] = sm.los['duration_car'] * 10\n",
    "sm.los['distance_pt'] = sm.los['length_link_path']"
   ]
  },
  {
   "cell_type": "markdown",
   "metadata": {},
   "source": [
    "Le choix modal implémenté dans Quetzal permet à ce stade un **partage binomial TC / VP**. La constante modale TC est fixée à 0. "
   ]
  },
  {
   "cell_type": "code",
   "execution_count": 13,
   "metadata": {},
   "outputs": [
    {
     "name": "stdout",
     "output_type": "stream",
     "text": [
      "Deprecated: replaced by step_modal_split\n"
     ]
    }
   ],
   "source": [
    "sm.step_modal_split(\n",
    "time_scale=1/1800,\n",
    "alpha_car=2,\n",
    "beta_car=600)"
   ]
  },
  {
   "cell_type": "markdown",
   "metadata": {},
   "source": [
    "Le choix modal créé une nouvelle table **shared** contenant les volumes PT et Car"
   ]
  },
  {
   "cell_type": "code",
   "execution_count": 14,
   "metadata": {},
   "outputs": [
    {
     "data": {
      "text/plain": [
       "volume_pt     8.782862e+05\n",
       "volume_car    1.279897e+06\n",
       "dtype: float64"
      ]
     },
     "execution_count": 14,
     "metadata": {},
     "output_type": "execute_result"
    }
   ],
   "source": [
    "sm.shared[['origin','destination','volume_pt','volume_car']].head()\n",
    "sm.shared[['volume_pt','volume_car']].sum()"
   ]
  },
  {
   "cell_type": "markdown",
   "metadata": {},
   "source": [
    "Si l'on veut faire autre chose que ce logit binomial, le mieux est de :\n",
    "- modifier la méthode **engine.modal_split_from_volumes_and_los()** dont le code est ci-dessous\n",
    "- mettre à jour concomittament les arguments de la méthode **TransportModel.step_model_split()**"
   ]
  },
  {
   "cell_type": "raw",
   "metadata": {},
   "source": [
    "def modal_split_from_volumes_and_los(\n",
    "    volumes,\n",
    "    los,\n",
    "    time_scale=1 / 3600,\n",
    "    alpha_car=2,\n",
    "    beta_car=0\n",
    "):\n",
    "        \n",
    "    los['utility_pt'] = -los['duration_pt']\n",
    "    los['utility_car'] = -los['duration_car'] * alpha_car - beta_car\n",
    "    los['delta_utility'] = los['utility_car'] - los['utility_pt']\n",
    "    los['share_pt'] = 1 / (\n",
    "        1 + np.exp(mu * (los['delta_utility']))\n",
    "    )\n",
    "    los['share_car'] = 1 - los['share_pt']\n",
    "\n",
    "    shared = pd.merge(volumes, los, on=['origin', 'destination'])\n",
    "    shared['volume_pt'] = shared['volume'] * shared['share_pt']\n",
    "    shared['volume_car'] = shared['volume'] * shared['share_car']\n",
    "    return shared"
   ]
  },
  {
   "cell_type": "markdown",
   "metadata": {},
   "source": [
    "# assignment"
   ]
  },
  {
   "cell_type": "markdown",
   "metadata": {},
   "source": [
    "Il s'agit ici de **l'affectation TC**\n",
    "\n",
    "L'étape d'affectation sur le réseau consiste simplement à charger les volumes issus du choix modal sur les chemins. \n",
    "Ces chemins ont déjà été calculés dans le path_finder. Il n'y a donc pas de paramétrisation sur la fonction de coût des chemins, les boardings penalty etc... (déjà fait par path_finder). \n",
    "\n",
    "Les paramtètres de l'affecation sont : \n",
    "\n",
    "- Les volumes que l'on veut charger\n",
    "\n",
    "- Le fait de savoir si on veut charger les volumes sur les liens TC et sur le réseau viaire en plus\n",
    "\n",
    "- Le fait de savoir si en sortie on veut avoir accès aux montées, descentes et transfert par arrêt\n",
    "\n"
   ]
  },
  {
   "cell_type": "code",
   "execution_count": 15,
   "metadata": {
    "collapsed": true
   },
   "outputs": [],
   "source": [
    "sm.volumes = sm.volumes.merge(\n",
    "sm.shared[['origin', 'destination','volume_pt']],\n",
    "on =['origin', 'destination'],\n",
    "how = 'left'\n",
    ")"
   ]
  },
  {
   "cell_type": "code",
   "execution_count": 16,
   "metadata": {
    "collapsed": true
   },
   "outputs": [],
   "source": [
    "sm.step_assignment(\n",
    "    road=True, \n",
    "    boardings= True,\n",
    "    alightings= True,\n",
    "    transfers = True\n",
    ")"
   ]
  },
  {
   "cell_type": "markdown",
   "metadata": {},
   "source": [
    "En sortie, on obtient les charges sur le réseau dans les tables loaded links, road_links et loaded_nodes"
   ]
  },
  {
   "cell_type": "code",
   "execution_count": 17,
   "metadata": {},
   "outputs": [
    {
     "data": {
      "text/html": [
       "<div>\n",
       "<style>\n",
       "    .dataframe thead tr:only-child th {\n",
       "        text-align: right;\n",
       "    }\n",
       "\n",
       "    .dataframe thead th {\n",
       "        text-align: left;\n",
       "    }\n",
       "\n",
       "    .dataframe tbody tr th {\n",
       "        vertical-align: top;\n",
       "    }\n",
       "</style>\n",
       "<table border=\"1\" class=\"dataframe\">\n",
       "  <thead>\n",
       "    <tr style=\"text-align: right;\">\n",
       "      <th></th>\n",
       "      <th>a</th>\n",
       "      <th>agency_id</th>\n",
       "      <th>arrival_time</th>\n",
       "      <th>b</th>\n",
       "      <th>departure_time</th>\n",
       "      <th>direction_id</th>\n",
       "      <th>geometry</th>\n",
       "      <th>index</th>\n",
       "      <th>link_sequence</th>\n",
       "      <th>road_a</th>\n",
       "      <th>...</th>\n",
       "      <th>headway</th>\n",
       "      <th>length</th>\n",
       "      <th>duration</th>\n",
       "      <th>cost</th>\n",
       "      <th>origin</th>\n",
       "      <th>destination</th>\n",
       "      <th>volume_pt</th>\n",
       "      <th>boardings</th>\n",
       "      <th>alightings</th>\n",
       "      <th>transfers</th>\n",
       "    </tr>\n",
       "  </thead>\n",
       "  <tbody>\n",
       "    <tr>\n",
       "      <th>link_10199</th>\n",
       "      <td>791</td>\n",
       "      <td>100</td>\n",
       "      <td>3000.0</td>\n",
       "      <td>104</td>\n",
       "      <td>2880.0</td>\n",
       "      <td>1</td>\n",
       "      <td>LINESTRING (653304.1745852469 6863215.71916923...</td>\n",
       "      <td>10199</td>\n",
       "      <td>13</td>\n",
       "      <td>332476877</td>\n",
       "      <td>...</td>\n",
       "      <td>300</td>\n",
       "      <td>NaN</td>\n",
       "      <td>120.0</td>\n",
       "      <td>270.0</td>\n",
       "      <td>791</td>\n",
       "      <td>104</td>\n",
       "      <td>39618.790229</td>\n",
       "      <td>6231.293836</td>\n",
       "      <td>2343.995577</td>\n",
       "      <td>NaN</td>\n",
       "    </tr>\n",
       "    <tr>\n",
       "      <th>link_10202</th>\n",
       "      <td>170</td>\n",
       "      <td>100</td>\n",
       "      <td>3180.0</td>\n",
       "      <td>345</td>\n",
       "      <td>3120.0</td>\n",
       "      <td>1</td>\n",
       "      <td>LINESTRING (651812.7628556294 6863696.33155811...</td>\n",
       "      <td>10202</td>\n",
       "      <td>16</td>\n",
       "      <td>25207313</td>\n",
       "      <td>...</td>\n",
       "      <td>300</td>\n",
       "      <td>NaN</td>\n",
       "      <td>60.0</td>\n",
       "      <td>210.0</td>\n",
       "      <td>170</td>\n",
       "      <td>345</td>\n",
       "      <td>39287.346438</td>\n",
       "      <td>NaN</td>\n",
       "      <td>8984.286223</td>\n",
       "      <td>NaN</td>\n",
       "    </tr>\n",
       "    <tr>\n",
       "      <th>link_10201</th>\n",
       "      <td>295</td>\n",
       "      <td>100</td>\n",
       "      <td>3120.0</td>\n",
       "      <td>170</td>\n",
       "      <td>3060.0</td>\n",
       "      <td>1</td>\n",
       "      <td>LINESTRING (652225.5936215444 6863586.29283402...</td>\n",
       "      <td>10201</td>\n",
       "      <td>15</td>\n",
       "      <td>202818262</td>\n",
       "      <td>...</td>\n",
       "      <td>300</td>\n",
       "      <td>NaN</td>\n",
       "      <td>60.0</td>\n",
       "      <td>210.0</td>\n",
       "      <td>295</td>\n",
       "      <td>170</td>\n",
       "      <td>39287.346438</td>\n",
       "      <td>1064.468958</td>\n",
       "      <td>NaN</td>\n",
       "      <td>NaN</td>\n",
       "    </tr>\n",
       "    <tr>\n",
       "      <th>link_10200</th>\n",
       "      <td>104</td>\n",
       "      <td>100</td>\n",
       "      <td>3060.0</td>\n",
       "      <td>295</td>\n",
       "      <td>3000.0</td>\n",
       "      <td>1</td>\n",
       "      <td>LINESTRING (652628.4301916371 6863450.72275942...</td>\n",
       "      <td>10200</td>\n",
       "      <td>14</td>\n",
       "      <td>692364452</td>\n",
       "      <td>...</td>\n",
       "      <td>300</td>\n",
       "      <td>NaN</td>\n",
       "      <td>60.0</td>\n",
       "      <td>210.0</td>\n",
       "      <td>104</td>\n",
       "      <td>295</td>\n",
       "      <td>39188.475385</td>\n",
       "      <td>1913.680733</td>\n",
       "      <td>965.597905</td>\n",
       "      <td>NaN</td>\n",
       "    </tr>\n",
       "    <tr>\n",
       "      <th>link_10204</th>\n",
       "      <td>904</td>\n",
       "      <td>100</td>\n",
       "      <td>3360.0</td>\n",
       "      <td>249</td>\n",
       "      <td>3240.0</td>\n",
       "      <td>1</td>\n",
       "      <td>LINESTRING (651096.6915369964 6863865.10871296...</td>\n",
       "      <td>10204</td>\n",
       "      <td>18</td>\n",
       "      <td>361106</td>\n",
       "      <td>...</td>\n",
       "      <td>300</td>\n",
       "      <td>NaN</td>\n",
       "      <td>120.0</td>\n",
       "      <td>270.0</td>\n",
       "      <td>904</td>\n",
       "      <td>249</td>\n",
       "      <td>36355.475918</td>\n",
       "      <td>5287.530713</td>\n",
       "      <td>1189.291754</td>\n",
       "      <td>NaN</td>\n",
       "    </tr>\n",
       "  </tbody>\n",
       "</table>\n",
       "<p>5 rows × 37 columns</p>\n",
       "</div>"
      ],
      "text/plain": [
       "              a  agency_id  arrival_time    b  departure_time  direction_id  \\\n",
       "link_10199  791        100        3000.0  104          2880.0             1   \n",
       "link_10202  170        100        3180.0  345          3120.0             1   \n",
       "link_10201  295        100        3120.0  170          3060.0             1   \n",
       "link_10200  104        100        3060.0  295          3000.0             1   \n",
       "link_10204  904        100        3360.0  249          3240.0             1   \n",
       "\n",
       "                                                     geometry  index  \\\n",
       "link_10199  LINESTRING (653304.1745852469 6863215.71916923...  10199   \n",
       "link_10202  LINESTRING (651812.7628556294 6863696.33155811...  10202   \n",
       "link_10201  LINESTRING (652225.5936215444 6863586.29283402...  10201   \n",
       "link_10200  LINESTRING (652628.4301916371 6863450.72275942...  10200   \n",
       "link_10204  LINESTRING (651096.6915369964 6863865.10871296...  10204   \n",
       "\n",
       "            link_sequence     road_a    ...     headway  length duration  \\\n",
       "link_10199             13  332476877    ...         300     NaN    120.0   \n",
       "link_10202             16   25207313    ...         300     NaN     60.0   \n",
       "link_10201             15  202818262    ...         300     NaN     60.0   \n",
       "link_10200             14  692364452    ...         300     NaN     60.0   \n",
       "link_10204             18     361106    ...         300     NaN    120.0   \n",
       "\n",
       "             cost origin destination     volume_pt    boardings   alightings  \\\n",
       "link_10199  270.0    791         104  39618.790229  6231.293836  2343.995577   \n",
       "link_10202  210.0    170         345  39287.346438          NaN  8984.286223   \n",
       "link_10201  210.0    295         170  39287.346438  1064.468958          NaN   \n",
       "link_10200  210.0    104         295  39188.475385  1913.680733   965.597905   \n",
       "link_10204  270.0    904         249  36355.475918  5287.530713  1189.291754   \n",
       "\n",
       "            transfers  \n",
       "link_10199        NaN  \n",
       "link_10202        NaN  \n",
       "link_10201        NaN  \n",
       "link_10200        NaN  \n",
       "link_10204        NaN  \n",
       "\n",
       "[5 rows x 37 columns]"
      ]
     },
     "execution_count": 17,
     "metadata": {},
     "output_type": "execute_result"
    }
   ],
   "source": [
    "sm.loaded_links.sort_values(\n",
    "'volume_pt',\n",
    "ascending=False).head()"
   ]
  },
  {
   "cell_type": "code",
   "execution_count": 18,
   "metadata": {},
   "outputs": [
    {
     "data": {
      "text/html": [
       "<div>\n",
       "<style>\n",
       "    .dataframe thead tr:only-child th {\n",
       "        text-align: right;\n",
       "    }\n",
       "\n",
       "    .dataframe thead th {\n",
       "        text-align: left;\n",
       "    }\n",
       "\n",
       "    .dataframe tbody tr th {\n",
       "        vertical-align: top;\n",
       "    }\n",
       "</style>\n",
       "<table border=\"1\" class=\"dataframe\">\n",
       "  <thead>\n",
       "    <tr style=\"text-align: right;\">\n",
       "      <th></th>\n",
       "      <th>geometry</th>\n",
       "      <th>volume_pt</th>\n",
       "      <th>boardings</th>\n",
       "      <th>alightings</th>\n",
       "      <th>transfers</th>\n",
       "    </tr>\n",
       "    <tr>\n",
       "      <th>cluster</th>\n",
       "      <th></th>\n",
       "      <th></th>\n",
       "      <th></th>\n",
       "      <th></th>\n",
       "      <th></th>\n",
       "    </tr>\n",
       "  </thead>\n",
       "  <tbody>\n",
       "    <tr>\n",
       "      <th>623</th>\n",
       "      <td>POINT (649829.1514250847 6863959.370133109)</td>\n",
       "      <td>35880.406603</td>\n",
       "      <td>7716.281047</td>\n",
       "      <td>25097.373911</td>\n",
       "      <td>2691.381715</td>\n",
       "    </tr>\n",
       "    <tr>\n",
       "      <th>791</th>\n",
       "      <td>POINT (653303.9753584153 6863260.621450565)</td>\n",
       "      <td>35728.946418</td>\n",
       "      <td>27340.215239</td>\n",
       "      <td>30142.221506</td>\n",
       "      <td>22250.724027</td>\n",
       "    </tr>\n",
       "    <tr>\n",
       "      <th>175</th>\n",
       "      <td>POINT (650447.5177171814 6863517.641281197)</td>\n",
       "      <td>35633.794456</td>\n",
       "      <td>9802.755633</td>\n",
       "      <td>29734.348762</td>\n",
       "      <td>6755.248829</td>\n",
       "    </tr>\n",
       "    <tr>\n",
       "      <th>345</th>\n",
       "      <td>POINT (651540.4858721575 6863765.449351905)</td>\n",
       "      <td>35395.689247</td>\n",
       "      <td>3745.182588</td>\n",
       "      <td>28248.591337</td>\n",
       "      <td>364.091899</td>\n",
       "    </tr>\n",
       "    <tr>\n",
       "      <th>223</th>\n",
       "      <td>POINT (649740.1510863061 6864111.69186595)</td>\n",
       "      <td>31940.394920</td>\n",
       "      <td>186.846036</td>\n",
       "      <td>5115.378488</td>\n",
       "      <td>0.000000</td>\n",
       "    </tr>\n",
       "  </tbody>\n",
       "</table>\n",
       "</div>"
      ],
      "text/plain": [
       "                                            geometry     volume_pt  \\\n",
       "cluster                                                              \n",
       "623      POINT (649829.1514250847 6863959.370133109)  35880.406603   \n",
       "791      POINT (653303.9753584153 6863260.621450565)  35728.946418   \n",
       "175      POINT (650447.5177171814 6863517.641281197)  35633.794456   \n",
       "345      POINT (651540.4858721575 6863765.449351905)  35395.689247   \n",
       "223       POINT (649740.1510863061 6864111.69186595)  31940.394920   \n",
       "\n",
       "            boardings    alightings     transfers  \n",
       "cluster                                            \n",
       "623       7716.281047  25097.373911   2691.381715  \n",
       "791      27340.215239  30142.221506  22250.724027  \n",
       "175       9802.755633  29734.348762   6755.248829  \n",
       "345       3745.182588  28248.591337    364.091899  \n",
       "223        186.846036   5115.378488      0.000000  "
      ]
     },
     "execution_count": 18,
     "metadata": {},
     "output_type": "execute_result"
    }
   ],
   "source": [
    "sm.loaded_nodes.sort_values(\n",
    "'volume_pt',\n",
    "ascending=False).head()"
   ]
  },
  {
   "cell_type": "code",
   "execution_count": 19,
   "metadata": {},
   "outputs": [
    {
     "data": {
      "text/html": [
       "<div>\n",
       "<style>\n",
       "    .dataframe thead tr:only-child th {\n",
       "        text-align: right;\n",
       "    }\n",
       "\n",
       "    .dataframe thead th {\n",
       "        text-align: left;\n",
       "    }\n",
       "\n",
       "    .dataframe tbody tr th {\n",
       "        vertical-align: top;\n",
       "    }\n",
       "</style>\n",
       "<table border=\"1\" class=\"dataframe\">\n",
       "  <thead>\n",
       "    <tr style=\"text-align: right;\">\n",
       "      <th></th>\n",
       "      <th>uid</th>\n",
       "      <th>a</th>\n",
       "      <th>b</th>\n",
       "      <th>length</th>\n",
       "      <th>geometry</th>\n",
       "      <th>time</th>\n",
       "      <th>index</th>\n",
       "      <th>volume_pt</th>\n",
       "      <th>load</th>\n",
       "    </tr>\n",
       "  </thead>\n",
       "  <tbody>\n",
       "    <tr>\n",
       "      <th>0</th>\n",
       "      <td>1</td>\n",
       "      <td>268675130</td>\n",
       "      <td>125730</td>\n",
       "      <td>8.706154</td>\n",
       "      <td>LINESTRING (656776.8195486029 6862766.94295999...</td>\n",
       "      <td>0.870615</td>\n",
       "      <td>0</td>\n",
       "      <td>NaN</td>\n",
       "      <td>NaN</td>\n",
       "    </tr>\n",
       "    <tr>\n",
       "      <th>1</th>\n",
       "      <td>2</td>\n",
       "      <td>21112878</td>\n",
       "      <td>125730</td>\n",
       "      <td>142.342080</td>\n",
       "      <td>LINESTRING (656725.6526448597 6862906.21235419...</td>\n",
       "      <td>14.234208</td>\n",
       "      <td>1</td>\n",
       "      <td>NaN</td>\n",
       "      <td>NaN</td>\n",
       "    </tr>\n",
       "    <tr>\n",
       "      <th>2</th>\n",
       "      <td>3</td>\n",
       "      <td>244455548</td>\n",
       "      <td>125730</td>\n",
       "      <td>105.926114</td>\n",
       "      <td>LINESTRING (656782.0184677866 6862666.26929942...</td>\n",
       "      <td>10.592611</td>\n",
       "      <td>2</td>\n",
       "      <td>161.271575</td>\n",
       "      <td>161.271575</td>\n",
       "    </tr>\n",
       "    <tr>\n",
       "      <th>3</th>\n",
       "      <td>4</td>\n",
       "      <td>1089076182</td>\n",
       "      <td>125730</td>\n",
       "      <td>128.661725</td>\n",
       "      <td>LINESTRING (656641.3830396906 6862754.82251996...</td>\n",
       "      <td>12.866172</td>\n",
       "      <td>3</td>\n",
       "      <td>NaN</td>\n",
       "      <td>NaN</td>\n",
       "    </tr>\n",
       "    <tr>\n",
       "      <th>4</th>\n",
       "      <td>5</td>\n",
       "      <td>125742</td>\n",
       "      <td>60912980</td>\n",
       "      <td>130.716787</td>\n",
       "      <td>LINESTRING (656072.9145291842 6861478.80131762...</td>\n",
       "      <td>13.071679</td>\n",
       "      <td>4</td>\n",
       "      <td>NaN</td>\n",
       "      <td>NaN</td>\n",
       "    </tr>\n",
       "  </tbody>\n",
       "</table>\n",
       "</div>"
      ],
      "text/plain": [
       "   uid           a         b      length  \\\n",
       "0    1   268675130    125730    8.706154   \n",
       "1    2    21112878    125730  142.342080   \n",
       "2    3   244455548    125730  105.926114   \n",
       "3    4  1089076182    125730  128.661725   \n",
       "4    5      125742  60912980  130.716787   \n",
       "\n",
       "                                            geometry       time  index  \\\n",
       "0  LINESTRING (656776.8195486029 6862766.94295999...   0.870615      0   \n",
       "1  LINESTRING (656725.6526448597 6862906.21235419...  14.234208      1   \n",
       "2  LINESTRING (656782.0184677866 6862666.26929942...  10.592611      2   \n",
       "3  LINESTRING (656641.3830396906 6862754.82251996...  12.866172      3   \n",
       "4  LINESTRING (656072.9145291842 6861478.80131762...  13.071679      4   \n",
       "\n",
       "    volume_pt        load  \n",
       "0         NaN         NaN  \n",
       "1         NaN         NaN  \n",
       "2  161.271575  161.271575  \n",
       "3         NaN         NaN  \n",
       "4         NaN         NaN  "
      ]
     },
     "execution_count": 19,
     "metadata": {},
     "output_type": "execute_result"
    }
   ],
   "source": [
    "sm.road_links.head()"
   ]
  },
  {
   "cell_type": "markdown",
   "metadata": {
    "collapsed": true
   },
   "source": [
    "# visualisation de l'affectation"
   ]
  },
  {
   "cell_type": "code",
   "execution_count": 27,
   "metadata": {},
   "outputs": [
    {
     "name": "stderr",
     "output_type": "stream",
     "text": [
      "to_hdf(overwriting): 100%|█████████████████████████████████████████████████████████████| 38/38 [00:27<00:00,  2.67it/s]\n"
     ]
    },
    {
     "name": "stdout",
     "output_type": "stream",
     "text": [
      "could not save attribute: parameters\n"
     ]
    }
   ],
   "source": [
    "import numpy as np\n",
    "from syspy.syspy_utils import data_visualization as dv\n",
    "spectral = list(reversed(['#9e0142','#d53e4f','#f46d43','#fdae61','#fee08b','#e6f598','#abdda4','#66c2a5','#3288bd','#5e4fa2']))\n",
    "\n",
    "df = sm.road_links[['volume_pt', 'geometry']].dropna(subset=['volume_pt'])\n",
    "df['color'] = dv.color_series(np.power(df['volume_pt'], 0.3), colors=spectral)\n",
    "df['width'] = dv.width_series(np.power(df['volume_pt'], 0.3), outer_average_width=5)\n",
    "sm.loaded_road_links = df\n",
    "\n",
    "sm.to_json(\n",
    "    training_folder + 'model/latest', \n",
    "    omitted_attributes=['road_links', 'road_nodes', 'od_stack', 'shared', 'los', 'car_los', 'networkcaster_neighbors']\n",
    ")"
   ]
  },
  {
   "cell_type": "code",
   "execution_count": 28,
   "metadata": {
    "scrolled": true
   },
   "outputs": [
    {
     "data": {
      "text/html": [
       "<div>\n",
       "<style>\n",
       "    .dataframe thead tr:only-child th {\n",
       "        text-align: right;\n",
       "    }\n",
       "\n",
       "    .dataframe thead th {\n",
       "        text-align: left;\n",
       "    }\n",
       "\n",
       "    .dataframe tbody tr th {\n",
       "        vertical-align: top;\n",
       "    }\n",
       "</style>\n",
       "<table border=\"1\" class=\"dataframe\">\n",
       "  <thead>\n",
       "    <tr style=\"text-align: right;\">\n",
       "      <th></th>\n",
       "      <th>geometry</th>\n",
       "    </tr>\n",
       "  </thead>\n",
       "  <tbody>\n",
       "    <tr>\n",
       "      <th>0</th>\n",
       "      <td>LINESTRING (253531.1305237492 909838.930557875...</td>\n",
       "    </tr>\n",
       "  </tbody>\n",
       "</table>\n",
       "</div>"
      ],
      "text/plain": [
       "                                            geometry\n",
       "0  LINESTRING (253531.1305237492 909838.930557875..."
      ]
     },
     "execution_count": 28,
     "metadata": {},
     "output_type": "execute_result"
    }
   ],
   "source": [
    "sm.checkpoint_links"
   ]
  },
  {
   "cell_type": "markdown",
   "metadata": {},
   "source": [
    "# checkpoints"
   ]
  },
  {
   "cell_type": "code",
   "execution_count": 29,
   "metadata": {
    "collapsed": true
   },
   "outputs": [],
   "source": [
    "link_checkpoints = list(sm.links.loc[sm.links['route_short_name'] == '8'].index)"
   ]
  },
  {
   "cell_type": "markdown",
   "metadata": {},
   "source": [
    "Les checkpoints sont les arborescences des flux. Ils permettent de controler les chemins empruntés par les voyageurs passant par un noeud un lien donné"
   ]
  },
  {
   "cell_type": "code",
   "execution_count": 30,
   "metadata": {
    "collapsed": true
   },
   "outputs": [],
   "source": [
    "sm.analysis_checkpoints(\n",
    "    link_checkpoints=link_checkpoints,\n",
    "    checkpoints_how='any',\n",
    "    volume_column='volume_pt'\n",
    ")"
   ]
  },
  {
   "cell_type": "code",
   "execution_count": 31,
   "metadata": {
    "collapsed": true,
    "scrolled": true
   },
   "outputs": [],
   "source": [
    " # QGIS le reconnaitrait comme un texte sinon"
   ]
  },
  {
   "cell_type": "code",
   "execution_count": 32,
   "metadata": {
    "collapsed": true
   },
   "outputs": [],
   "source": [
    "sm.checkpoint_links = sm.checkpoint_links.loc[sm.checkpoint_links['volume_pt']>0]"
   ]
  },
  {
   "cell_type": "code",
   "execution_count": 33,
   "metadata": {},
   "outputs": [
    {
     "name": "stderr",
     "output_type": "stream",
     "text": [
      "to_hdf(overwriting): 100%|█████████████████████████████████████████████████████████████| 38/38 [00:28<00:00,  2.29it/s]\n"
     ]
    },
    {
     "name": "stdout",
     "output_type": "stream",
     "text": [
      "could not save attribute: parameters\n"
     ]
    }
   ],
   "source": [
    "df = sm.checkpoint_links[['volume_pt', 'geometry']].dropna(subset=['volume_pt'])\n",
    "df['color'] = dv.color_series(np.power(df['volume_pt'], 0.3), colors=spectral)\n",
    "df['width'] = dv.width_series(np.power(df['volume_pt'], 0.3), outer_average_width=5)\n",
    "sm.checkpoint_links = df\n",
    "\n",
    "sm.to_json(\n",
    "    training_folder + 'model/latest', \n",
    "    omitted_attributes=['road_links', 'road_nodes', 'od_stack', 'shared', 'los', 'car_los','pt_los', 'networkcaster_neighbors']\n",
    ")"
   ]
  },
  {
   "cell_type": "code",
   "execution_count": 34,
   "metadata": {
    "scrolled": true
   },
   "outputs": [
    {
     "data": {
      "text/html": [
       "<div>\n",
       "<style>\n",
       "    .dataframe thead tr:only-child th {\n",
       "        text-align: right;\n",
       "    }\n",
       "\n",
       "    .dataframe thead th {\n",
       "        text-align: left;\n",
       "    }\n",
       "\n",
       "    .dataframe tbody tr th {\n",
       "        vertical-align: top;\n",
       "    }\n",
       "</style>\n",
       "<table border=\"1\" class=\"dataframe\">\n",
       "  <thead>\n",
       "    <tr style=\"text-align: right;\">\n",
       "      <th></th>\n",
       "      <th>volume_pt</th>\n",
       "      <th>geometry</th>\n",
       "      <th>color</th>\n",
       "      <th>width</th>\n",
       "    </tr>\n",
       "    <tr>\n",
       "      <th>index</th>\n",
       "      <th></th>\n",
       "      <th></th>\n",
       "      <th></th>\n",
       "      <th></th>\n",
       "    </tr>\n",
       "  </thead>\n",
       "  <tbody>\n",
       "    <tr>\n",
       "      <th>link_225</th>\n",
       "      <td>53.297428</td>\n",
       "      <td>LINESTRING (650307.3816459988 6866463.23236703...</td>\n",
       "      <td>#378dbb</td>\n",
       "      <td>0.732815</td>\n",
       "    </tr>\n",
       "    <tr>\n",
       "      <th>link_226</th>\n",
       "      <td>53.297428</td>\n",
       "      <td>LINESTRING (650187.6111334754 6866238.96435594...</td>\n",
       "      <td>#378dbb</td>\n",
       "      <td>0.732815</td>\n",
       "    </tr>\n",
       "    <tr>\n",
       "      <th>link_227</th>\n",
       "      <td>53.297428</td>\n",
       "      <td>LINESTRING (649995.1226471881 6865892.62571849...</td>\n",
       "      <td>#378dbb</td>\n",
       "      <td>0.732815</td>\n",
       "    </tr>\n",
       "    <tr>\n",
       "      <th>link_228</th>\n",
       "      <td>193.993309</td>\n",
       "      <td>LINESTRING (649818.9594174651 6865617.62253603...</td>\n",
       "      <td>#58b3ac</td>\n",
       "      <td>1.079738</td>\n",
       "    </tr>\n",
       "    <tr>\n",
       "      <th>link_229</th>\n",
       "      <td>193.993309</td>\n",
       "      <td>LINESTRING (649965.1564512044 6865450.00977239...</td>\n",
       "      <td>#58b3ac</td>\n",
       "      <td>1.079738</td>\n",
       "    </tr>\n",
       "    <tr>\n",
       "      <th>link_230</th>\n",
       "      <td>193.993309</td>\n",
       "      <td>LINESTRING (650097.3653809641 6865154.27226282...</td>\n",
       "      <td>#58b3ac</td>\n",
       "      <td>1.079738</td>\n",
       "    </tr>\n",
       "    <tr>\n",
       "      <th>link_231</th>\n",
       "      <td>193.993309</td>\n",
       "      <td>LINESTRING (650336.0928963996 6865078.20384363...</td>\n",
       "      <td>#58b3ac</td>\n",
       "      <td>1.079738</td>\n",
       "    </tr>\n",
       "    <tr>\n",
       "      <th>link_232</th>\n",
       "      <td>193.993309</td>\n",
       "      <td>LINESTRING (650377.9885396247 6864940.98864700...</td>\n",
       "      <td>#58b3ac</td>\n",
       "      <td>1.079738</td>\n",
       "    </tr>\n",
       "    <tr>\n",
       "      <th>link_233</th>\n",
       "      <td>193.993309</td>\n",
       "      <td>LINESTRING (650462.9064325216 6864756.38971792...</td>\n",
       "      <td>#58b3ac</td>\n",
       "      <td>1.079738</td>\n",
       "    </tr>\n",
       "    <tr>\n",
       "      <th>link_234</th>\n",
       "      <td>193.993309</td>\n",
       "      <td>LINESTRING (650366.9165253886 6864527.94763863...</td>\n",
       "      <td>#58b3ac</td>\n",
       "      <td>1.079738</td>\n",
       "    </tr>\n",
       "    <tr>\n",
       "      <th>link_235</th>\n",
       "      <td>193.993309</td>\n",
       "      <td>LINESTRING (650411.0448187261 6864169.49072856...</td>\n",
       "      <td>#58b3ac</td>\n",
       "      <td>1.079738</td>\n",
       "    </tr>\n",
       "    <tr>\n",
       "      <th>link_236</th>\n",
       "      <td>193.993309</td>\n",
       "      <td>LINESTRING (650687.441713704 6863881.867205574...</td>\n",
       "      <td>#58b3ac</td>\n",
       "      <td>1.079738</td>\n",
       "    </tr>\n",
       "    <tr>\n",
       "      <th>link_237</th>\n",
       "      <td>193.993309</td>\n",
       "      <td>LINESTRING (650845.3511436605 6863781.84543218...</td>\n",
       "      <td>#58b3ac</td>\n",
       "      <td>1.079738</td>\n",
       "    </tr>\n",
       "    <tr>\n",
       "      <th>link_328</th>\n",
       "      <td>428.328010</td>\n",
       "      <td>LINESTRING (651026.3749999047 6863669.04470757...</td>\n",
       "      <td>#79caa5</td>\n",
       "      <td>1.369352</td>\n",
       "    </tr>\n",
       "    <tr>\n",
       "      <th>link_329</th>\n",
       "      <td>428.328010</td>\n",
       "      <td>LINESTRING (650971.2422952612 6863863.33370107...</td>\n",
       "      <td>#79caa5</td>\n",
       "      <td>1.369352</td>\n",
       "    </tr>\n",
       "    <tr>\n",
       "      <th>link_330</th>\n",
       "      <td>428.328010</td>\n",
       "      <td>LINESTRING (650735.0018812902 6863938.54178685...</td>\n",
       "      <td>#79caa5</td>\n",
       "      <td>1.369352</td>\n",
       "    </tr>\n",
       "    <tr>\n",
       "      <th>link_331</th>\n",
       "      <td>428.328010</td>\n",
       "      <td>LINESTRING (650626.6974753828 6863961.83765095...</td>\n",
       "      <td>#79caa5</td>\n",
       "      <td>1.369352</td>\n",
       "    </tr>\n",
       "    <tr>\n",
       "      <th>link_332</th>\n",
       "      <td>428.328010</td>\n",
       "      <td>LINESTRING (650352.1717595602 6864343.72459035...</td>\n",
       "      <td>#79caa5</td>\n",
       "      <td>1.369352</td>\n",
       "    </tr>\n",
       "    <tr>\n",
       "      <th>link_333</th>\n",
       "      <td>428.328010</td>\n",
       "      <td>LINESTRING (650319.3522959412 6864439.03860201...</td>\n",
       "      <td>#79caa5</td>\n",
       "      <td>1.369352</td>\n",
       "    </tr>\n",
       "    <tr>\n",
       "      <th>link_334</th>\n",
       "      <td>428.328010</td>\n",
       "      <td>LINESTRING (650431.1788103735 6864645.88229743...</td>\n",
       "      <td>#79caa5</td>\n",
       "      <td>1.369352</td>\n",
       "    </tr>\n",
       "    <tr>\n",
       "      <th>link_335</th>\n",
       "      <td>428.328010</td>\n",
       "      <td>LINESTRING (650436.2027987457 6864986.06054904...</td>\n",
       "      <td>#79caa5</td>\n",
       "      <td>1.369352</td>\n",
       "    </tr>\n",
       "    <tr>\n",
       "      <th>link_336</th>\n",
       "      <td>428.328010</td>\n",
       "      <td>LINESTRING (650245.7173400699 6865161.73612560...</td>\n",
       "      <td>#79caa5</td>\n",
       "      <td>1.369352</td>\n",
       "    </tr>\n",
       "    <tr>\n",
       "      <th>link_337</th>\n",
       "      <td>428.328010</td>\n",
       "      <td>LINESTRING (650023.8531677743 6865371.06082429...</td>\n",
       "      <td>#79caa5</td>\n",
       "      <td>1.369352</td>\n",
       "    </tr>\n",
       "    <tr>\n",
       "      <th>link_338</th>\n",
       "      <td>428.328010</td>\n",
       "      <td>LINESTRING (649976.445576662 6865465.647347466...</td>\n",
       "      <td>#79caa5</td>\n",
       "      <td>1.369352</td>\n",
       "    </tr>\n",
       "    <tr>\n",
       "      <th>link_339</th>\n",
       "      <td>134.684183</td>\n",
       "      <td>LINESTRING (649852.4335787285 6865671.62154492...</td>\n",
       "      <td>#4da7b1</td>\n",
       "      <td>0.967781</td>\n",
       "    </tr>\n",
       "    <tr>\n",
       "      <th>link_340</th>\n",
       "      <td>134.684183</td>\n",
       "      <td>LINESTRING (649995.1226471881 6865892.62571849...</td>\n",
       "      <td>#4da7b1</td>\n",
       "      <td>0.967781</td>\n",
       "    </tr>\n",
       "    <tr>\n",
       "      <th>link_341</th>\n",
       "      <td>134.684183</td>\n",
       "      <td>LINESTRING (650187.6111334754 6866238.96435594...</td>\n",
       "      <td>#4da7b1</td>\n",
       "      <td>0.967781</td>\n",
       "    </tr>\n",
       "    <tr>\n",
       "      <th>link_5295</th>\n",
       "      <td>71.487918</td>\n",
       "      <td>LINESTRING (653682.2189462654 6861705.24855290...</td>\n",
       "      <td>#3d95b8</td>\n",
       "      <td>0.800299</td>\n",
       "    </tr>\n",
       "    <tr>\n",
       "      <th>link_5296</th>\n",
       "      <td>71.487918</td>\n",
       "      <td>LINESTRING (653690.1995027898 6861607.53047164...</td>\n",
       "      <td>#3d95b8</td>\n",
       "      <td>0.800299</td>\n",
       "    </tr>\n",
       "    <tr>\n",
       "      <th>link_5297</th>\n",
       "      <td>71.487918</td>\n",
       "      <td>LINESTRING (653838.7320092692 6861180.29015813...</td>\n",
       "      <td>#3d95b8</td>\n",
       "      <td>0.800299</td>\n",
       "    </tr>\n",
       "    <tr>\n",
       "      <th>...</th>\n",
       "      <td>...</td>\n",
       "      <td>...</td>\n",
       "      <td>...</td>\n",
       "      <td>...</td>\n",
       "    </tr>\n",
       "    <tr>\n",
       "      <th>link_15466</th>\n",
       "      <td>134.637734</td>\n",
       "      <td>LINESTRING (647610.4925432312 6862155.37434220...</td>\n",
       "      <td>#4da7b1</td>\n",
       "      <td>0.967681</td>\n",
       "    </tr>\n",
       "    <tr>\n",
       "      <th>link_15467</th>\n",
       "      <td>134.637734</td>\n",
       "      <td>LINESTRING (647804.0501500404 6861832.81683909...</td>\n",
       "      <td>#4da7b1</td>\n",
       "      <td>0.967681</td>\n",
       "    </tr>\n",
       "    <tr>\n",
       "      <th>link_15468</th>\n",
       "      <td>134.637734</td>\n",
       "      <td>LINESTRING (648196.1205437488 6861384.95771488...</td>\n",
       "      <td>#4da7b1</td>\n",
       "      <td>0.967681</td>\n",
       "    </tr>\n",
       "    <tr>\n",
       "      <th>link_15469</th>\n",
       "      <td>714.092520</td>\n",
       "      <td>LINESTRING (648469.637921846 6861221.892209136...</td>\n",
       "      <td>#96d5a4</td>\n",
       "      <td>1.596278</td>\n",
       "    </tr>\n",
       "    <tr>\n",
       "      <th>link_15470</th>\n",
       "      <td>714.092520</td>\n",
       "      <td>LINESTRING (648756.287437778 6861083.142994232...</td>\n",
       "      <td>#96d5a4</td>\n",
       "      <td>1.596278</td>\n",
       "    </tr>\n",
       "    <tr>\n",
       "      <th>link_15471</th>\n",
       "      <td>714.092520</td>\n",
       "      <td>LINESTRING (649412.0022631621 6860771.11914499...</td>\n",
       "      <td>#96d5a4</td>\n",
       "      <td>1.596278</td>\n",
       "    </tr>\n",
       "    <tr>\n",
       "      <th>link_15472</th>\n",
       "      <td>625.052755</td>\n",
       "      <td>LINESTRING (649579.1363296754 6860445.10914094...</td>\n",
       "      <td>#8ed2a5</td>\n",
       "      <td>1.533760</td>\n",
       "    </tr>\n",
       "    <tr>\n",
       "      <th>link_15473</th>\n",
       "      <td>625.052755</td>\n",
       "      <td>LINESTRING (650126.767462901 6860452.179546185...</td>\n",
       "      <td>#8ed2a5</td>\n",
       "      <td>1.533760</td>\n",
       "    </tr>\n",
       "    <tr>\n",
       "      <th>link_15474</th>\n",
       "      <td>469.702572</td>\n",
       "      <td>LINESTRING (650644.4720849735 6860247.18033797...</td>\n",
       "      <td>#7ecca5</td>\n",
       "      <td>1.407762</td>\n",
       "    </tr>\n",
       "    <tr>\n",
       "      <th>link_15475</th>\n",
       "      <td>469.702572</td>\n",
       "      <td>LINESTRING (650883.0230362191 6860060.52165250...</td>\n",
       "      <td>#7ecca5</td>\n",
       "      <td>1.407762</td>\n",
       "    </tr>\n",
       "    <tr>\n",
       "      <th>link_15476</th>\n",
       "      <td>469.702572</td>\n",
       "      <td>LINESTRING (651062.280287252 6859546.264911922...</td>\n",
       "      <td>#7ecca5</td>\n",
       "      <td>1.407762</td>\n",
       "    </tr>\n",
       "    <tr>\n",
       "      <th>link_15477</th>\n",
       "      <td>338.707721</td>\n",
       "      <td>LINESTRING (651292.7080176139 6859448.42793612...</td>\n",
       "      <td>#6dc5a5</td>\n",
       "      <td>1.276233</td>\n",
       "    </tr>\n",
       "    <tr>\n",
       "      <th>link_15478</th>\n",
       "      <td>256.982622</td>\n",
       "      <td>LINESTRING (651861.5438524694 6859205.70427043...</td>\n",
       "      <td>#61bda7</td>\n",
       "      <td>1.174772</td>\n",
       "    </tr>\n",
       "    <tr>\n",
       "      <th>link_15479</th>\n",
       "      <td>193.700545</td>\n",
       "      <td>LINESTRING (652241.2817429124 6859046.97734172...</td>\n",
       "      <td>#58b3ac</td>\n",
       "      <td>1.079249</td>\n",
       "    </tr>\n",
       "    <tr>\n",
       "      <th>link_15480</th>\n",
       "      <td>193.700545</td>\n",
       "      <td>LINESTRING (652706.8280074788 6859186.24747578...</td>\n",
       "      <td>#58b3ac</td>\n",
       "      <td>1.079249</td>\n",
       "    </tr>\n",
       "    <tr>\n",
       "      <th>link_15481</th>\n",
       "      <td>53.823124</td>\n",
       "      <td>LINESTRING (653148.805889603 6859403.282584026...</td>\n",
       "      <td>#378ebb</td>\n",
       "      <td>0.734976</td>\n",
       "    </tr>\n",
       "    <tr>\n",
       "      <th>link_16538</th>\n",
       "      <td>94.601655</td>\n",
       "      <td>LINESTRING (653537.8837324206 6858746.69664564...</td>\n",
       "      <td>#449cb5</td>\n",
       "      <td>0.870466</td>\n",
       "    </tr>\n",
       "    <tr>\n",
       "      <th>link_16539</th>\n",
       "      <td>187.487675</td>\n",
       "      <td>LINESTRING (654154.0721488406 6859049.56917177...</td>\n",
       "      <td>#57b2ac</td>\n",
       "      <td>1.068745</td>\n",
       "    </tr>\n",
       "    <tr>\n",
       "      <th>link_16540</th>\n",
       "      <td>464.025750</td>\n",
       "      <td>LINESTRING (655034.8028875543 6859397.20710582...</td>\n",
       "      <td>#7dcba5</td>\n",
       "      <td>1.402636</td>\n",
       "    </tr>\n",
       "    <tr>\n",
       "      <th>link_16541</th>\n",
       "      <td>464.025750</td>\n",
       "      <td>LINESTRING (654455.2020119784 6860226.83247843...</td>\n",
       "      <td>#7dcba5</td>\n",
       "      <td>1.402636</td>\n",
       "    </tr>\n",
       "    <tr>\n",
       "      <th>link_16542</th>\n",
       "      <td>464.025750</td>\n",
       "      <td>LINESTRING (653943.7601198575 6860659.12778803...</td>\n",
       "      <td>#7dcba5</td>\n",
       "      <td>1.402636</td>\n",
       "    </tr>\n",
       "    <tr>\n",
       "      <th>link_16543</th>\n",
       "      <td>464.025750</td>\n",
       "      <td>LINESTRING (652120.8276896706 6862276.42578603...</td>\n",
       "      <td>#7dcba5</td>\n",
       "      <td>1.402636</td>\n",
       "    </tr>\n",
       "    <tr>\n",
       "      <th>link_16544</th>\n",
       "      <td>464.025750</td>\n",
       "      <td>LINESTRING (651145.8104994022 6863159.95120686...</td>\n",
       "      <td>#7dcba5</td>\n",
       "      <td>1.402636</td>\n",
       "    </tr>\n",
       "    <tr>\n",
       "      <th>link_16547</th>\n",
       "      <td>554.904137</td>\n",
       "      <td>LINESTRING (650404.2794042298 6863459.89927035...</td>\n",
       "      <td>#87cfa5</td>\n",
       "      <td>1.479952</td>\n",
       "    </tr>\n",
       "    <tr>\n",
       "      <th>link_16548</th>\n",
       "      <td>554.904137</td>\n",
       "      <td>LINESTRING (651145.8104994022 6863159.95120686...</td>\n",
       "      <td>#87cfa5</td>\n",
       "      <td>1.479952</td>\n",
       "    </tr>\n",
       "    <tr>\n",
       "      <th>link_16549</th>\n",
       "      <td>554.904137</td>\n",
       "      <td>LINESTRING (652120.8276896706 6862276.42578603...</td>\n",
       "      <td>#87cfa5</td>\n",
       "      <td>1.479952</td>\n",
       "    </tr>\n",
       "    <tr>\n",
       "      <th>link_16550</th>\n",
       "      <td>554.904137</td>\n",
       "      <td>LINESTRING (653943.7601198575 6860659.12778803...</td>\n",
       "      <td>#87cfa5</td>\n",
       "      <td>1.479952</td>\n",
       "    </tr>\n",
       "    <tr>\n",
       "      <th>link_16551</th>\n",
       "      <td>554.904137</td>\n",
       "      <td>LINESTRING (654455.2020119784 6860226.83247843...</td>\n",
       "      <td>#87cfa5</td>\n",
       "      <td>1.479952</td>\n",
       "    </tr>\n",
       "    <tr>\n",
       "      <th>link_16552</th>\n",
       "      <td>235.794368</td>\n",
       "      <td>LINESTRING (655034.8028875543 6859397.20710582...</td>\n",
       "      <td>#5ebaa9</td>\n",
       "      <td>1.144834</td>\n",
       "    </tr>\n",
       "    <tr>\n",
       "      <th>link_16553</th>\n",
       "      <td>58.894389</td>\n",
       "      <td>LINESTRING (654154.0721488406 6859049.56917177...</td>\n",
       "      <td>#3990ba</td>\n",
       "      <td>0.755100</td>\n",
       "    </tr>\n",
       "  </tbody>\n",
       "</table>\n",
       "<p>667 rows × 4 columns</p>\n",
       "</div>"
      ],
      "text/plain": [
       "             volume_pt                                           geometry  \\\n",
       "index                                                                       \n",
       "link_225     53.297428  LINESTRING (650307.3816459988 6866463.23236703...   \n",
       "link_226     53.297428  LINESTRING (650187.6111334754 6866238.96435594...   \n",
       "link_227     53.297428  LINESTRING (649995.1226471881 6865892.62571849...   \n",
       "link_228    193.993309  LINESTRING (649818.9594174651 6865617.62253603...   \n",
       "link_229    193.993309  LINESTRING (649965.1564512044 6865450.00977239...   \n",
       "link_230    193.993309  LINESTRING (650097.3653809641 6865154.27226282...   \n",
       "link_231    193.993309  LINESTRING (650336.0928963996 6865078.20384363...   \n",
       "link_232    193.993309  LINESTRING (650377.9885396247 6864940.98864700...   \n",
       "link_233    193.993309  LINESTRING (650462.9064325216 6864756.38971792...   \n",
       "link_234    193.993309  LINESTRING (650366.9165253886 6864527.94763863...   \n",
       "link_235    193.993309  LINESTRING (650411.0448187261 6864169.49072856...   \n",
       "link_236    193.993309  LINESTRING (650687.441713704 6863881.867205574...   \n",
       "link_237    193.993309  LINESTRING (650845.3511436605 6863781.84543218...   \n",
       "link_328    428.328010  LINESTRING (651026.3749999047 6863669.04470757...   \n",
       "link_329    428.328010  LINESTRING (650971.2422952612 6863863.33370107...   \n",
       "link_330    428.328010  LINESTRING (650735.0018812902 6863938.54178685...   \n",
       "link_331    428.328010  LINESTRING (650626.6974753828 6863961.83765095...   \n",
       "link_332    428.328010  LINESTRING (650352.1717595602 6864343.72459035...   \n",
       "link_333    428.328010  LINESTRING (650319.3522959412 6864439.03860201...   \n",
       "link_334    428.328010  LINESTRING (650431.1788103735 6864645.88229743...   \n",
       "link_335    428.328010  LINESTRING (650436.2027987457 6864986.06054904...   \n",
       "link_336    428.328010  LINESTRING (650245.7173400699 6865161.73612560...   \n",
       "link_337    428.328010  LINESTRING (650023.8531677743 6865371.06082429...   \n",
       "link_338    428.328010  LINESTRING (649976.445576662 6865465.647347466...   \n",
       "link_339    134.684183  LINESTRING (649852.4335787285 6865671.62154492...   \n",
       "link_340    134.684183  LINESTRING (649995.1226471881 6865892.62571849...   \n",
       "link_341    134.684183  LINESTRING (650187.6111334754 6866238.96435594...   \n",
       "link_5295    71.487918  LINESTRING (653682.2189462654 6861705.24855290...   \n",
       "link_5296    71.487918  LINESTRING (653690.1995027898 6861607.53047164...   \n",
       "link_5297    71.487918  LINESTRING (653838.7320092692 6861180.29015813...   \n",
       "...                ...                                                ...   \n",
       "link_15466  134.637734  LINESTRING (647610.4925432312 6862155.37434220...   \n",
       "link_15467  134.637734  LINESTRING (647804.0501500404 6861832.81683909...   \n",
       "link_15468  134.637734  LINESTRING (648196.1205437488 6861384.95771488...   \n",
       "link_15469  714.092520  LINESTRING (648469.637921846 6861221.892209136...   \n",
       "link_15470  714.092520  LINESTRING (648756.287437778 6861083.142994232...   \n",
       "link_15471  714.092520  LINESTRING (649412.0022631621 6860771.11914499...   \n",
       "link_15472  625.052755  LINESTRING (649579.1363296754 6860445.10914094...   \n",
       "link_15473  625.052755  LINESTRING (650126.767462901 6860452.179546185...   \n",
       "link_15474  469.702572  LINESTRING (650644.4720849735 6860247.18033797...   \n",
       "link_15475  469.702572  LINESTRING (650883.0230362191 6860060.52165250...   \n",
       "link_15476  469.702572  LINESTRING (651062.280287252 6859546.264911922...   \n",
       "link_15477  338.707721  LINESTRING (651292.7080176139 6859448.42793612...   \n",
       "link_15478  256.982622  LINESTRING (651861.5438524694 6859205.70427043...   \n",
       "link_15479  193.700545  LINESTRING (652241.2817429124 6859046.97734172...   \n",
       "link_15480  193.700545  LINESTRING (652706.8280074788 6859186.24747578...   \n",
       "link_15481   53.823124  LINESTRING (653148.805889603 6859403.282584026...   \n",
       "link_16538   94.601655  LINESTRING (653537.8837324206 6858746.69664564...   \n",
       "link_16539  187.487675  LINESTRING (654154.0721488406 6859049.56917177...   \n",
       "link_16540  464.025750  LINESTRING (655034.8028875543 6859397.20710582...   \n",
       "link_16541  464.025750  LINESTRING (654455.2020119784 6860226.83247843...   \n",
       "link_16542  464.025750  LINESTRING (653943.7601198575 6860659.12778803...   \n",
       "link_16543  464.025750  LINESTRING (652120.8276896706 6862276.42578603...   \n",
       "link_16544  464.025750  LINESTRING (651145.8104994022 6863159.95120686...   \n",
       "link_16547  554.904137  LINESTRING (650404.2794042298 6863459.89927035...   \n",
       "link_16548  554.904137  LINESTRING (651145.8104994022 6863159.95120686...   \n",
       "link_16549  554.904137  LINESTRING (652120.8276896706 6862276.42578603...   \n",
       "link_16550  554.904137  LINESTRING (653943.7601198575 6860659.12778803...   \n",
       "link_16551  554.904137  LINESTRING (654455.2020119784 6860226.83247843...   \n",
       "link_16552  235.794368  LINESTRING (655034.8028875543 6859397.20710582...   \n",
       "link_16553   58.894389  LINESTRING (654154.0721488406 6859049.56917177...   \n",
       "\n",
       "              color     width  \n",
       "index                          \n",
       "link_225    #378dbb  0.732815  \n",
       "link_226    #378dbb  0.732815  \n",
       "link_227    #378dbb  0.732815  \n",
       "link_228    #58b3ac  1.079738  \n",
       "link_229    #58b3ac  1.079738  \n",
       "link_230    #58b3ac  1.079738  \n",
       "link_231    #58b3ac  1.079738  \n",
       "link_232    #58b3ac  1.079738  \n",
       "link_233    #58b3ac  1.079738  \n",
       "link_234    #58b3ac  1.079738  \n",
       "link_235    #58b3ac  1.079738  \n",
       "link_236    #58b3ac  1.079738  \n",
       "link_237    #58b3ac  1.079738  \n",
       "link_328    #79caa5  1.369352  \n",
       "link_329    #79caa5  1.369352  \n",
       "link_330    #79caa5  1.369352  \n",
       "link_331    #79caa5  1.369352  \n",
       "link_332    #79caa5  1.369352  \n",
       "link_333    #79caa5  1.369352  \n",
       "link_334    #79caa5  1.369352  \n",
       "link_335    #79caa5  1.369352  \n",
       "link_336    #79caa5  1.369352  \n",
       "link_337    #79caa5  1.369352  \n",
       "link_338    #79caa5  1.369352  \n",
       "link_339    #4da7b1  0.967781  \n",
       "link_340    #4da7b1  0.967781  \n",
       "link_341    #4da7b1  0.967781  \n",
       "link_5295   #3d95b8  0.800299  \n",
       "link_5296   #3d95b8  0.800299  \n",
       "link_5297   #3d95b8  0.800299  \n",
       "...             ...       ...  \n",
       "link_15466  #4da7b1  0.967681  \n",
       "link_15467  #4da7b1  0.967681  \n",
       "link_15468  #4da7b1  0.967681  \n",
       "link_15469  #96d5a4  1.596278  \n",
       "link_15470  #96d5a4  1.596278  \n",
       "link_15471  #96d5a4  1.596278  \n",
       "link_15472  #8ed2a5  1.533760  \n",
       "link_15473  #8ed2a5  1.533760  \n",
       "link_15474  #7ecca5  1.407762  \n",
       "link_15475  #7ecca5  1.407762  \n",
       "link_15476  #7ecca5  1.407762  \n",
       "link_15477  #6dc5a5  1.276233  \n",
       "link_15478  #61bda7  1.174772  \n",
       "link_15479  #58b3ac  1.079249  \n",
       "link_15480  #58b3ac  1.079249  \n",
       "link_15481  #378ebb  0.734976  \n",
       "link_16538  #449cb5  0.870466  \n",
       "link_16539  #57b2ac  1.068745  \n",
       "link_16540  #7dcba5  1.402636  \n",
       "link_16541  #7dcba5  1.402636  \n",
       "link_16542  #7dcba5  1.402636  \n",
       "link_16543  #7dcba5  1.402636  \n",
       "link_16544  #7dcba5  1.402636  \n",
       "link_16547  #87cfa5  1.479952  \n",
       "link_16548  #87cfa5  1.479952  \n",
       "link_16549  #87cfa5  1.479952  \n",
       "link_16550  #87cfa5  1.479952  \n",
       "link_16551  #87cfa5  1.479952  \n",
       "link_16552  #5ebaa9  1.144834  \n",
       "link_16553  #3990ba  0.755100  \n",
       "\n",
       "[667 rows x 4 columns]"
      ]
     },
     "execution_count": 34,
     "metadata": {},
     "output_type": "execute_result"
    }
   ],
   "source": [
    "sm.checkpoint_links"
   ]
  },
  {
   "cell_type": "code",
   "execution_count": 35,
   "metadata": {
    "collapsed": true
   },
   "outputs": [],
   "source": [
    "import geopandas as gpd"
   ]
  },
  {
   "cell_type": "code",
   "execution_count": 36,
   "metadata": {},
   "outputs": [
    {
     "data": {
      "text/plain": [
       "<matplotlib.axes._subplots.AxesSubplot at 0x13a8a74b208>"
      ]
     },
     "execution_count": 36,
     "metadata": {},
     "output_type": "execute_result"
    },
    {
     "data": {
      "image/png": "[encoded data removed]",
      "text/plain": [
       "<Figure size 1224x720 with 1 Axes>"
      ]
     },
     "metadata": {},
     "output_type": "display_data"
    }
   ],
   "source": [
    "%matplotlib inline\n",
    "import matplotlib.pyplot as plt\n",
    "plt.rcParams['figure.figsize'] = [17, 10]\n",
    "gpd.GeoDataFrame(sm.loaded_road_links).plot(column='volume_pt', cmap='OrRd', scheme='quantiles')"
   ]
  },
  {
   "cell_type": "markdown",
   "metadata": {},
   "source": [
    "# linear solver"
   ]
  },
  {
   "cell_type": "markdown",
   "metadata": {
    "collapsed": true
   },
   "source": [
    "Le linear solver est une procédure de déformation d'une matrice de demande sur la base d'information de type comptage"
   ]
  },
  {
   "cell_type": "markdown",
   "metadata": {},
   "source": [
    "Mettons qu'un comptage nous donne un flux de 50000 sur le link_10199"
   ]
  },
  {
   "cell_type": "code",
   "execution_count": 37,
   "metadata": {
    "collapsed": true
   },
   "outputs": [],
   "source": [
    "constrained_links = {'link_10199':50000}"
   ]
  },
  {
   "cell_type": "code",
   "execution_count": 38,
   "metadata": {},
   "outputs": [
    {
     "data": {
      "text/plain": [
       "39618.79022863754"
      ]
     },
     "execution_count": 38,
     "metadata": {},
     "output_type": "execute_result"
    }
   ],
   "source": [
    "sm.loaded_links.loc['link_10199','volume_pt']"
   ]
  },
  {
   "cell_type": "code",
   "execution_count": 39,
   "metadata": {
    "collapsed": true
   },
   "outputs": [],
   "source": [
    "sm.od_stack = pd.merge(\n",
    "sm.pt_los,\n",
    "sm.volumes,\n",
    "on=['origin', 'destination'],\n",
    "suffixes=['_los', '_vol']\n",
    ").sort_values(['origin', 'destination']).reset_index(drop=True)\n",
    "sm.od_stack['euclidean_distance'] = 10 "
   ]
  },
  {
   "cell_type": "code",
   "execution_count": 40,
   "metadata": {
    "collapsed": true
   },
   "outputs": [],
   "source": [
    "sm.zones['geometry'] = sm.zones['geometry'].apply(lambda r: r.convex_hull)"
   ]
  },
  {
   "cell_type": "code",
   "execution_count": 41,
   "metadata": {},
   "outputs": [
    {
     "name": "stdout",
     "output_type": "stream",
     "text": [
      "Deprecated: replaced by preparation_clusterize_zones\n"
     ]
    },
    {
     "name": "stderr",
     "output_type": "stream",
     "text": [
      "100%|████████████████████████████████████████████████████████████████████████████████| 20/20 [00:00<00:00, 6664.50it/s]\n"
     ]
    }
   ],
   "source": [
    "sm.analysis_linear_solver(\n",
    "    constrained_links=constrained_links,\n",
    "    linprog_kwargs={\n",
    "            'bounds_A': [0.75, 1.5], # marge de variation des volumes de chacune des OD\n",
    "            'bounds_emissions': [0.8, 1.2],\n",
    "            'bounds_tot_emissions': [0.95, 1.05],\n",
    "            'pas_distance': 200,\n",
    "            'maxiter': 3000,\n",
    "            'tolerance': 1e-5\n",
    "        }\n",
    "    \n",
    ")"
   ]
  },
  {
   "cell_type": "markdown",
   "metadata": {},
   "source": [
    "Si l'on ajoute la matrice de pivot à la table volumes, on peut relancer une affectation avec les nouveaux volumes. "
   ]
  },
  {
   "cell_type": "code",
   "execution_count": 42,
   "metadata": {
    "collapsed": true
   },
   "outputs": [],
   "source": [
    "pivot = sm.od_stack.set_index(['origin','destination'])['pivot']\n",
    "sm.volumes= sm.volumes.join(\n",
    "pivot,\n",
    "on = ['origin', 'destination'],\n",
    "rsuffix = '_1'\n",
    ")"
   ]
  },
  {
   "cell_type": "code",
   "execution_count": 43,
   "metadata": {
    "collapsed": true
   },
   "outputs": [],
   "source": [
    "sm.step_assignment(\n",
    "    road=True, \n",
    "    boardings= True,\n",
    "    alightings= True,\n",
    "    transfers = True,\n",
    "    pivot_column = 'pivot'\n",
    ")"
   ]
  },
  {
   "cell_type": "code",
   "execution_count": 44,
   "metadata": {},
   "outputs": [
    {
     "data": {
      "text/plain": [
       "49999.99999999998"
      ]
     },
     "execution_count": 44,
     "metadata": {},
     "output_type": "execute_result"
    }
   ],
   "source": [
    "sm.loaded_links.loc['link_10199','volume_pt']"
   ]
  },
  {
   "cell_type": "markdown",
   "metadata": {},
   "source": [
    "Mais on peut toujours affecter avec les volumes initiaux en supprimant le paramètre *pivot_column*"
   ]
  },
  {
   "cell_type": "code",
   "execution_count": 45,
   "metadata": {
    "collapsed": true
   },
   "outputs": [],
   "source": [
    "sm.step_assignment(\n",
    "    road=True, \n",
    "    boardings= True,\n",
    "    alightings= True,\n",
    "    transfers = True,\n",
    ")"
   ]
  },
  {
   "cell_type": "code",
   "execution_count": 46,
   "metadata": {},
   "outputs": [
    {
     "data": {
      "text/plain": [
       "39618.79022863754"
      ]
     },
     "execution_count": 46,
     "metadata": {},
     "output_type": "execute_result"
    }
   ],
   "source": [
    "sm.loaded_links.loc['link_10199','volume_pt']"
   ]
  },
  {
   "cell_type": "markdown",
   "metadata": {},
   "source": [
    "# export"
   ]
  },
  {
   "cell_type": "code",
   "execution_count": 47,
   "metadata": {},
   "outputs": [
    {
     "name": "stderr",
     "output_type": "stream",
     "text": [
      "to_hdf(overwriting): 100%|█████████████████████████████████████████████████████████████| 42/42 [00:57<00:00,  1.36s/it]\n"
     ]
    },
    {
     "name": "stdout",
     "output_type": "stream",
     "text": [
      "could not save attribute: parameters\n",
      "could not save attribute: agg\n"
     ]
    }
   ],
   "source": [
    "sm.to_json(training_folder + 'model/latest')"
   ]
  },
  {
   "cell_type": "markdown",
   "metadata": {
    "collapsed": true
   },
   "source": [
    "**Les développements en cours / à prévoir : **\n",
    "\n",
    "- Affectation routière sous contrainte de capacité"
   ]
  }
 ],
 "metadata": {
  "kernelspec": {
   "display_name": "Python 3",
   "language": "python",
   "name": "python3"
  },
  "language_info": {
   "codemirror_mode": {
    "name": "ipython",
    "version": 3
   },
   "file_extension": ".py",
   "mimetype": "text/x-python",
   "name": "python",
   "nbconvert_exporter": "python",
   "pygments_lexer": "ipython3",
   "version": "3.6.1"
  }
 },
 "nbformat": 4,
 "nbformat_minor": 2
}
