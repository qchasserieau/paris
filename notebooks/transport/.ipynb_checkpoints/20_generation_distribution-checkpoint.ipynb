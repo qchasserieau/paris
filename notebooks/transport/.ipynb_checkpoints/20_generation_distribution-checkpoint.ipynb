{
 "cells": [
  {
   "cell_type": "code",
   "execution_count": 28,
   "metadata": {
    "collapsed": true
   },
   "outputs": [],
   "source": [
    "import sys\n",
    "sys.path.insert(0, r'../../../quetzal')\n",
    "\n",
    "from quetzal.io import  gtfs_importer\n",
    "from quetzal.model import stepmodel\n",
    "\n",
    "import numpy as np\n",
    "import pandas as pd\n",
    "from quetzal.io import display"
   ]
  },
  {
   "cell_type": "code",
   "execution_count": 29,
   "metadata": {
    "collapsed": true
   },
   "outputs": [],
   "source": [
    "training_folder = '../../'"
   ]
  },
  {
   "cell_type": "code",
   "execution_count": 106,
   "metadata": {},
   "outputs": [
    {
     "name": "stderr",
     "output_type": "stream",
     "text": [
      "read_hdf: : 100%|██████████████████████████████████████████████████████████████████████| 22/22 [00:01<00:00, 15.47it/s]\n"
     ]
    }
   ],
   "source": [
    "sm = stepmodel.read_zip(training_folder + r'model/preparation/walk_model.zip')"
   ]
  },
  {
   "cell_type": "markdown",
   "metadata": {},
   "source": [
    "# impedances"
   ]
  },
  {
   "cell_type": "code",
   "execution_count": 108,
   "metadata": {
    "collapsed": true
   },
   "outputs": [],
   "source": [
    "sm.links['headway'] = 300\n",
    "sm.links['length'] = sm.links['road_length']\n",
    "sm.road_links['time'] = sm.road_links['length'] / 10 # m/s\n",
    "sm.step_pt_pathfinder()\n",
    "sm.step_road_pathfinder(all_or_nothing=True)"
   ]
  },
  {
   "cell_type": "markdown",
   "metadata": {},
   "source": [
    "# generation"
   ]
  },
  {
   "cell_type": "markdown",
   "metadata": {},
   "source": [
    "Modèle très simple : \n",
    "- Emissions = Population\n",
    "- Attractions = Emplois"
   ]
  },
  {
   "cell_type": "code",
   "execution_count": 117,
   "metadata": {},
   "outputs": [
    {
     "data": {
      "text/plain": [
       "2158238.2271273527"
      ]
     },
     "execution_count": 117,
     "metadata": {},
     "output_type": "execute_result"
    }
   ],
   "source": [
    "sm.zones['emission'], sm.zones['attraction'] = sm.zones['pop'].astype(int), sm.zones['emp'].astype(int)\n",
    "sm.zones['pop'].sum()"
   ]
  },
  {
   "cell_type": "code",
   "execution_count": 125,
   "metadata": {
    "scrolled": true
   },
   "outputs": [],
   "source": [
    "pt = sm.copy()\n",
    "car = sm.copy()\n",
    "\n",
    "motor_rate = 0.3\n",
    "pt.zones['emission'] *= (1-motor_rate)\n",
    "car.zones['emission'] *= motor_rate"
   ]
  },
  {
   "cell_type": "markdown",
   "metadata": {},
   "source": [
    "# car owners"
   ]
  },
  {
   "cell_type": "code",
   "execution_count": 126,
   "metadata": {},
   "outputs": [
    {
     "name": "stdout",
     "output_type": "stream",
     "text": [
      "Checking production, attraction balancing:\n",
      "Production:  647454.8999999999\n",
      "Attraction:  1642662\n",
      "Productions and attractions do not balance, attractions will be scaled to productions!\n"
     ]
    }
   ],
   "source": [
    "imp_matrix = car.car_los[\n",
    "    ['origin', 'destination', 'time']\n",
    "].set_index(['origin','destination']).unstack() \n",
    "imp_matrix = imp_matrix.replace(0, 120)\n",
    "\n",
    "car.step_distribution(impedance_matrix=imp_matrix)"
   ]
  },
  {
   "cell_type": "markdown",
   "metadata": {},
   "source": [
    "# PT captives"
   ]
  },
  {
   "cell_type": "code",
   "execution_count": 127,
   "metadata": {},
   "outputs": [],
   "source": [
    "# Ici on prend comme fonction de coût le temps TC. Notez le .unstack() \n",
    "imp_matrix = pt.pt_los[\n",
    "    ['origin', 'destination', 'gtime']\n",
    "].set_index(['origin','destination']).unstack() \n",
    "imp_matrix = imp_matrix.replace(0, 120)"
   ]
  },
  {
   "cell_type": "code",
   "execution_count": 128,
   "metadata": {},
   "outputs": [
    {
     "name": "stdout",
     "output_type": "stream",
     "text": [
      "Checking production, attraction balancing:\n",
      "Production:  1510728.0999999999\n",
      "Attraction:  1642662\n",
      "Productions and attractions do not balance, attractions will be scaled to productions!\n"
     ]
    }
   ],
   "source": [
    "pt.step_distribution(impedance_matrix=imp_matrix)"
   ]
  },
  {
   "cell_type": "code",
   "execution_count": 129,
   "metadata": {
    "scrolled": true
   },
   "outputs": [],
   "source": [
    "sm.volumes = pd.merge(\n",
    "    car.volumes,\n",
    "    pt.volumes,\n",
    "    on=['origin', 'destination'],\n",
    "    suffixes=['_pt_captive', '_car_owner']\n",
    ")"
   ]
  },
  {
   "cell_type": "code",
   "execution_count": 130,
   "metadata": {},
   "outputs": [
    {
     "data": {
      "text/plain": [
       "<matplotlib.axes._subplots.AxesSubplot at 0x14d383ff0f0>"
      ]
     },
     "execution_count": 130,
     "metadata": {},
     "output_type": "execute_result"
    },
    {
     "data": {
      "image/png": "[encoded data removed]",
      "text/plain": [
       "<Figure size 720x720 with 1 Axes>"
      ]
     },
     "metadata": {},
     "output_type": "display_data"
    }
   ],
   "source": [
    "%matplotlib inline\n",
    "sm.volumes.plot(\n",
    "    kind='scatter', \n",
    "    x='volume_pt_captive',\n",
    "    y='volume_car_owner', \n",
    "    figsize=[10, 10]\n",
    ")"
   ]
  },
  {
   "cell_type": "code",
   "execution_count": 131,
   "metadata": {},
   "outputs": [
    {
     "name": "stderr",
     "output_type": "stream",
     "text": [
      "to_hdf(new file): 100%|████████████████████████████████████████████████████████████████| 33/33 [00:05<00:00,  6.35it/s]\n"
     ]
    }
   ],
   "source": [
    "sm.to_zip(training_folder + 'model/transport/distribution.zip')"
   ]
  },
  {
   "cell_type": "code",
   "execution_count": null,
   "metadata": {
    "collapsed": true
   },
   "outputs": [],
   "source": []
  }
 ],
 "metadata": {
  "kernelspec": {
   "display_name": "Python 3",
   "language": "python",
   "name": "python3"
  },
  "language_info": {
   "codemirror_mode": {
    "name": "ipython",
    "version": 3
   },
   "file_extension": ".py",
   "mimetype": "text/x-python",
   "name": "python",
   "nbconvert_exporter": "python",
   "pygments_lexer": "ipython3",
   "version": "3.6.1"
  }
 },
 "nbformat": 4,
 "nbformat_minor": 2
}
