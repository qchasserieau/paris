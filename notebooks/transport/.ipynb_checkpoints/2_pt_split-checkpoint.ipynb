{
 "cells": [
  {
   "cell_type": "code",
   "execution_count": 3,
   "metadata": {},
   "outputs": [
    {
     "data": {
      "text/plain": [
       "<module 'quetzal.engine.nested_logit' from '../../../quetzal\\\\quetzal\\\\engine\\\\nested_logit.py'>"
      ]
     },
     "execution_count": 3,
     "metadata": {},
     "output_type": "execute_result"
    }
   ],
   "source": [
    "import sys\n",
    "sys.path.insert(0, r'../../../quetzal')\n",
    "\n",
    "from quetzal.io import  gtfs_importer\n",
    "from quetzal.model import stepmodel\n",
    "import networkx as nx\n",
    "from quetzal.engine import nested_logit\n",
    "from imp import reload\n",
    "reload(nested_logit)"
   ]
  },
  {
   "cell_type": "code",
   "execution_count": 4,
   "metadata": {
    "collapsed": true
   },
   "outputs": [],
   "source": [
    "training_folder = '../../'"
   ]
  },
  {
   "cell_type": "code",
   "execution_count": 5,
   "metadata": {},
   "outputs": [
    {
     "name": "stderr",
     "output_type": "stream",
     "text": [
      "read_hdf: : 100%|██████████████████████████████████████████████████████████████████████| 23/23 [00:01<00:00, 12.82it/s]\n"
     ]
    }
   ],
   "source": [
    "sm = stepmodel.read_zip(training_folder + r'model/transport/pt_pathfinder.zip')"
   ]
  },
  {
   "cell_type": "markdown",
   "metadata": {},
   "source": [
    "# assign a route_type to all paths"
   ]
  },
  {
   "cell_type": "code",
   "execution_count": 6,
   "metadata": {
    "collapsed": true
   },
   "outputs": [],
   "source": [
    "los = sm.pt_los\n",
    "route_type_dict = sm.links['route_type'].to_dict()\n",
    "los['route_types'] = los['link_path'].apply(lambda p: tuple({route_type_dict[l] for l in p}))\n",
    "los['route_type'] = los['route_types'].apply(lambda s: max(s) if len(s) else 'walk')"
   ]
  },
  {
   "cell_type": "markdown",
   "metadata": {},
   "source": [
    "# evaluate paths -> calculate utility"
   ]
  },
  {
   "cell_type": "code",
   "execution_count": 7,
   "metadata": {
    "collapsed": true
   },
   "outputs": [],
   "source": [
    "sm.pt_los['utility'] = - sm.pt_los['gtime'] / 1800"
   ]
  },
  {
   "cell_type": "markdown",
   "metadata": {
    "collapsed": true
   },
   "source": [
    "# pt_split"
   ]
  },
  {
   "cell_type": "code",
   "execution_count": 8,
   "metadata": {
    "collapsed": true
   },
   "outputs": [],
   "source": [
    "def step_pt_split(\n",
    "    self,  \n",
    "    verbose=False, \n",
    "    mode_nests=None, \n",
    "    nested_logit_structure=None\n",
    "):\n",
    "    \n",
    "    r = nested_logit.nested_logit_from_paths(\n",
    "        self.pt_los, \n",
    "        mode_nests=mode_nests,\n",
    "        phi=nested_logit_structure,\n",
    "        verbose=verbose\n",
    "    )\n",
    "    self.pt_los, self.pt_utilities, self.pt_probabilities = r"
   ]
  },
  {
   "cell_type": "code",
   "execution_count": 59,
   "metadata": {},
   "outputs": [
    {
     "data": {
      "text/plain": [
       "<module 'quetzal.engine.nested_logit' from '../../../quetzal\\\\quetzal\\\\engine\\\\nested_logit.py'>"
      ]
     },
     "execution_count": 59,
     "metadata": {},
     "output_type": "execute_result"
    }
   ],
   "source": [
    "reload(nested_logit)"
   ]
  },
  {
   "cell_type": "code",
   "execution_count": 60,
   "metadata": {
    "collapsed": true
   },
   "outputs": [],
   "source": [
    "mode_nests = {\n",
    "    'root': ['pt', 'car', 'walk'],\n",
    "    'pt':['massive','bus'],\n",
    "    'massive':['subway', 'tram', 'rail']\n",
    "}\n",
    "\n",
    "nested_logit_structure = {\n",
    "    'root': 1,\n",
    "    'pt': 0.75,\n",
    "    'car': 0.01, # los are obtained with wardrop equilibrium\n",
    "    'walk': 0.75,\n",
    "    'massive': 0.5,\n",
    "    'subway': 0.5,\n",
    "    'tram': 0.25,\n",
    "    'rail': 0.25,\n",
    "    'bus':0.25\n",
    "}"
   ]
  },
  {
   "cell_type": "code",
   "execution_count": 61,
   "metadata": {
    "collapsed": true
   },
   "outputs": [],
   "source": [
    "sm.pt_los['utility'] = - sm.pt_los['gtime'] / 3600"
   ]
  },
  {
   "cell_type": "code",
   "execution_count": 62,
   "metadata": {
    "scrolled": true
   },
   "outputs": [
    {
     "name": "stdout",
     "output_type": "stream",
     "text": [
      "path utilities bus 0.25 -> bus\n",
      "path utilities rail 0.25 -> rail\n",
      "path utilities subway 0.5 -> subway\n",
      "path utilities tram 0.25 -> tram\n",
      "path utilities walk 0.75 -> walk\n",
      "mode utilities ['subway', 'tram', 'rail'] 0.5 -> massive\n",
      "mode utilities ['massive', 'bus'] 0.75 -> pt\n",
      "mode utilities ['pt', 'car', 'walk'] 1 -> root\n",
      "mode probabilities root 1 -> ['pt', 'car', 'walk']\n",
      "mode probabilities pt 0.75 -> ['massive', 'bus']\n",
      "mode probabilities massive 0.5 -> ['subway', 'tram', 'rail']\n",
      "path probabilities bus 0.25 -> bus\n",
      "path probabilities rail 0.25 -> rail\n",
      "path probabilities subway 0.5 -> subway\n",
      "path probabilities tram 0.25 -> tram\n",
      "path probabilities walk 0.75 -> walk\n"
     ]
    }
   ],
   "source": [
    "step_pt_split(\n",
    "    sm, \n",
    "    mode_nests=mode_nests,\n",
    "    nested_logit_structure=nested_logit_structure, \n",
    "    verbose=True\n",
    ")"
   ]
  },
  {
   "cell_type": "code",
   "execution_count": 63,
   "metadata": {},
   "outputs": [
    {
     "data": {
      "text/plain": [
       "route_type\n",
       "root       1.000000\n",
       "walk       0.235334\n",
       "car        0.000000\n",
       "pt         0.764666\n",
       "bus        0.299761\n",
       "massive    0.464905\n",
       "rail       0.083222\n",
       "tram       0.051201\n",
       "subway     0.330481\n",
       "dtype: float64"
      ]
     },
     "execution_count": 63,
     "metadata": {},
     "output_type": "execute_result"
    }
   ],
   "source": [
    "sm.pt_probabilities.mean().T"
   ]
  },
  {
   "cell_type": "code",
   "execution_count": 64,
   "metadata": {},
   "outputs": [
    {
     "name": "stderr",
     "output_type": "stream",
     "text": [
      "to_hdf(new file): 100%|████████████████████████████████████████████████████████████████| 33/33 [00:04<00:00,  6.77it/s]\n"
     ]
    }
   ],
   "source": [
    "sm.to_zip(training_folder + 'model/transport/pt_split.zip')"
   ]
  },
  {
   "cell_type": "code",
   "execution_count": null,
   "metadata": {
    "collapsed": true
   },
   "outputs": [],
   "source": []
  }
 ],
 "metadata": {
  "kernelspec": {
   "display_name": "Python 3",
   "language": "python",
   "name": "python3"
  },
  "language_info": {
   "codemirror_mode": {
    "name": "ipython",
    "version": 3
   },
   "file_extension": ".py",
   "mimetype": "text/x-python",
   "name": "python",
   "nbconvert_exporter": "python",
   "pygments_lexer": "ipython3",
   "version": "3.6.1"
  }
 },
 "nbformat": 4,
 "nbformat_minor": 2
}
