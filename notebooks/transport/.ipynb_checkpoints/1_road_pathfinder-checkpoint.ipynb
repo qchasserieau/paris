{
 "cells": [
  {
   "cell_type": "code",
   "execution_count": 1,
   "metadata": {},
   "outputs": [],
   "source": [
    "import sys\n",
    "from importlib import reload\n",
    "sys.path.insert(0, r'../../libraries/quetzal')\n",
    "sys.path.insert(0, r'../../libraries/syspy')\n",
    "\n",
    "from quetzal.io import  gtfs_importer\n",
    "from quetzal.model import stepmodel"
   ]
  },
  {
   "cell_type": "code",
   "execution_count": 2,
   "metadata": {},
   "outputs": [
    {
     "data": {
      "text/plain": [
       "<module 'quetzal.model.stepmodel' from '../../libraries/quetzal\\\\quetzal\\\\model\\\\stepmodel.py'>"
      ]
     },
     "execution_count": 2,
     "metadata": {},
     "output_type": "execute_result"
    }
   ],
   "source": [
    "reload(stepmodel)"
   ]
  },
  {
   "cell_type": "code",
   "execution_count": 3,
   "metadata": {
    "collapsed": true
   },
   "outputs": [],
   "source": [
    "training_folder = '../../'"
   ]
  },
  {
   "cell_type": "code",
   "execution_count": 4,
   "metadata": {
    "collapsed": true
   },
   "outputs": [],
   "source": [
    "sm = stepmodel.read_json(training_folder + r'model/walk_model')"
   ]
  },
  {
   "cell_type": "markdown",
   "metadata": {},
   "source": [
    "# required fields !"
   ]
  },
  {
   "cell_type": "code",
   "execution_count": 5,
   "metadata": {
    "collapsed": true
   },
   "outputs": [],
   "source": [
    "sm.links['headway'] = 300\n",
    "sm.links.loc[sm.links['route_type'] == 3, 'headway'] = 600\n",
    "sm.links['length'] = sm.links['road_length']"
   ]
  },
  {
   "cell_type": "markdown",
   "metadata": {},
   "source": [
    "# pathfinder"
   ]
  },
  {
   "cell_type": "markdown",
   "metadata": {},
   "source": [
    "Par défaut, on recherche **LE** chemin de moindre coût (pour la recherche multi chemin, cf. fin de scéance)\n",
    "Le coût prend en compte :   \n",
    "- le temps \n",
    "- une boarding penalty\n",
    "\n",
    "\n"
   ]
  },
  {
   "cell_type": "code",
   "execution_count": 27,
   "metadata": {
    "scrolled": true
   },
   "outputs": [
    {
     "name": "stderr",
     "output_type": "stream",
     "text": [
      "zone_55 : 100%|██████████████████████████████| 110/110 [00:06<00:00, 16.32it/s]\n",
      "path_analysis: 100%|██████████████████| 12100/12100 [00:00<00:00, 22202.73it/s]\n"
     ]
    }
   ],
   "source": [
    "sm.step_pt_pathfinder(\n",
    "    boarding_cost=300\n",
    ")"
   ]
  },
  {
   "cell_type": "markdown",
   "metadata": {},
   "source": [
    "Le PT pathfinder ajoute une table pt_los au modèle. Le coût total de trajet est donné dans 'gtime'. Il est la somme :\n",
    "\n",
    "- du temps en véhicule\n",
    "- des temps d'attente\n",
    "- des temps d'accès, diffusion et transfert (marche à pied)\n",
    "- des boarding cost\n"
   ]
  },
  {
   "cell_type": "code",
   "execution_count": 28,
   "metadata": {},
   "outputs": [
    {
     "data": {
      "text/html": [
       "<div>\n",
       "<style scoped>\n",
       "    .dataframe tbody tr th:only-of-type {\n",
       "        vertical-align: middle;\n",
       "    }\n",
       "\n",
       "    .dataframe tbody tr th {\n",
       "        vertical-align: top;\n",
       "    }\n",
       "\n",
       "    .dataframe thead th {\n",
       "        text-align: right;\n",
       "    }\n",
       "</style>\n",
       "<table border=\"1\" class=\"dataframe\">\n",
       "  <thead>\n",
       "    <tr style=\"text-align: right;\">\n",
       "      <th></th>\n",
       "      <th>origin</th>\n",
       "      <th>destination</th>\n",
       "      <th>gtime</th>\n",
       "      <th>path</th>\n",
       "      <th>pathfinder_session</th>\n",
       "      <th>reversed</th>\n",
       "      <th>alighting_links</th>\n",
       "      <th>alightings</th>\n",
       "      <th>boarding_links</th>\n",
       "      <th>boardings</th>\n",
       "      <th>footpaths</th>\n",
       "      <th>link_path</th>\n",
       "      <th>node_path</th>\n",
       "      <th>ntlegs</th>\n",
       "      <th>transfers</th>\n",
       "      <th>all_walk</th>\n",
       "      <th>time_link_path</th>\n",
       "      <th>length_link_path</th>\n",
       "    </tr>\n",
       "  </thead>\n",
       "  <tbody>\n",
       "    <tr>\n",
       "      <th>0</th>\n",
       "      <td>zone_75</td>\n",
       "      <td>zone_75</td>\n",
       "      <td>0.000000</td>\n",
       "      <td>(zone_75,)</td>\n",
       "      <td>best_path</td>\n",
       "      <td>False</td>\n",
       "      <td>[]</td>\n",
       "      <td>[]</td>\n",
       "      <td>[]</td>\n",
       "      <td>[]</td>\n",
       "      <td>[]</td>\n",
       "      <td>[]</td>\n",
       "      <td>[]</td>\n",
       "      <td>[]</td>\n",
       "      <td>[]</td>\n",
       "      <td>True</td>\n",
       "      <td>0.0</td>\n",
       "      <td>0.000000</td>\n",
       "    </tr>\n",
       "    <tr>\n",
       "      <th>1</th>\n",
       "      <td>zone_75</td>\n",
       "      <td>zone_77</td>\n",
       "      <td>1135.681839</td>\n",
       "      <td>(zone_75, 264, link_12739, link_12740, link_12...</td>\n",
       "      <td>best_path</td>\n",
       "      <td>False</td>\n",
       "      <td>[link_12742]</td>\n",
       "      <td>[675]</td>\n",
       "      <td>[link_12739]</td>\n",
       "      <td>[264]</td>\n",
       "      <td>[]</td>\n",
       "      <td>[link_12739, link_12740, link_12742]</td>\n",
       "      <td>[264, 675]</td>\n",
       "      <td>[(zone_75, 264), (675, zone_77)]</td>\n",
       "      <td>[]</td>\n",
       "      <td>False</td>\n",
       "      <td>120.0</td>\n",
       "      <td>1544.676637</td>\n",
       "    </tr>\n",
       "    <tr>\n",
       "      <th>2</th>\n",
       "      <td>zone_75</td>\n",
       "      <td>zone_71</td>\n",
       "      <td>1232.889061</td>\n",
       "      <td>(zone_75, 65, link_14871, link_14872, link_148...</td>\n",
       "      <td>best_path</td>\n",
       "      <td>False</td>\n",
       "      <td>[link_14873]</td>\n",
       "      <td>[403]</td>\n",
       "      <td>[link_14871]</td>\n",
       "      <td>[65]</td>\n",
       "      <td>[]</td>\n",
       "      <td>[link_14871, link_14872, link_14873]</td>\n",
       "      <td>[65, 403]</td>\n",
       "      <td>[(zone_75, 65), (403, zone_71)]</td>\n",
       "      <td>[]</td>\n",
       "      <td>False</td>\n",
       "      <td>180.0</td>\n",
       "      <td>NaN</td>\n",
       "    </tr>\n",
       "    <tr>\n",
       "      <th>3</th>\n",
       "      <td>zone_75</td>\n",
       "      <td>zone_74</td>\n",
       "      <td>1418.884543</td>\n",
       "      <td>(zone_75, 65, link_14871, link_14872, link_148...</td>\n",
       "      <td>best_path</td>\n",
       "      <td>False</td>\n",
       "      <td>[link_14876]</td>\n",
       "      <td>[239]</td>\n",
       "      <td>[link_14871]</td>\n",
       "      <td>[65]</td>\n",
       "      <td>[]</td>\n",
       "      <td>[link_14871, link_14872, link_14873, link_1487...</td>\n",
       "      <td>[65, 239]</td>\n",
       "      <td>[(zone_75, 65), (239, zone_74)]</td>\n",
       "      <td>[]</td>\n",
       "      <td>False</td>\n",
       "      <td>360.0</td>\n",
       "      <td>NaN</td>\n",
       "    </tr>\n",
       "    <tr>\n",
       "      <th>4</th>\n",
       "      <td>zone_75</td>\n",
       "      <td>zone_66</td>\n",
       "      <td>1550.413641</td>\n",
       "      <td>(zone_75, 264, link_12739, link_12740, link_12...</td>\n",
       "      <td>best_path</td>\n",
       "      <td>False</td>\n",
       "      <td>[link_12746]</td>\n",
       "      <td>[14]</td>\n",
       "      <td>[link_12739]</td>\n",
       "      <td>[264]</td>\n",
       "      <td>[]</td>\n",
       "      <td>[link_12739, link_12740, link_12742, link_1274...</td>\n",
       "      <td>[264, 14]</td>\n",
       "      <td>[(zone_75, 264), (14, zone_66)]</td>\n",
       "      <td>[]</td>\n",
       "      <td>False</td>\n",
       "      <td>420.0</td>\n",
       "      <td>4102.883612</td>\n",
       "    </tr>\n",
       "  </tbody>\n",
       "</table>\n",
       "</div>"
      ],
      "text/plain": [
       "    origin destination        gtime  \\\n",
       "0  zone_75     zone_75     0.000000   \n",
       "1  zone_75     zone_77  1135.681839   \n",
       "2  zone_75     zone_71  1232.889061   \n",
       "3  zone_75     zone_74  1418.884543   \n",
       "4  zone_75     zone_66  1550.413641   \n",
       "\n",
       "                                                path pathfinder_session  \\\n",
       "0                                         (zone_75,)          best_path   \n",
       "1  (zone_75, 264, link_12739, link_12740, link_12...          best_path   \n",
       "2  (zone_75, 65, link_14871, link_14872, link_148...          best_path   \n",
       "3  (zone_75, 65, link_14871, link_14872, link_148...          best_path   \n",
       "4  (zone_75, 264, link_12739, link_12740, link_12...          best_path   \n",
       "\n",
       "   reversed alighting_links alightings boarding_links boardings footpaths  \\\n",
       "0     False              []         []             []        []        []   \n",
       "1     False    [link_12742]      [675]   [link_12739]     [264]        []   \n",
       "2     False    [link_14873]      [403]   [link_14871]      [65]        []   \n",
       "3     False    [link_14876]      [239]   [link_14871]      [65]        []   \n",
       "4     False    [link_12746]       [14]   [link_12739]     [264]        []   \n",
       "\n",
       "                                           link_path   node_path  \\\n",
       "0                                                 []          []   \n",
       "1               [link_12739, link_12740, link_12742]  [264, 675]   \n",
       "2               [link_14871, link_14872, link_14873]   [65, 403]   \n",
       "3  [link_14871, link_14872, link_14873, link_1487...   [65, 239]   \n",
       "4  [link_12739, link_12740, link_12742, link_1274...   [264, 14]   \n",
       "\n",
       "                             ntlegs transfers  all_walk  time_link_path  \\\n",
       "0                                []        []      True             0.0   \n",
       "1  [(zone_75, 264), (675, zone_77)]        []     False           120.0   \n",
       "2   [(zone_75, 65), (403, zone_71)]        []     False           180.0   \n",
       "3   [(zone_75, 65), (239, zone_74)]        []     False           360.0   \n",
       "4   [(zone_75, 264), (14, zone_66)]        []     False           420.0   \n",
       "\n",
       "   length_link_path  \n",
       "0          0.000000  \n",
       "1       1544.676637  \n",
       "2               NaN  \n",
       "3               NaN  \n",
       "4       4102.883612  "
      ]
     },
     "execution_count": 28,
     "metadata": {},
     "output_type": "execute_result"
    }
   ],
   "source": [
    "sm.pt_los.head()"
   ]
  },
  {
   "cell_type": "markdown",
   "metadata": {},
   "source": [
    "On vérifie que gtime est bien la somme des différents temps mentionnés, pour une OD donnée : "
   ]
  },
  {
   "cell_type": "code",
   "execution_count": 29,
   "metadata": {},
   "outputs": [
    {
     "data": {
      "text/html": [
       "<div>\n",
       "<style scoped>\n",
       "    .dataframe tbody tr th:only-of-type {\n",
       "        vertical-align: middle;\n",
       "    }\n",
       "\n",
       "    .dataframe tbody tr th {\n",
       "        vertical-align: top;\n",
       "    }\n",
       "\n",
       "    .dataframe thead th {\n",
       "        text-align: right;\n",
       "    }\n",
       "</style>\n",
       "<table border=\"1\" class=\"dataframe\">\n",
       "  <thead>\n",
       "    <tr style=\"text-align: right;\">\n",
       "      <th></th>\n",
       "      <th>origin</th>\n",
       "      <th>destination</th>\n",
       "      <th>gtime</th>\n",
       "      <th>path</th>\n",
       "      <th>pathfinder_session</th>\n",
       "      <th>reversed</th>\n",
       "      <th>alighting_links</th>\n",
       "      <th>alightings</th>\n",
       "      <th>boarding_links</th>\n",
       "      <th>boardings</th>\n",
       "      <th>footpaths</th>\n",
       "      <th>link_path</th>\n",
       "      <th>node_path</th>\n",
       "      <th>ntlegs</th>\n",
       "      <th>transfers</th>\n",
       "      <th>all_walk</th>\n",
       "      <th>time_link_path</th>\n",
       "      <th>length_link_path</th>\n",
       "    </tr>\n",
       "  </thead>\n",
       "  <tbody>\n",
       "    <tr>\n",
       "      <th>1292</th>\n",
       "      <td>zone_41</td>\n",
       "      <td>zone_73</td>\n",
       "      <td>2633.164439</td>\n",
       "      <td>(zone_41, 180, link_16540, link_16541, 67, lin...</td>\n",
       "      <td>best_path</td>\n",
       "      <td>False</td>\n",
       "      <td>[link_16541, link_18079, link_15337]</td>\n",
       "      <td>[67, 396, 198]</td>\n",
       "      <td>[link_16540, link_18077, link_15337]</td>\n",
       "      <td>[180, 67, 396]</td>\n",
       "      <td>[]</td>\n",
       "      <td>[link_16540, link_16541, link_18077, link_1807...</td>\n",
       "      <td>[180, 67, 396, 198]</td>\n",
       "      <td>[(zone_41, 180), (198, zone_73)]</td>\n",
       "      <td>[67, 396]</td>\n",
       "      <td>False</td>\n",
       "      <td>720.0</td>\n",
       "      <td>NaN</td>\n",
       "    </tr>\n",
       "  </tbody>\n",
       "</table>\n",
       "</div>"
      ],
      "text/plain": [
       "       origin destination        gtime  \\\n",
       "1292  zone_41     zone_73  2633.164439   \n",
       "\n",
       "                                                   path pathfinder_session  \\\n",
       "1292  (zone_41, 180, link_16540, link_16541, 67, lin...          best_path   \n",
       "\n",
       "      reversed                       alighting_links      alightings  \\\n",
       "1292     False  [link_16541, link_18079, link_15337]  [67, 396, 198]   \n",
       "\n",
       "                            boarding_links       boardings footpaths  \\\n",
       "1292  [link_16540, link_18077, link_15337]  [180, 67, 396]        []   \n",
       "\n",
       "                                              link_path            node_path  \\\n",
       "1292  [link_16540, link_16541, link_18077, link_1807...  [180, 67, 396, 198]   \n",
       "\n",
       "                                ntlegs  transfers  all_walk  time_link_path  \\\n",
       "1292  [(zone_41, 180), (198, zone_73)]  [67, 396]     False           720.0   \n",
       "\n",
       "      length_link_path  \n",
       "1292               NaN  "
      ]
     },
     "execution_count": 29,
     "metadata": {},
     "output_type": "execute_result"
    }
   ],
   "source": [
    "df = sm.pt_los\n",
    "df[(df['origin']=='zone_41') & (df['destination']=='zone_73')]"
   ]
  },
  {
   "cell_type": "code",
   "execution_count": 30,
   "metadata": {},
   "outputs": [
    {
     "data": {
      "text/plain": [
       "2633.16443887475"
      ]
     },
     "execution_count": 30,
     "metadata": {},
     "output_type": "execute_result"
    }
   ],
   "source": [
    "my_gtime = df.loc[\n",
    "    (df['origin']=='zone_41') & (df['destination']=='zone_73'),'gtime'\n",
    "].iloc[0]\n",
    "my_gtime"
   ]
  },
  {
   "cell_type": "code",
   "execution_count": 31,
   "metadata": {
    "collapsed": true
   },
   "outputs": [],
   "source": [
    "my_fp = df.loc[\n",
    "    (df['origin']=='zone_41') & (df['destination']=='zone_73'),'footpaths'\n",
    "].iloc[0]\n",
    "\n",
    "my_boarding_links = df.loc[\n",
    "    (df['origin']=='zone_41') & (df['destination']=='zone_73'),'boarding_links'\n",
    "].iloc[0]\n",
    "\n",
    "my_nt_legs = df.loc[\n",
    "    (df['origin']=='zone_41') & (df['destination']=='zone_73'),'ntlegs'\n",
    "].iloc[0]\n",
    "\n",
    "my_pt_links = df.loc[\n",
    "    (df['origin']=='zone_41') & (df['destination']=='zone_73'),'link_path'\n",
    "].iloc[0]\n",
    "\n",
    "my_boardings = df.loc[\n",
    "    (df['origin']=='zone_41') & (df['destination']=='zone_73'),'boardings'\n",
    "].iloc[0]\n"
   ]
  },
  {
   "cell_type": "code",
   "execution_count": 32,
   "metadata": {
    "collapsed": true
   },
   "outputs": [],
   "source": [
    "pt_links_cost = sm.links.loc[my_pt_links].sum()['time']"
   ]
  },
  {
   "cell_type": "code",
   "execution_count": 33,
   "metadata": {
    "collapsed": true
   },
   "outputs": [],
   "source": [
    "boarding_cost = len(my_boardings) * 300"
   ]
  },
  {
   "cell_type": "code",
   "execution_count": 34,
   "metadata": {
    "collapsed": true
   },
   "outputs": [],
   "source": [
    "wait_cost = sm.links.loc[my_boarding_links].sum()['headway']/2"
   ]
  },
  {
   "cell_type": "code",
   "execution_count": 35,
   "metadata": {
    "collapsed": true
   },
   "outputs": [],
   "source": [
    "ntl = sm.zone_to_transit.set_index(['a','b'])\n",
    "ntl_cost = ntl.loc[my_nt_legs]['time'].sum()"
   ]
  },
  {
   "cell_type": "code",
   "execution_count": 36,
   "metadata": {
    "collapsed": true
   },
   "outputs": [],
   "source": [
    "fp = sm.footpaths.set_index(['a','b'])\n",
    "fp_cost = fp.loc[my_fp]['time'].sum()"
   ]
  },
  {
   "cell_type": "code",
   "execution_count": 37,
   "metadata": {},
   "outputs": [
    {
     "name": "stdout",
     "output_type": "stream",
     "text": [
      "Hourra ! \n"
     ]
    }
   ],
   "source": [
    "ecart  = my_gtime - (ntl_cost + wait_cost + pt_links_cost + fp_cost + boarding_cost )\n",
    "\n",
    "if ecart < 1e-4 :\n",
    "    print('Hourra ! ')\n",
    "else : \n",
    "    print('Hum Hum...')"
   ]
  },
  {
   "cell_type": "markdown",
   "metadata": {},
   "source": [
    "Calcul du taux de correspondance \"moyen\" (on ne pondère ici pas par les volumes) :"
   ]
  },
  {
   "cell_type": "code",
   "execution_count": 38,
   "metadata": {},
   "outputs": [
    {
     "data": {
      "text/plain": [
       "1.5165289256198347"
      ]
     },
     "execution_count": 38,
     "metadata": {},
     "output_type": "execute_result"
    }
   ],
   "source": [
    "connexion_rate = len(sm.pt_los['boardings'].sum()) / len(sm.pt_los.index)\n",
    "connexion_rate"
   ]
  },
  {
   "cell_type": "markdown",
   "metadata": {},
   "source": [
    "Calcul du temps de parcours \"moyen\" (on ne pondère ici pas par les volumes) :"
   ]
  },
  {
   "cell_type": "code",
   "execution_count": 39,
   "metadata": {},
   "outputs": [
    {
     "data": {
      "text/plain": [
       "2324.7145126166643"
      ]
     },
     "execution_count": 39,
     "metadata": {},
     "output_type": "execute_result"
    }
   ],
   "source": [
    "average_travel_time = sm.pt_los['gtime'].mean()\n",
    "average_travel_time"
   ]
  },
  {
   "cell_type": "markdown",
   "metadata": {},
   "source": [
    "En montant la boarding penalty, on baisse le taux de correspondance : "
   ]
  },
  {
   "cell_type": "code",
   "execution_count": 41,
   "metadata": {},
   "outputs": [
    {
     "name": "stderr",
     "output_type": "stream",
     "text": [
      "zone_55 : 100%|██████████████████████████████| 110/110 [00:06<00:00, 18.92it/s]\n",
      "path_analysis: 100%|██████████████████| 12100/12100 [00:00<00:00, 22408.31it/s]\n"
     ]
    },
    {
     "data": {
      "text/plain": [
       "1.2400826446280993"
      ]
     },
     "execution_count": 41,
     "metadata": {},
     "output_type": "execute_result"
    }
   ],
   "source": [
    "sm.step_pt_pathfinder(\n",
    "    boarding_cost=600\n",
    ")\n",
    "connexion_rate = len(sm.pt_los['boardings'].sum()) / len(sm.pt_los.index)\n",
    "connexion_rate"
   ]
  },
  {
   "cell_type": "markdown",
   "metadata": {},
   "source": [
    "Et on a fait augmenter le temps de parcours"
   ]
  },
  {
   "cell_type": "code",
   "execution_count": 42,
   "metadata": {},
   "outputs": [
    {
     "data": {
      "text/plain": [
       "2733.246344820039"
      ]
     },
     "execution_count": 42,
     "metadata": {},
     "output_type": "execute_result"
    }
   ],
   "source": [
    "average_travel_time = sm.pt_los['gtime'].mean()\n",
    "average_travel_time"
   ]
  },
  {
   "cell_type": "markdown",
   "metadata": {},
   "source": [
    "# display"
   ]
  },
  {
   "cell_type": "markdown",
   "metadata": {},
   "source": [
    "Il peut être utile de visualiser un chemin. C'est faisable grâce au module display"
   ]
  },
  {
   "cell_type": "code",
   "execution_count": 19,
   "metadata": {},
   "outputs": [
    {
     "name": "stderr",
     "output_type": "stream",
     "text": [
      "Reprojecting model from epsg 2154 to epsg 4326: 100%|█| 30/30 [00:04<00:00,  7.14it/s]\n"
     ]
    }
   ],
   "source": [
    "projected = sm.change_epsg(4326, 'degree')"
   ]
  },
  {
   "cell_type": "code",
   "execution_count": 20,
   "metadata": {
    "scrolled": true
   },
   "outputs": [
    {
     "data": {
      "text/plain": [
       "<module 'quetzal.io.display' from '../../libraries/quetzal\\\\quetzal\\\\io\\\\display.py'>"
      ]
     },
     "execution_count": 20,
     "metadata": {},
     "output_type": "execute_result"
    }
   ],
   "source": [
    "from quetzal.io import display\n",
    "reload(display)"
   ]
  },
  {
   "cell_type": "code",
   "execution_count": 21,
   "metadata": {
    "scrolled": true
   },
   "outputs": [
    {
     "data": {
      "text/html": [
       "<div style=\"width:100%;\"><div style=\"position:relative;width:100%;height:0;padding-bottom:60%;\"><iframe src=\"data:text/html;charset=utf-8;base64,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\" style=\"position:absolute;width:100%;height:100%;left:0;top:0;border:none !important;\" allowfullscreen webkitallowfullscreen mozallowfullscreen></iframe></div></div>"
      ],
      "text/plain": [
       "<folium.folium.Map at 0x1c1c3b70>"
      ]
     },
     "execution_count": 21,
     "metadata": {},
     "output_type": "execute_result"
    }
   ],
   "source": [
    "from imp import reload\n",
    "reload(display)\n",
    "display.pt_path(projected, 'zone_41',  'zone_73', color_column='route_color', group_name='route_short_name')"
   ]
  },
  {
   "cell_type": "code",
   "execution_count": 22,
   "metadata": {
    "scrolled": true
   },
   "outputs": [
    {
     "name": "stderr",
     "output_type": "stream",
     "text": [
      "to_hdf(overwriting): 100%|█████████████████████| 30/30 [00:23<00:00,  1.10it/s]\n"
     ]
    }
   ],
   "source": [
    "sm.to_hdf(training_folder + 'model/bestpathfinder.hdf')"
   ]
  },
  {
   "cell_type": "code",
   "execution_count": 23,
   "metadata": {},
   "outputs": [
    {
     "name": "stderr",
     "output_type": "stream",
     "text": [
      "to_hdf(overwriting): 100%|█████████████████████| 30/30 [01:19<00:00,  1.03s/it]\n"
     ]
    }
   ],
   "source": [
    "sm.to_json(training_folder + 'model/bestpathfinder')"
   ]
  },
  {
   "cell_type": "markdown",
   "metadata": {},
   "source": [
    "**Les développements en cours / à prévoir : **\n",
    "\n",
    "- Le multichemin : existe déjà, on en parle à la fin de la session\n",
    "- Mettre autre chose que du temps (par exemple tenir compte du prix) dans le coût généralisé : faisable et à faire"
   ]
  }
 ],
 "metadata": {
  "kernelspec": {
   "display_name": "Python 3",
   "language": "python",
   "name": "python3"
  },
  "language_info": {
   "codemirror_mode": {
    "name": "ipython",
    "version": 3
   },
   "file_extension": ".py",
   "mimetype": "text/x-python",
   "name": "python",
   "nbconvert_exporter": "python",
   "pygments_lexer": "ipython3",
   "version": "3.6.3"
  }
 },
 "nbformat": 4,
 "nbformat_minor": 2
}
