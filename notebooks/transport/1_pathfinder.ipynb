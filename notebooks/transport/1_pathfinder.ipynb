{
 "cells": [
  {
   "cell_type": "code",
   "execution_count": 2,
   "metadata": {
    "collapsed": true
   },
   "outputs": [],
   "source": [
    "import sys\n",
    "sys.path.insert(0, r'../../../quetzal')\n",
    "\n",
    "from quetzal.model import stepmodel\n",
    "from imp import reload"
   ]
  },
  {
   "cell_type": "code",
   "execution_count": 3,
   "metadata": {},
   "outputs": [
    {
     "data": {
      "text/plain": [
       "<module 'quetzal.model.stepmodel' from '../../../quetzal\\\\quetzal\\\\model\\\\stepmodel.py'>"
      ]
     },
     "execution_count": 3,
     "metadata": {},
     "output_type": "execute_result"
    }
   ],
   "source": [
    "reload(stepmodel)"
   ]
  },
  {
   "cell_type": "code",
   "execution_count": 4,
   "metadata": {
    "collapsed": true
   },
   "outputs": [],
   "source": [
    "training_folder = '../../'"
   ]
  },
  {
   "cell_type": "code",
   "execution_count": 5,
   "metadata": {},
   "outputs": [
    {
     "name": "stderr",
     "output_type": "stream",
     "text": [
      "read_hdf: : 100%|██████████████████████████████████████████████████████████████████████| 22/22 [00:01<00:00, 17.83it/s]\n"
     ]
    }
   ],
   "source": [
    "sm = stepmodel.read_zip(training_folder + r'model/preparation/walk_model.zip')"
   ]
  },
  {
   "cell_type": "markdown",
   "metadata": {},
   "source": [
    "# required fields !"
   ]
  },
  {
   "cell_type": "code",
   "execution_count": 6,
   "metadata": {
    "collapsed": true
   },
   "outputs": [],
   "source": [
    "sm.links['headway'] = 300\n",
    "sm.links.loc[sm.links['route_type'] == 3, 'headway'] = 600\n",
    "sm.links['length'] = sm.links['road_length']"
   ]
  },
  {
   "cell_type": "markdown",
   "metadata": {},
   "source": [
    "# public transport pathfinder"
   ]
  },
  {
   "cell_type": "markdown",
   "metadata": {},
   "source": [
    "Par défaut, on recherche **LE** chemin de moindre coût (pour la recherche multi chemin, cf. fin de scéance)\n",
    "Le coût prend en compte :   \n",
    "- le temps \n",
    "- une boarding penalty\n",
    "\n",
    "\n"
   ]
  },
  {
   "cell_type": "code",
   "execution_count": 6,
   "metadata": {
    "scrolled": true
   },
   "outputs": [
    {
     "name": "stderr",
     "output_type": "stream",
     "text": [
      "zone_49 100%|████████████████████████████████████████████████████████████████████████| 110/110 [00:05<00:00, 21.22it/s]\n",
      "path_analysis: 100%|██████████████████████████████████████████████████████████| 12100/12100 [00:00<00:00, 38537.74it/s]\n"
     ]
    }
   ],
   "source": [
    "sm.step_pt_pathfinder(\n",
    "    boarding_cost=300\n",
    ")"
   ]
  },
  {
   "cell_type": "markdown",
   "metadata": {},
   "source": [
    "Le PT pathfinder ajoute une table pt_los au modèle. Le coût total de trajet est donné dans 'gtime'. Il est la somme :\n",
    "\n",
    "- du temps en véhicule\n",
    "- des temps d'attente\n",
    "- des temps d'accès, diffusion et transfert (marche à pied)\n",
    "- des boarding cost\n"
   ]
  },
  {
   "cell_type": "code",
   "execution_count": 7,
   "metadata": {},
   "outputs": [
    {
     "data": {
      "text/html": [
       "<div>\n",
       "<style>\n",
       "    .dataframe thead tr:only-child th {\n",
       "        text-align: right;\n",
       "    }\n",
       "\n",
       "    .dataframe thead th {\n",
       "        text-align: left;\n",
       "    }\n",
       "\n",
       "    .dataframe tbody tr th {\n",
       "        vertical-align: top;\n",
       "    }\n",
       "</style>\n",
       "<table border=\"1\" class=\"dataframe\">\n",
       "  <thead>\n",
       "    <tr style=\"text-align: right;\">\n",
       "      <th></th>\n",
       "      <th>origin</th>\n",
       "      <th>destination</th>\n",
       "      <th>gtime</th>\n",
       "      <th>path</th>\n",
       "      <th>pathfinder_session</th>\n",
       "      <th>reversed</th>\n",
       "      <th>alighting_links</th>\n",
       "      <th>alightings</th>\n",
       "      <th>boarding_links</th>\n",
       "      <th>boardings</th>\n",
       "      <th>footpaths</th>\n",
       "      <th>link_path</th>\n",
       "      <th>node_path</th>\n",
       "      <th>ntlegs</th>\n",
       "      <th>transfers</th>\n",
       "      <th>all_walk</th>\n",
       "      <th>time_link_path</th>\n",
       "      <th>length_link_path</th>\n",
       "    </tr>\n",
       "  </thead>\n",
       "  <tbody>\n",
       "    <tr>\n",
       "      <th>0</th>\n",
       "      <td>zone_47</td>\n",
       "      <td>zone_47</td>\n",
       "      <td>0.000000</td>\n",
       "      <td>(zone_47,)</td>\n",
       "      <td>best_path</td>\n",
       "      <td>False</td>\n",
       "      <td>[]</td>\n",
       "      <td>[]</td>\n",
       "      <td>[]</td>\n",
       "      <td>[]</td>\n",
       "      <td>[]</td>\n",
       "      <td>[]</td>\n",
       "      <td>[]</td>\n",
       "      <td>[]</td>\n",
       "      <td>[]</td>\n",
       "      <td>True</td>\n",
       "      <td>0.0</td>\n",
       "      <td>0.0</td>\n",
       "    </tr>\n",
       "    <tr>\n",
       "      <th>1</th>\n",
       "      <td>zone_47</td>\n",
       "      <td>zone_45</td>\n",
       "      <td>670.320863</td>\n",
       "      <td>(zone_47, 39, zone_45)</td>\n",
       "      <td>best_path</td>\n",
       "      <td>False</td>\n",
       "      <td>[]</td>\n",
       "      <td>[]</td>\n",
       "      <td>[]</td>\n",
       "      <td>[]</td>\n",
       "      <td>[]</td>\n",
       "      <td>[]</td>\n",
       "      <td>[39]</td>\n",
       "      <td>[(zone_47, 39), (39, zone_45)]</td>\n",
       "      <td>[]</td>\n",
       "      <td>True</td>\n",
       "      <td>0.0</td>\n",
       "      <td>0.0</td>\n",
       "    </tr>\n",
       "    <tr>\n",
       "      <th>2</th>\n",
       "      <td>zone_47</td>\n",
       "      <td>zone_51</td>\n",
       "      <td>859.255501</td>\n",
       "      <td>(zone_47, 111, 952, zone_51)</td>\n",
       "      <td>best_path</td>\n",
       "      <td>False</td>\n",
       "      <td>[]</td>\n",
       "      <td>[]</td>\n",
       "      <td>[]</td>\n",
       "      <td>[]</td>\n",
       "      <td>[(111, 952)]</td>\n",
       "      <td>[]</td>\n",
       "      <td>[111, 952]</td>\n",
       "      <td>[(zone_47, 111), (952, zone_51)]</td>\n",
       "      <td>[]</td>\n",
       "      <td>True</td>\n",
       "      <td>0.0</td>\n",
       "      <td>0.0</td>\n",
       "    </tr>\n",
       "    <tr>\n",
       "      <th>3</th>\n",
       "      <td>zone_47</td>\n",
       "      <td>zone_48</td>\n",
       "      <td>1254.761320</td>\n",
       "      <td>(zone_47, 296, link_9906, link_9907, link_9908...</td>\n",
       "      <td>best_path</td>\n",
       "      <td>False</td>\n",
       "      <td>[link_9908]</td>\n",
       "      <td>[842]</td>\n",
       "      <td>[link_9906]</td>\n",
       "      <td>[296]</td>\n",
       "      <td>[]</td>\n",
       "      <td>[link_9906, link_9907, link_9908]</td>\n",
       "      <td>[296, 842]</td>\n",
       "      <td>[(zone_47, 296), (842, zone_48)]</td>\n",
       "      <td>[]</td>\n",
       "      <td>False</td>\n",
       "      <td>240.0</td>\n",
       "      <td>NaN</td>\n",
       "    </tr>\n",
       "    <tr>\n",
       "      <th>4</th>\n",
       "      <td>zone_47</td>\n",
       "      <td>zone_46</td>\n",
       "      <td>1266.502008</td>\n",
       "      <td>(zone_47, 296, 540, 835, zone_46)</td>\n",
       "      <td>best_path</td>\n",
       "      <td>False</td>\n",
       "      <td>[]</td>\n",
       "      <td>[]</td>\n",
       "      <td>[]</td>\n",
       "      <td>[]</td>\n",
       "      <td>[(296, 540), (540, 835)]</td>\n",
       "      <td>[]</td>\n",
       "      <td>[296, 540, 835]</td>\n",
       "      <td>[(zone_47, 296), (835, zone_46)]</td>\n",
       "      <td>[]</td>\n",
       "      <td>True</td>\n",
       "      <td>0.0</td>\n",
       "      <td>0.0</td>\n",
       "    </tr>\n",
       "  </tbody>\n",
       "</table>\n",
       "</div>"
      ],
      "text/plain": [
       "    origin destination        gtime  \\\n",
       "0  zone_47     zone_47     0.000000   \n",
       "1  zone_47     zone_45   670.320863   \n",
       "2  zone_47     zone_51   859.255501   \n",
       "3  zone_47     zone_48  1254.761320   \n",
       "4  zone_47     zone_46  1266.502008   \n",
       "\n",
       "                                                path pathfinder_session  \\\n",
       "0                                         (zone_47,)          best_path   \n",
       "1                             (zone_47, 39, zone_45)          best_path   \n",
       "2                       (zone_47, 111, 952, zone_51)          best_path   \n",
       "3  (zone_47, 296, link_9906, link_9907, link_9908...          best_path   \n",
       "4                  (zone_47, 296, 540, 835, zone_46)          best_path   \n",
       "\n",
       "   reversed alighting_links alightings boarding_links boardings  \\\n",
       "0     False              []         []             []        []   \n",
       "1     False              []         []             []        []   \n",
       "2     False              []         []             []        []   \n",
       "3     False     [link_9908]      [842]    [link_9906]     [296]   \n",
       "4     False              []         []             []        []   \n",
       "\n",
       "                  footpaths                          link_path  \\\n",
       "0                        []                                 []   \n",
       "1                        []                                 []   \n",
       "2              [(111, 952)]                                 []   \n",
       "3                        []  [link_9906, link_9907, link_9908]   \n",
       "4  [(296, 540), (540, 835)]                                 []   \n",
       "\n",
       "         node_path                            ntlegs transfers  all_walk  \\\n",
       "0               []                                []        []      True   \n",
       "1             [39]    [(zone_47, 39), (39, zone_45)]        []      True   \n",
       "2       [111, 952]  [(zone_47, 111), (952, zone_51)]        []      True   \n",
       "3       [296, 842]  [(zone_47, 296), (842, zone_48)]        []     False   \n",
       "4  [296, 540, 835]  [(zone_47, 296), (835, zone_46)]        []      True   \n",
       "\n",
       "   time_link_path  length_link_path  \n",
       "0             0.0               0.0  \n",
       "1             0.0               0.0  \n",
       "2             0.0               0.0  \n",
       "3           240.0               NaN  \n",
       "4             0.0               0.0  "
      ]
     },
     "execution_count": 7,
     "metadata": {},
     "output_type": "execute_result"
    }
   ],
   "source": [
    "sm.pt_los.head()"
   ]
  },
  {
   "cell_type": "markdown",
   "metadata": {},
   "source": [
    "On vérifie que gtime est bien la somme des différents temps mentionnés, pour une OD donnée : "
   ]
  },
  {
   "cell_type": "code",
   "execution_count": 8,
   "metadata": {},
   "outputs": [
    {
     "data": {
      "text/html": [
       "<div>\n",
       "<style>\n",
       "    .dataframe thead tr:only-child th {\n",
       "        text-align: right;\n",
       "    }\n",
       "\n",
       "    .dataframe thead th {\n",
       "        text-align: left;\n",
       "    }\n",
       "\n",
       "    .dataframe tbody tr th {\n",
       "        vertical-align: top;\n",
       "    }\n",
       "</style>\n",
       "<table border=\"1\" class=\"dataframe\">\n",
       "  <thead>\n",
       "    <tr style=\"text-align: right;\">\n",
       "      <th></th>\n",
       "      <th>origin</th>\n",
       "      <th>destination</th>\n",
       "      <th>gtime</th>\n",
       "      <th>path</th>\n",
       "      <th>pathfinder_session</th>\n",
       "      <th>reversed</th>\n",
       "      <th>alighting_links</th>\n",
       "      <th>alightings</th>\n",
       "      <th>boarding_links</th>\n",
       "      <th>boardings</th>\n",
       "      <th>footpaths</th>\n",
       "      <th>link_path</th>\n",
       "      <th>node_path</th>\n",
       "      <th>ntlegs</th>\n",
       "      <th>transfers</th>\n",
       "      <th>all_walk</th>\n",
       "      <th>time_link_path</th>\n",
       "      <th>length_link_path</th>\n",
       "    </tr>\n",
       "  </thead>\n",
       "  <tbody>\n",
       "    <tr>\n",
       "      <th>4581</th>\n",
       "      <td>zone_41</td>\n",
       "      <td>zone_73</td>\n",
       "      <td>2543.164439</td>\n",
       "      <td>(zone_41, 943, link_16540, link_16541, link_16...</td>\n",
       "      <td>best_path</td>\n",
       "      <td>False</td>\n",
       "      <td>[link_16542, link_15337]</td>\n",
       "      <td>[380, 219]</td>\n",
       "      <td>[link_16540, link_15329]</td>\n",
       "      <td>[943, 380]</td>\n",
       "      <td>[]</td>\n",
       "      <td>[link_16540, link_16541, link_16542, link_1532...</td>\n",
       "      <td>[943, 380, 219]</td>\n",
       "      <td>[(zone_41, 943), (219, zone_73)]</td>\n",
       "      <td>[380]</td>\n",
       "      <td>False</td>\n",
       "      <td>1080.0</td>\n",
       "      <td>NaN</td>\n",
       "    </tr>\n",
       "  </tbody>\n",
       "</table>\n",
       "</div>"
      ],
      "text/plain": [
       "       origin destination        gtime  \\\n",
       "4581  zone_41     zone_73  2543.164439   \n",
       "\n",
       "                                                   path pathfinder_session  \\\n",
       "4581  (zone_41, 943, link_16540, link_16541, link_16...          best_path   \n",
       "\n",
       "      reversed           alighting_links  alightings  \\\n",
       "4581     False  [link_16542, link_15337]  [380, 219]   \n",
       "\n",
       "                boarding_links   boardings footpaths  \\\n",
       "4581  [link_16540, link_15329]  [943, 380]        []   \n",
       "\n",
       "                                              link_path        node_path  \\\n",
       "4581  [link_16540, link_16541, link_16542, link_1532...  [943, 380, 219]   \n",
       "\n",
       "                                ntlegs transfers  all_walk  time_link_path  \\\n",
       "4581  [(zone_41, 943), (219, zone_73)]     [380]     False          1080.0   \n",
       "\n",
       "      length_link_path  \n",
       "4581               NaN  "
      ]
     },
     "execution_count": 8,
     "metadata": {},
     "output_type": "execute_result"
    }
   ],
   "source": [
    "df = sm.pt_los\n",
    "df[(df['origin']=='zone_41') & (df['destination']=='zone_73')]"
   ]
  },
  {
   "cell_type": "code",
   "execution_count": 9,
   "metadata": {},
   "outputs": [
    {
     "data": {
      "text/plain": [
       "2543.16443887475"
      ]
     },
     "execution_count": 9,
     "metadata": {},
     "output_type": "execute_result"
    }
   ],
   "source": [
    "my_gtime = df.loc[\n",
    "    (df['origin']=='zone_41') & (df['destination']=='zone_73'),'gtime'\n",
    "].iloc[0]\n",
    "my_gtime"
   ]
  },
  {
   "cell_type": "code",
   "execution_count": 10,
   "metadata": {
    "collapsed": true
   },
   "outputs": [],
   "source": [
    "my_fp = df.loc[\n",
    "    (df['origin']=='zone_41') & (df['destination']=='zone_73'),'footpaths'\n",
    "].iloc[0]\n",
    "\n",
    "my_boarding_links = df.loc[\n",
    "    (df['origin']=='zone_41') & (df['destination']=='zone_73'),'boarding_links'\n",
    "].iloc[0]\n",
    "\n",
    "my_nt_legs = df.loc[\n",
    "    (df['origin']=='zone_41') & (df['destination']=='zone_73'),'ntlegs'\n",
    "].iloc[0]\n",
    "\n",
    "my_pt_links = df.loc[\n",
    "    (df['origin']=='zone_41') & (df['destination']=='zone_73'),'link_path'\n",
    "].iloc[0]\n",
    "\n",
    "my_boardings = df.loc[\n",
    "    (df['origin']=='zone_41') & (df['destination']=='zone_73'),'boardings'\n",
    "].iloc[0]\n"
   ]
  },
  {
   "cell_type": "code",
   "execution_count": 11,
   "metadata": {
    "collapsed": true
   },
   "outputs": [],
   "source": [
    "pt_links_cost = sm.links.loc[my_pt_links].sum()['time']"
   ]
  },
  {
   "cell_type": "code",
   "execution_count": 12,
   "metadata": {
    "collapsed": true
   },
   "outputs": [],
   "source": [
    "boarding_cost = len(my_boardings) * 300"
   ]
  },
  {
   "cell_type": "code",
   "execution_count": 13,
   "metadata": {
    "collapsed": true
   },
   "outputs": [],
   "source": [
    "wait_cost = sm.links.loc[my_boarding_links].sum()['headway']/2"
   ]
  },
  {
   "cell_type": "code",
   "execution_count": 14,
   "metadata": {
    "collapsed": true
   },
   "outputs": [],
   "source": [
    "ntl = sm.zone_to_transit.set_index(['a','b'])\n",
    "ntl_cost = ntl.loc[my_nt_legs]['time'].sum()"
   ]
  },
  {
   "cell_type": "code",
   "execution_count": 15,
   "metadata": {
    "collapsed": true
   },
   "outputs": [],
   "source": [
    "fp = sm.footpaths.set_index(['a','b'])\n",
    "fp_cost = fp.loc[my_fp]['time'].sum()"
   ]
  },
  {
   "cell_type": "code",
   "execution_count": 16,
   "metadata": {},
   "outputs": [
    {
     "name": "stdout",
     "output_type": "stream",
     "text": [
      "Hourra ! \n"
     ]
    }
   ],
   "source": [
    "ecart  = my_gtime - (ntl_cost + wait_cost + pt_links_cost + fp_cost + boarding_cost )\n",
    "\n",
    "if ecart < 1e-4 :\n",
    "    print('Hourra ! ')\n",
    "else : \n",
    "    print('Hum Hum...')"
   ]
  },
  {
   "cell_type": "markdown",
   "metadata": {},
   "source": [
    "Calcul du taux de correspondance \"moyen\" (on ne pondère ici pas par les volumes) :"
   ]
  },
  {
   "cell_type": "code",
   "execution_count": 17,
   "metadata": {},
   "outputs": [
    {
     "data": {
      "text/plain": [
       "1.522809917355372"
      ]
     },
     "execution_count": 17,
     "metadata": {},
     "output_type": "execute_result"
    }
   ],
   "source": [
    "connexion_rate = len(sm.pt_los['boardings'].sum()) / len(sm.pt_los.index)\n",
    "connexion_rate"
   ]
  },
  {
   "cell_type": "markdown",
   "metadata": {},
   "source": [
    "Calcul du temps de parcours \"moyen\" (on ne pondère ici pas par les volumes) :"
   ]
  },
  {
   "cell_type": "code",
   "execution_count": 18,
   "metadata": {},
   "outputs": [
    {
     "data": {
      "text/plain": [
       "2326.1328232574156"
      ]
     },
     "execution_count": 18,
     "metadata": {},
     "output_type": "execute_result"
    }
   ],
   "source": [
    "average_travel_time = sm.pt_los['gtime'].mean()\n",
    "average_travel_time"
   ]
  },
  {
   "cell_type": "markdown",
   "metadata": {},
   "source": [
    "En montant la boarding penalty, on baisse le taux de correspondance : "
   ]
  },
  {
   "cell_type": "code",
   "execution_count": 19,
   "metadata": {},
   "outputs": [
    {
     "name": "stderr",
     "output_type": "stream",
     "text": [
      "zone_49 100%|████████████████████████████████████████████████████████████████████████| 110/110 [00:05<00:00, 19.85it/s]\n",
      "path_analysis: 100%|██████████████████████████████████████████████████████████| 12100/12100 [00:00<00:00, 27882.22it/s]\n"
     ]
    },
    {
     "data": {
      "text/plain": [
       "1.2368595041322314"
      ]
     },
     "execution_count": 19,
     "metadata": {},
     "output_type": "execute_result"
    }
   ],
   "source": [
    "sm.step_pt_pathfinder(\n",
    "    boarding_cost=600\n",
    ")\n",
    "connexion_rate = len(sm.pt_los['boardings'].sum()) / len(sm.pt_los.index)\n",
    "connexion_rate"
   ]
  },
  {
   "cell_type": "markdown",
   "metadata": {},
   "source": [
    "Et on a fait augmenter le temps de parcours"
   ]
  },
  {
   "cell_type": "code",
   "execution_count": 20,
   "metadata": {},
   "outputs": [
    {
     "data": {
      "text/plain": [
       "2735.208069008474"
      ]
     },
     "execution_count": 20,
     "metadata": {},
     "output_type": "execute_result"
    }
   ],
   "source": [
    "average_travel_time = sm.pt_los['gtime'].mean()\n",
    "average_travel_time"
   ]
  },
  {
   "cell_type": "markdown",
   "metadata": {},
   "source": [
    "# display"
   ]
  },
  {
   "cell_type": "markdown",
   "metadata": {},
   "source": [
    "Il peut être utile de visualiser un chemin. C'est faisable grâce au module display"
   ]
  },
  {
   "cell_type": "code",
   "execution_count": 21,
   "metadata": {},
   "outputs": [
    {
     "name": "stderr",
     "output_type": "stream",
     "text": [
      "Reprojecting model from epsg 2154 to epsg 4326: 100%|██████████████████████████████████| 32/32 [00:03<00:00,  8.02it/s]\n"
     ]
    }
   ],
   "source": [
    "projected = sm.change_epsg(4326, 'degree')"
   ]
  },
  {
   "cell_type": "code",
   "execution_count": 22,
   "metadata": {
    "scrolled": true
   },
   "outputs": [
    {
     "data": {
      "text/plain": [
       "<module 'quetzal.io.display' from '../../libraries/quetzal\\\\quetzal\\\\io\\\\display.py'>"
      ]
     },
     "execution_count": 22,
     "metadata": {},
     "output_type": "execute_result"
    }
   ],
   "source": [
    "from quetzal.io import display\n",
    "reload(display)"
   ]
  },
  {
   "cell_type": "markdown",
   "metadata": {},
   "source": [
    "# road path finder"
   ]
  },
  {
   "cell_type": "markdown",
   "metadata": {},
   "source": [
    "Recherche du plus court chemin pour les véhicules privés. Elle est faite sans congestion (pas de Wardrop). "
   ]
  },
  {
   "cell_type": "code",
   "execution_count": 23,
   "metadata": {},
   "outputs": [
    {
     "name": "stdout",
     "output_type": "stream",
     "text": [
      "FutureWarning: ça va changer\n"
     ]
    },
    {
     "name": "stderr",
     "output_type": "stream",
     "text": [
      "100%|████████████████████████████████████████████████████████████████████████████████| 110/110 [00:07<00:00, 15.03it/s]\n"
     ]
    }
   ],
   "source": [
    "sm.road_links['time'] = sm.road_links['length'] / 10 # m/s\n",
    "sm.step_road_pathfinder()"
   ]
  },
  {
   "cell_type": "code",
   "execution_count": 24,
   "metadata": {},
   "outputs": [
    {
     "name": "stderr",
     "output_type": "stream",
     "text": [
      "Reprojecting model from epsg 2154 to epsg 4326: 100%|██████████████████████████████████| 33/33 [00:04<00:00,  7.66it/s]\n"
     ]
    },
    {
     "data": {
      "text/html": [
       "<div style=\"width:100%;\"><div style=\"position:relative;width:100%;height:0;padding-bottom:60%;\"><iframe src=\"data:text/html;charset=utf-8;base64,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\" style=\"position:absolute;width:100%;height:100%;left:0;top:0;border:none !important;\" allowfullscreen webkitallowfullscreen mozallowfullscreen></iframe></div></div>"
      ],
      "text/plain": [
       "<folium.folium.Map at 0x1a3c2dcc630>"
      ]
     },
     "execution_count": 24,
     "metadata": {},
     "output_type": "execute_result"
    }
   ],
   "source": [
    "from imp import reload\n",
    "reload(display)\n",
    "projected = sm.change_epsg(4326, 'degree')\n",
    "display.car_path(projected, 'zone_41',  'zone_73')"
   ]
  },
  {
   "cell_type": "code",
   "execution_count": 25,
   "metadata": {
    "scrolled": true
   },
   "outputs": [
    {
     "name": "stderr",
     "output_type": "stream",
     "text": [
      "to_hdf(new file): 100%|████████████████████████████████████████████████████████████████| 33/33 [00:04<00:00,  7.71it/s]\n"
     ]
    }
   ],
   "source": [
    "sm.to_zip(training_folder + 'model/transport/bestpathfinder.zip')"
   ]
  },
  {
   "cell_type": "code",
   "execution_count": 26,
   "metadata": {},
   "outputs": [
    {
     "name": "stderr",
     "output_type": "stream",
     "text": [
      "to_hdf(overwriting): 100%|█████████████████████████████████████████████████████████████| 33/33 [00:19<00:00,  1.73it/s]\n"
     ]
    }
   ],
   "source": [
    "sm.to_json(training_folder + 'model/latest',\n",
    "          omitted_attributes=('road_links', 'road_nodes',\n",
    "          'networkcaster_neighbors', 'networkcaster_road_access')  \n",
    ")"
   ]
  },
  {
   "cell_type": "markdown",
   "metadata": {},
   "source": [
    "**Les développements en cours / à prévoir : **\n",
    "\n",
    "- Le multichemin public transport : existe déjà, on en parle à la fin de la session\n",
    "- Le road path_finder va évoluer, avec la prise en compte de la congestion (nécessite une imbrication recherche de chemin et affectation)"
   ]
  },
  {
   "cell_type": "markdown",
   "metadata": {},
   "source": [
    "# ZIP"
   ]
  }
 ],
 "metadata": {
  "kernelspec": {
   "display_name": "Python 3",
   "language": "python",
   "name": "python3"
  },
  "language_info": {
   "codemirror_mode": {
    "name": "ipython",
    "version": 3
   },
   "file_extension": ".py",
   "mimetype": "text/x-python",
   "name": "python",
   "nbconvert_exporter": "python",
   "pygments_lexer": "ipython3",
   "version": "3.6.1"
  }
 },
 "nbformat": 4,
 "nbformat_minor": 2
}
